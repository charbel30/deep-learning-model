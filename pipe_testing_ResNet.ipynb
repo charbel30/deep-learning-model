{
 "cells": [
  {
   "cell_type": "code",
   "execution_count": 110,
   "metadata": {},
   "outputs": [],
   "source": [
    "import pandas as pd\n",
    "import numpy as np\n",
    "import torch\n",
    "from torch import nn\n",
    "from torch.utils.data import TensorDataset, DataLoader\n",
    "from sklearn.impute import SimpleImputer\n",
    "import seaborn as sns\n",
    "from sklearn.metrics import  precision_score, recall_score, f1_score,balanced_accuracy_score\n",
    "import seaborn as sns\n",
    "from tqdm import tqdm\n",
    "from utils.Preprocessing_utils import output_selection_prepro\n",
    "from utils.heatmap_plots import plot_heat_map, plot_metrics\n",
    "from predict_model import test_model\n",
    "from sklearn.model_selection import train_test_split\n",
    "from sklearn.preprocessing import StandardScaler\n",
    "from models.FeedForwardNet.model import Net as Net\n",
    "from models.FeedForwardNet.model_3 import Net as Net3\n",
    "from models.FeedForwardNet.model_2 import Net as Net2\n",
    "from torchvision import models\n",
    "from torch.optim.lr_scheduler import StepLR, CyclicLR, ReduceLROnPlateau\n",
    "from utils.EarlyStopping import EarlyStopping\n",
    "from imblearn.combine import SMOTEENN, SMOTETomek\n",
    "import pytorch_warmup as warmup\n",
    "import matplotlib.pyplot as plt\n",
    "from IPython.display import Image\n",
    "from pytorch_tabnet.tab_model import TabNetClassifier"
   ]
  },
  {
   "cell_type": "code",
   "execution_count": 111,
   "metadata": {},
   "outputs": [],
   "source": [
    "df = pd.read_csv('data/raw/dukecathr.csv')\n",
    "device = torch.device(\"cuda:0\" if torch.cuda.is_available() else \"cpu\")"
   ]
  },
  {
   "cell_type": "code",
   "execution_count": 112,
   "metadata": {},
   "outputs": [],
   "source": [
    "\n",
    "train_losses=[]\n",
    "train_accu=[]\n",
    "eval_losses=[]\n",
    "eval_accu=[]\n",
    "balance_accuracy_list = []\n",
    "precision_list = []\n",
    "recall_list = []"
   ]
  },
  {
   "cell_type": "code",
   "execution_count": 113,
   "metadata": {},
   "outputs": [],
   "source": [
    "def train_epoch(model, dataloader, criterion, optimizer, lr_scheduler):\n",
    "    model.train()\n",
    "    running_loss = 0\n",
    "    correct = 0\n",
    "    total = 0\n",
    "    \n",
    "    for data in tqdm(dataloader):\n",
    "        inputs, labels = data[0].to(device), data[1].to(device)\n",
    "        optimizer.zero_grad()\n",
    "        outputs = model(inputs)\n",
    "        _, predicted = torch.max(outputs, 1)  # Get the predicted classes\n",
    "        total += labels.size(0)\n",
    "        correct += predicted.eq(labels).sum().item()\n",
    "        loss = criterion(outputs, labels)\n",
    "        loss.backward()\n",
    "        optimizer.step()\n",
    "        lr_scheduler.step()\n",
    "        running_loss += loss.item()\n",
    "    train_loss=running_loss/len(dataloader)\n",
    "    accu=100.*correct/total\n",
    "    return train_loss, accu"
   ]
  },
  {
   "cell_type": "code",
   "execution_count": 114,
   "metadata": {},
   "outputs": [],
   "source": [
    "def evaluate_epoch(model, dataloader, criterion):\n",
    "    model.eval()\n",
    "    running_loss = 0\n",
    "    correct = 0\n",
    "    total = 0\n",
    "    all_labels = []\n",
    "    all_preds = []\n",
    "    for data in dataloader:\n",
    "        inputs, labels = data[0].to(device), data[1].to(device)\n",
    "        outputs = model(inputs)\n",
    "        _, predicted = torch.max(outputs, 1)  # Get the predicted classes\n",
    "        total += labels.size(0)\n",
    "        correct += predicted.eq(labels).sum().item()\n",
    "        loss = criterion(outputs, labels)\n",
    "        running_loss += loss.item()\n",
    "        # Store all labels and predictions for metric calculation\n",
    "        all_labels.extend(labels.cpu().numpy())\n",
    "        all_preds.extend(predicted.detach().cpu().numpy())  # Detach the tensor before converting to numpy\n",
    "    test_loss=running_loss/len(dataloader)\n",
    "    test_accu=100.*correct/total\n",
    "    # Calculate metrics\n",
    "    balance_acc = balanced_accuracy_score(all_labels, all_preds)\n",
    "    precision = precision_score(all_labels, all_preds)\n",
    "    recall = recall_score(all_labels, all_preds)\n",
    "    return test_loss, test_accu, balance_acc, precision, recall"
   ]
  },
  {
   "cell_type": "code",
   "execution_count": 115,
   "metadata": {},
   "outputs": [],
   "source": [
    "def train_model(model, train_dataloader, test_dataloader, criterion, optimizer, num_epochs=25,target ='RCAST'):\n",
    "    model_path=F'models/FeedForwardNet/saved_models/{target}/best_model.pth'\n",
    "    model = model.to(device)\n",
    "    all_learning_rates = []\n",
    "    num_steps = len(train_dataloader) * num_epochs\n",
    "    lr_scheduler = torch.optim.lr_scheduler.CosineAnnealingLR(optimizer, T_max=num_steps)\n",
    "    #lr_scheduler = torch.optim.lr_scheduler.CosineAnnealingWarmRestarts(optimizer, T_0= 10, T_mult=2)\n",
    "    #lr_scheduler= torch.optim.lr_scheduler.ReduceLROnPlateau (optimizer,factor=0.3, patience=5)\n",
    "    warmup_scheduler = warmup.RAdamWarmup(optimizer) #https://arxiv.org/pdf/1910.04209.pdf\n",
    "    early_stopping = EarlyStopping(patience=30, verbose=True, model_path=model_path, delta=0.0001)\n",
    "\n",
    "    for epoch in range(num_epochs):\n",
    "        print(f'Epoch : {epoch+1}')\n",
    "        train_loss, accu = train_epoch(model, train_dataloader, criterion, optimizer, lr_scheduler,warmup_scheduler)\n",
    "        train_accu.append(accu)\n",
    "        train_losses.append(train_loss)\n",
    "        test_loss, test_accu, balance_acc, precision, recall = evaluate_epoch(model, test_dataloader, criterion)\n",
    "        eval_losses.append(test_loss)\n",
    "        eval_accu.append(test_accu)\n",
    "        balance_accuracy_list.append(balance_acc)\n",
    "        precision_list.append(precision)\n",
    "        recall_list.append(recall)\n",
    "        print(f'Train Loss: {train_loss:.3f} | Train Accuracy: {accu:.3f} | Test Loss: {test_loss:.3f} | Test Accuracy: {test_accu:.3f} | Balance Accuracy: {balance_acc:.3f} | Precision: {precision:.3f} | Recall: {recall:.3f}')\n",
    "        all_learning_rates.append(optimizer.param_groups[0][\"lr\"])\n",
    "        print(f'Learning rate: {optimizer.param_groups[0][\"lr\"]}')\n",
    "        #lr_scheduler.step()\n",
    "   \n",
    "            \n",
    "         # Print the current learning rate\n",
    "        # early_stopping(test_loss, model)\n",
    "        # if early_stopping.early_stop:\n",
    "        #     print(\"Early stopping\")\n",
    "        #     break\n",
    "        # Save the model if the balanced accuracy is higher than the current best\n",
    "        # if balance_acc > best_bal_acc:\n",
    "        #     print(f'Balanced accuracy increased ({best_bal_acc:.6f} --> {balance_acc:.6f}).  Saving model ...')\n",
    "        #     os.makedirs(os.path.dirname(model_path), exist_ok=True)\n",
    "        #     torch.save(model.state_dict(), model_path)  # Save the model\n",
    "        #     best_bal_acc = balance_acc  # Update the best balanced accuracy\n",
    "    plt.plot(all_learning_rates)\n",
    "    plt.show()\n",
    "        "
   ]
  },
  {
   "cell_type": "code",
   "execution_count": 116,
   "metadata": {},
   "outputs": [],
   "source": [
    "def evaluate_model(model, dataloader, criterion):\n",
    "    model = model.to(device)  # Move the model to the GPU\n",
    "    model.eval()  # Set model to evaluate mode\n",
    "    running_loss=0\n",
    "    correct=0\n",
    "    total=0\n",
    "    all_labels = []\n",
    "    all_preds = []\n",
    "    with torch.no_grad():\n",
    "        for data in tqdm(dataloader):\n",
    "            images,labels=data[0].to(device),data[1].to(device)\n",
    "            outputs=model(images)\n",
    "            loss= criterion(outputs,labels)\n",
    "            running_loss+=loss.item()\n",
    "            predicted = torch.round(torch.sigmoid(outputs))  # Apply sigmoid and round the output probabilities to get binary predictions\n",
    "            total += labels.size(0)\n",
    "            correct += predicted.eq(labels).sum().item()\n",
    "            # Store all labels and predictions for metric calculation\n",
    "            all_labels.extend(labels.cpu().numpy())\n",
    "            all_preds.extend(predicted.cpu().numpy())\n",
    "    test_loss=running_loss/len(dataloader)\n",
    "    accu=100.*correct/total\n",
    "    eval_losses.append(test_loss)\n",
    "    eval_accu.append(accu)\n",
    "    # Calculate metrics\n",
    "    balance_acc = balanced_accuracy_score(all_labels, all_preds)\n",
    "    precision = precision_score(all_labels, all_preds)\n",
    "    recall = recall_score(all_labels, all_preds)\n",
    "    # Append the metrics to the lists\n",
    "    balance_accuracy_list.append(balance_acc)\n",
    "    precision_list.append(precision)\n",
    "    recall_list.append(recall)\n",
    "    print(f'Test Loss: {test_loss:.3f} | Accuracy: {accu:.3f}')"
   ]
  },
  {
   "cell_type": "code",
   "execution_count": 117,
   "metadata": {},
   "outputs": [],
   "source": [
    "from pytorch_tabnet.tab_model import TabNetClassifier\n",
    "\n",
    "def process_target(df, target):\n",
    "    # Step 1: Preprocess the data\n",
    "    X, y, num_cols, cat_cols = output_selection_prepro(df, target)\n",
    "\n",
    "    # Split the data into train and test sets\n",
    "    X_train, X_test, y_train, y_test = train_test_split(X, y, test_size=0.25)\n",
    "    # get how much 0 and 1 in y_train \n",
    "    unique, counts = np.unique(y_train, return_counts=True)\n",
    "    print(dict(zip(unique, counts)))\n",
    "    \n",
    "    Scaler = StandardScaler()\n",
    "    X_train = Scaler.fit_transform(X_train)\n",
    "    X_test = Scaler.transform(X_test)\n",
    "    \n",
    "    input_dim = X_train.shape[1]\n",
    "    # Define the model\n",
    "    model = TabNetClassifier(\n",
    "       \n",
    "        input_dim=input_dim, output_dim=1,\n",
    "    )\n",
    "    \n",
    "    # Train the model\n",
    "    max_epochs = 150\n",
    "    model.fit(\n",
    "        X_train=X_train, y_train=y_train,\n",
    "        eval_set=[(X_train, y_train), (X_test, y_test)],\n",
    "        eval_name=['train', 'valid'],\n",
    "        eval_metric=['balanced_accuracy'],\n",
    "        max_epochs=max_epochs,\n",
    "        patience=30,\n",
    "        batch_size=2048, virtual_batch_size=1024,\n",
    "        num_workers=0,\n",
    "        weights=1,\n",
    "        drop_last=False\n",
    "    )\n",
    "\n",
    "    # Evaluate the model\n",
    "    preds = model.predict(X_test)\n",
    "    test_accu = (preds == y_test).mean()\n",
    "    print(f'Test Accuracy: {test_accu:.3f}')\n"
   ]
  },
  {
   "cell_type": "code",
   "execution_count": 118,
   "metadata": {},
   "outputs": [
    {
     "name": "stdout",
     "output_type": "stream",
     "text": [
      "Loading data from data/processed/RCAST/imputed_data_RCAST.csv...\n"
     ]
    },
    {
     "name": "stdout",
     "output_type": "stream",
     "text": [
      "No missing values found.\n",
      "Final X columns: ['RDAYSFROMINDEX', 'RSEQCATHNUM', 'RSUBJID', 'YRCATH_G', 'AGE_G', 'GENDER', 'RACE_G', 'DPCABG', 'DPMI', 'DPPCI', 'HXANGINA', 'HXCEREB', 'HXCHF', 'HXCOPD', 'HXDIAB', 'HXHTN', 'HXHYL', 'HXMI', 'HXSMOKE', 'NUMPRMI', 'DIASBP_R', 'PULSE_R', 'SYSBP_R', 'CBRUITS', 'HEIGHT_R', 'S3', 'WEIGHT_R', 'CREATININE_R', 'HDL_R', 'LDL_R', 'TOTCHOL_R', 'CATHAPPR', 'DIAGCATH', 'INTVCATH', 'CORDOM', 'GRAFTST', 'LVEF_R', 'DAYS2LKA', 'DSCABG', 'DSMI', 'DSPCI', 'DSSTROKE', 'FUPROTCL']\n",
      "{0: 19109, 1: 31141}\n"
     ]
    },
    {
     "name": "stderr",
     "output_type": "stream",
     "text": [
      "c:\\Users\\charb\\.conda\\envs\\mlenv\\Lib\\site-packages\\pytorch_tabnet\\abstract_model.py:82: UserWarning: Device used : cuda\n",
      "  warnings.warn(f\"Device used : {self.device}\")\n"
     ]
    },
    {
     "name": "stdout",
     "output_type": "stream",
     "text": [
      "epoch 0  | loss: 0.71983 | train_balanced_accuracy: 0.55869 | valid_balanced_accuracy: 0.55945 |  0:00:02s\n",
      "epoch 1  | loss: 0.62706 | train_balanced_accuracy: 0.62339 | valid_balanced_accuracy: 0.62106 |  0:00:05s\n",
      "epoch 2  | loss: 0.59855 | train_balanced_accuracy: 0.66363 | valid_balanced_accuracy: 0.65705 |  0:00:08s\n",
      "epoch 3  | loss: 0.5786  | train_balanced_accuracy: 0.67589 | valid_balanced_accuracy: 0.66988 |  0:00:10s\n",
      "epoch 4  | loss: 0.57039 | train_balanced_accuracy: 0.69017 | valid_balanced_accuracy: 0.68116 |  0:00:13s\n",
      "epoch 5  | loss: 0.56148 | train_balanced_accuracy: 0.70142 | valid_balanced_accuracy: 0.69592 |  0:00:16s\n",
      "epoch 6  | loss: 0.55216 | train_balanced_accuracy: 0.70374 | valid_balanced_accuracy: 0.69323 |  0:00:18s\n",
      "epoch 7  | loss: 0.54934 | train_balanced_accuracy: 0.70926 | valid_balanced_accuracy: 0.69996 |  0:00:21s\n",
      "epoch 8  | loss: 0.54323 | train_balanced_accuracy: 0.71042 | valid_balanced_accuracy: 0.70122 |  0:00:24s\n",
      "epoch 9  | loss: 0.53736 | train_balanced_accuracy: 0.70789 | valid_balanced_accuracy: 0.69582 |  0:00:26s\n",
      "epoch 10 | loss: 0.53655 | train_balanced_accuracy: 0.71407 | valid_balanced_accuracy: 0.70235 |  0:00:29s\n",
      "epoch 11 | loss: 0.52992 | train_balanced_accuracy: 0.70964 | valid_balanced_accuracy: 0.69748 |  0:00:31s\n",
      "epoch 12 | loss: 0.53062 | train_balanced_accuracy: 0.71096 | valid_balanced_accuracy: 0.70103 |  0:00:34s\n",
      "epoch 13 | loss: 0.52969 | train_balanced_accuracy: 0.7225  | valid_balanced_accuracy: 0.71257 |  0:00:37s\n",
      "epoch 14 | loss: 0.52475 | train_balanced_accuracy: 0.71974 | valid_balanced_accuracy: 0.70984 |  0:00:40s\n",
      "epoch 15 | loss: 0.5228  | train_balanced_accuracy: 0.71948 | valid_balanced_accuracy: 0.7074  |  0:00:42s\n",
      "epoch 16 | loss: 0.52426 | train_balanced_accuracy: 0.72446 | valid_balanced_accuracy: 0.71011 |  0:00:45s\n",
      "epoch 17 | loss: 0.52184 | train_balanced_accuracy: 0.72623 | valid_balanced_accuracy: 0.71245 |  0:00:47s\n",
      "epoch 18 | loss: 0.52218 | train_balanced_accuracy: 0.72477 | valid_balanced_accuracy: 0.71483 |  0:00:50s\n",
      "epoch 19 | loss: 0.52082 | train_balanced_accuracy: 0.72763 | valid_balanced_accuracy: 0.71446 |  0:00:53s\n",
      "epoch 20 | loss: 0.51687 | train_balanced_accuracy: 0.72897 | valid_balanced_accuracy: 0.71464 |  0:00:56s\n",
      "epoch 21 | loss: 0.51884 | train_balanced_accuracy: 0.72815 | valid_balanced_accuracy: 0.71264 |  0:00:58s\n",
      "epoch 22 | loss: 0.51668 | train_balanced_accuracy: 0.72903 | valid_balanced_accuracy: 0.71352 |  0:01:01s\n",
      "epoch 23 | loss: 0.51507 | train_balanced_accuracy: 0.73093 | valid_balanced_accuracy: 0.7146  |  0:01:04s\n",
      "epoch 24 | loss: 0.51175 | train_balanced_accuracy: 0.73111 | valid_balanced_accuracy: 0.71713 |  0:01:06s\n",
      "epoch 25 | loss: 0.51351 | train_balanced_accuracy: 0.73355 | valid_balanced_accuracy: 0.71367 |  0:01:09s\n",
      "epoch 26 | loss: 0.50825 | train_balanced_accuracy: 0.73143 | valid_balanced_accuracy: 0.71412 |  0:01:12s\n",
      "epoch 27 | loss: 0.51281 | train_balanced_accuracy: 0.7319  | valid_balanced_accuracy: 0.71662 |  0:01:15s\n",
      "epoch 28 | loss: 0.5144  | train_balanced_accuracy: 0.73141 | valid_balanced_accuracy: 0.71412 |  0:01:18s\n",
      "epoch 29 | loss: 0.50877 | train_balanced_accuracy: 0.73478 | valid_balanced_accuracy: 0.71399 |  0:01:20s\n",
      "epoch 30 | loss: 0.51214 | train_balanced_accuracy: 0.73688 | valid_balanced_accuracy: 0.71565 |  0:01:23s\n",
      "epoch 31 | loss: 0.50525 | train_balanced_accuracy: 0.73414 | valid_balanced_accuracy: 0.71591 |  0:01:26s\n",
      "epoch 32 | loss: 0.50593 | train_balanced_accuracy: 0.7351  | valid_balanced_accuracy: 0.71548 |  0:01:28s\n",
      "epoch 33 | loss: 0.50635 | train_balanced_accuracy: 0.73566 | valid_balanced_accuracy: 0.71185 |  0:01:31s\n",
      "epoch 34 | loss: 0.50795 | train_balanced_accuracy: 0.73864 | valid_balanced_accuracy: 0.71433 |  0:01:33s\n",
      "epoch 35 | loss: 0.50567 | train_balanced_accuracy: 0.73654 | valid_balanced_accuracy: 0.71575 |  0:01:36s\n",
      "epoch 36 | loss: 0.50531 | train_balanced_accuracy: 0.73641 | valid_balanced_accuracy: 0.71934 |  0:01:39s\n",
      "epoch 37 | loss: 0.5027  | train_balanced_accuracy: 0.73387 | valid_balanced_accuracy: 0.7165  |  0:01:41s\n",
      "epoch 38 | loss: 0.50286 | train_balanced_accuracy: 0.73553 | valid_balanced_accuracy: 0.71132 |  0:01:44s\n",
      "epoch 39 | loss: 0.50897 | train_balanced_accuracy: 0.73439 | valid_balanced_accuracy: 0.71198 |  0:01:46s\n",
      "epoch 40 | loss: 0.50332 | train_balanced_accuracy: 0.73649 | valid_balanced_accuracy: 0.70587 |  0:01:49s\n",
      "epoch 41 | loss: 0.50109 | train_balanced_accuracy: 0.73898 | valid_balanced_accuracy: 0.71461 |  0:01:52s\n",
      "epoch 42 | loss: 0.50441 | train_balanced_accuracy: 0.736   | valid_balanced_accuracy: 0.71369 |  0:01:54s\n",
      "epoch 43 | loss: 0.49924 | train_balanced_accuracy: 0.73771 | valid_balanced_accuracy: 0.71529 |  0:01:57s\n",
      "epoch 44 | loss: 0.49988 | train_balanced_accuracy: 0.73478 | valid_balanced_accuracy: 0.71146 |  0:02:00s\n",
      "epoch 45 | loss: 0.49978 | train_balanced_accuracy: 0.74033 | valid_balanced_accuracy: 0.7133  |  0:02:02s\n",
      "epoch 46 | loss: 0.50057 | train_balanced_accuracy: 0.74219 | valid_balanced_accuracy: 0.7132  |  0:02:05s\n",
      "epoch 47 | loss: 0.49613 | train_balanced_accuracy: 0.74419 | valid_balanced_accuracy: 0.71485 |  0:02:07s\n",
      "epoch 48 | loss: 0.49404 | train_balanced_accuracy: 0.74321 | valid_balanced_accuracy: 0.71731 |  0:02:10s\n",
      "epoch 49 | loss: 0.49447 | train_balanced_accuracy: 0.74344 | valid_balanced_accuracy: 0.71662 |  0:02:12s\n",
      "epoch 50 | loss: 0.49164 | train_balanced_accuracy: 0.73881 | valid_balanced_accuracy: 0.71387 |  0:02:15s\n",
      "epoch 51 | loss: 0.4921  | train_balanced_accuracy: 0.73864 | valid_balanced_accuracy: 0.7131  |  0:02:18s\n",
      "epoch 52 | loss: 0.49513 | train_balanced_accuracy: 0.7423  | valid_balanced_accuracy: 0.71324 |  0:02:20s\n",
      "epoch 53 | loss: 0.49245 | train_balanced_accuracy: 0.74421 | valid_balanced_accuracy: 0.71946 |  0:02:23s\n",
      "epoch 54 | loss: 0.48927 | train_balanced_accuracy: 0.74456 | valid_balanced_accuracy: 0.71592 |  0:02:26s\n",
      "epoch 55 | loss: 0.49361 | train_balanced_accuracy: 0.74392 | valid_balanced_accuracy: 0.71577 |  0:02:28s\n",
      "epoch 56 | loss: 0.49212 | train_balanced_accuracy: 0.74419 | valid_balanced_accuracy: 0.71352 |  0:02:31s\n",
      "epoch 57 | loss: 0.48917 | train_balanced_accuracy: 0.74509 | valid_balanced_accuracy: 0.71486 |  0:02:33s\n",
      "epoch 58 | loss: 0.48628 | train_balanced_accuracy: 0.74338 | valid_balanced_accuracy: 0.71775 |  0:02:36s\n",
      "epoch 59 | loss: 0.49202 | train_balanced_accuracy: 0.74488 | valid_balanced_accuracy: 0.71597 |  0:02:39s\n",
      "epoch 60 | loss: 0.48991 | train_balanced_accuracy: 0.74626 | valid_balanced_accuracy: 0.7201  |  0:02:42s\n",
      "epoch 61 | loss: 0.49077 | train_balanced_accuracy: 0.74575 | valid_balanced_accuracy: 0.7143  |  0:02:44s\n",
      "epoch 62 | loss: 0.49323 | train_balanced_accuracy: 0.747   | valid_balanced_accuracy: 0.71795 |  0:02:47s\n",
      "epoch 63 | loss: 0.4858  | train_balanced_accuracy: 0.74754 | valid_balanced_accuracy: 0.71789 |  0:02:49s\n",
      "epoch 64 | loss: 0.48728 | train_balanced_accuracy: 0.74634 | valid_balanced_accuracy: 0.71507 |  0:02:52s\n",
      "epoch 65 | loss: 0.48774 | train_balanced_accuracy: 0.74824 | valid_balanced_accuracy: 0.71834 |  0:02:55s\n",
      "epoch 66 | loss: 0.48458 | train_balanced_accuracy: 0.74863 | valid_balanced_accuracy: 0.71271 |  0:02:57s\n",
      "epoch 67 | loss: 0.48628 | train_balanced_accuracy: 0.74777 | valid_balanced_accuracy: 0.7184  |  0:03:00s\n",
      "epoch 68 | loss: 0.48401 | train_balanced_accuracy: 0.74605 | valid_balanced_accuracy: 0.72023 |  0:03:02s\n",
      "epoch 69 | loss: 0.48423 | train_balanced_accuracy: 0.74982 | valid_balanced_accuracy: 0.71795 |  0:03:05s\n",
      "epoch 70 | loss: 0.48613 | train_balanced_accuracy: 0.74911 | valid_balanced_accuracy: 0.72043 |  0:03:08s\n",
      "epoch 71 | loss: 0.48788 | train_balanced_accuracy: 0.74532 | valid_balanced_accuracy: 0.71865 |  0:03:10s\n",
      "epoch 72 | loss: 0.4858  | train_balanced_accuracy: 0.7485  | valid_balanced_accuracy: 0.72039 |  0:03:13s\n",
      "epoch 73 | loss: 0.48317 | train_balanced_accuracy: 0.74537 | valid_balanced_accuracy: 0.7175  |  0:03:16s\n",
      "epoch 74 | loss: 0.4848  | train_balanced_accuracy: 0.74384 | valid_balanced_accuracy: 0.71037 |  0:03:18s\n",
      "epoch 75 | loss: 0.48885 | train_balanced_accuracy: 0.74287 | valid_balanced_accuracy: 0.70981 |  0:03:21s\n",
      "epoch 76 | loss: 0.48533 | train_balanced_accuracy: 0.74355 | valid_balanced_accuracy: 0.71034 |  0:03:24s\n",
      "epoch 77 | loss: 0.48536 | train_balanced_accuracy: 0.74763 | valid_balanced_accuracy: 0.71811 |  0:03:26s\n",
      "epoch 78 | loss: 0.48188 | train_balanced_accuracy: 0.74802 | valid_balanced_accuracy: 0.71518 |  0:03:29s\n",
      "epoch 79 | loss: 0.48355 | train_balanced_accuracy: 0.75234 | valid_balanced_accuracy: 0.71756 |  0:03:31s\n",
      "epoch 80 | loss: 0.4808  | train_balanced_accuracy: 0.75234 | valid_balanced_accuracy: 0.71405 |  0:03:34s\n",
      "epoch 81 | loss: 0.4803  | train_balanced_accuracy: 0.74819 | valid_balanced_accuracy: 0.71881 |  0:03:37s\n",
      "epoch 82 | loss: 0.47793 | train_balanced_accuracy: 0.75267 | valid_balanced_accuracy: 0.71306 |  0:03:39s\n",
      "epoch 83 | loss: 0.48198 | train_balanced_accuracy: 0.75038 | valid_balanced_accuracy: 0.7113  |  0:03:42s\n",
      "epoch 84 | loss: 0.48064 | train_balanced_accuracy: 0.75205 | valid_balanced_accuracy: 0.71727 |  0:03:44s\n",
      "epoch 85 | loss: 0.47776 | train_balanced_accuracy: 0.75135 | valid_balanced_accuracy: 0.71827 |  0:03:47s\n",
      "epoch 86 | loss: 0.47785 | train_balanced_accuracy: 0.75137 | valid_balanced_accuracy: 0.7125  |  0:03:50s\n",
      "epoch 87 | loss: 0.47739 | train_balanced_accuracy: 0.75122 | valid_balanced_accuracy: 0.71461 |  0:03:52s\n",
      "epoch 88 | loss: 0.47975 | train_balanced_accuracy: 0.75065 | valid_balanced_accuracy: 0.71229 |  0:03:55s\n",
      "epoch 89 | loss: 0.47824 | train_balanced_accuracy: 0.75256 | valid_balanced_accuracy: 0.71083 |  0:03:57s\n",
      "epoch 90 | loss: 0.47913 | train_balanced_accuracy: 0.75197 | valid_balanced_accuracy: 0.71338 |  0:04:00s\n",
      "epoch 91 | loss: 0.47872 | train_balanced_accuracy: 0.74977 | valid_balanced_accuracy: 0.7142  |  0:04:02s\n",
      "epoch 92 | loss: 0.48036 | train_balanced_accuracy: 0.75285 | valid_balanced_accuracy: 0.71522 |  0:04:05s\n",
      "epoch 93 | loss: 0.47889 | train_balanced_accuracy: 0.75216 | valid_balanced_accuracy: 0.71274 |  0:04:08s\n",
      "epoch 94 | loss: 0.47487 | train_balanced_accuracy: 0.75379 | valid_balanced_accuracy: 0.71472 |  0:04:10s\n",
      "epoch 95 | loss: 0.47873 | train_balanced_accuracy: 0.74489 | valid_balanced_accuracy: 0.70653 |  0:04:13s\n",
      "epoch 96 | loss: 0.47871 | train_balanced_accuracy: 0.7521  | valid_balanced_accuracy: 0.71073 |  0:04:16s\n",
      "epoch 97 | loss: 0.47674 | train_balanced_accuracy: 0.75138 | valid_balanced_accuracy: 0.71746 |  0:04:18s\n",
      "epoch 98 | loss: 0.4809  | train_balanced_accuracy: 0.7521  | valid_balanced_accuracy: 0.71168 |  0:04:21s\n",
      "epoch 99 | loss: 0.47536 | train_balanced_accuracy: 0.75512 | valid_balanced_accuracy: 0.71713 |  0:04:23s\n",
      "epoch 100| loss: 0.47491 | train_balanced_accuracy: 0.75163 | valid_balanced_accuracy: 0.71422 |  0:04:26s\n",
      "\n",
      "Early stopping occurred at epoch 100 with best_epoch = 70 and best_valid_balanced_accuracy = 0.72043\n"
     ]
    },
    {
     "name": "stderr",
     "output_type": "stream",
     "text": [
      "c:\\Users\\charb\\.conda\\envs\\mlenv\\Lib\\site-packages\\pytorch_tabnet\\callbacks.py:172: UserWarning: Best weights from best epoch are automatically used!\n",
      "  warnings.warn(wrn_msg)\n"
     ]
    },
    {
     "name": "stdout",
     "output_type": "stream",
     "text": [
      "Test Accuracy: 0.723\n"
     ]
    }
   ],
   "source": [
    "process_target(df, 'RCAST')"
   ]
  },
  {
   "cell_type": "code",
   "execution_count": 119,
   "metadata": {},
   "outputs": [
    {
     "data": {
      "image/png": "[encoded data removed]",
      "text/plain": [
       "<Figure size 2500x400 with 5 Axes>"
      ]
     },
     "metadata": {},
     "output_type": "display_data"
    }
   ],
   "source": [
    "# plot the loss and accuracy and\n",
    "metrics = {\n",
    "    'train_losses': train_losses,\n",
    "    'train_accu': train_accu,\n",
    "    'eval_losses': eval_losses,\n",
    "    'eval_accu': eval_accu,\n",
    "    'balance_accuracy_list': balance_accuracy_list,\n",
    "    'precision_list': precision_list,\n",
    "    'recall_list': recall_list\n",
    "}\n",
    "plot_metrics(metrics, ['loss', 'accuracy', 'balance_accuracy', 'recall', 'precision'])"
   ]
  },
  {
   "cell_type": "code",
   "execution_count": 120,
   "metadata": {},
   "outputs": [
    {
     "ename": "TypeError",
     "evalue": "test_model() takes 1 positional argument but 2 were given",
     "output_type": "error",
     "traceback": [
      "\u001b[1;31m---------------------------------------------------------------------------\u001b[0m",
      "\u001b[1;31mTypeError\u001b[0m                                 Traceback (most recent call last)",
      "\u001b[1;32mc:\\Users\\charb\\Documents\\deep learning model\\pipe_testing_ResNet.ipynb Cell 11\u001b[0m line \u001b[0;36m1\n\u001b[1;32m----> <a href='vscode-notebook-cell:/c%3A/Users/charb/Documents/deep%20learning%20model/pipe_testing_ResNet.ipynb#X13sZmlsZQ%3D%3D?line=0'>1</a>\u001b[0m accuracy, precision, recall, balance_accuracy \u001b[39m=\u001b[39m test_model(\u001b[39m'\u001b[39;49m\u001b[39mmodels/FeedForwardNet/saved_model.pth\u001b[39;49m\u001b[39m'\u001b[39;49m, \u001b[39m'\u001b[39;49m\u001b[39mRCAST\u001b[39;49m\u001b[39m'\u001b[39;49m)\n",
      "\u001b[1;31mTypeError\u001b[0m: test_model() takes 1 positional argument but 2 were given"
     ]
    }
   ],
   "source": [
    "accuracy, precision, recall, balance_accuracy = test_model('models/FeedForwardNet/saved_model.pth', 'RCAST')"
   ]
  },
  {
   "cell_type": "code",
   "execution_count": null,
   "metadata": {},
   "outputs": [
    {
     "name": "stdout",
     "output_type": "stream",
     "text": [
      "Accuracy: 0.749 | Precision: 0.775 | Recall: 0.839 | Balance Accuracy: 0.720\n"
     ]
    }
   ],
   "source": [
    "print(f'Accuracy: {accuracy:.3f} | Precision: {precision:.3f} | Recall: {recall:.3f} | Balance Accuracy: {balance_accuracy:.3f}')"
   ]
  }
 ],
 "metadata": {
  "kernelspec": {
   "display_name": "mlenv",
   "language": "python",
   "name": "python3"
  },
  "language_info": {
   "codemirror_mode": {
    "name": "ipython",
    "version": 3
   },
   "file_extension": ".py",
   "mimetype": "text/x-python",
   "name": "python",
   "nbconvert_exporter": "python",
   "pygments_lexer": "ipython3",
   "version": "3.11.4"
  },
  "orig_nbformat": 4
 },
 "nbformat": 4,
 "nbformat_minor": 2
}
