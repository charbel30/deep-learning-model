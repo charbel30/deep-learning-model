{
 "cells": [
  {
   "cell_type": "code",
   "execution_count": 12,
   "metadata": {},
   "outputs": [],
   "source": [
    "\n",
    "import pandas as pd\n",
    "import numpy as np\n",
    "import torch\n",
    "from torch import nn\n",
    "from torch.utils.data import TensorDataset, DataLoader\n",
    "from sklearn.metrics import  precision_score, recall_score,balanced_accuracy_score\n",
    "import seaborn as sns\n",
    "from tqdm import tqdm\n",
    "from utils.Preprocessing_utils import output_selection_prepro\n",
    "from utils.heatmap_plots import plot_heat_map, plot_metrics\n",
    "from predict_model import test_model\n",
    "from sklearn.model_selection import train_test_split\n",
    "from sklearn.preprocessing import StandardScaler\n",
    "from models.FeedForwardNet.medium_complexity_model import Net as Net3\n",
    "from torch.optim.lr_scheduler import StepLR, CyclicLR, ReduceLROnPlateau\n",
    "from utils.EarlyStopping import EarlyStopping\n",
    "from imblearn.combine import SMOTEENN, SMOTETomek\n",
    "import pytorch_warmup as warmup\n",
    "import matplotlib.pyplot as plt\n",
    "import os\n",
    "import torch.nn.functional as F\n"
   ]
  },
  {
   "cell_type": "code",
   "execution_count": 13,
   "metadata": {},
   "outputs": [],
   "source": [
    "df = pd.read_csv('data/raw/dukecathr.csv')# Read the data\n",
    "device = torch.device(\"cuda:0\" if torch.cuda.is_available() else \"cpu\")# Check whether a GPU is present, if yes then use it"
   ]
  },
  {
   "cell_type": "code",
   "execution_count": 14,
   "metadata": {},
   "outputs": [],
   "source": [
    "#lists to store the results\n",
    "train_losses=[]\n",
    "train_accu=[]\n",
    "eval_losses=[]\n",
    "eval_accu=[]\n",
    "balance_accuracy_list = []\n",
    "precision_list = []\n",
    "recall_list = []"
   ]
  },
  {
   "cell_type": "markdown",
   "metadata": {},
   "source": [
    "### `train_epoch` Function\n",
    "\n",
    "This function is responsible for training the model for one epoch. It iterates over the provided dataloader, computes the predictions using the model, calculates the loss, performs backpropagation, and updates the model parameters using the optimizer. The running loss and the number of correct predictions are accumulated over all the batches. The training loss and accuracy for the epoch are then calculated and returned.\n",
    "\n",
    "- `model`: The model to be trained.\n",
    "- `dataloader`: The PyTorch dataloader for training data.\n",
    "- `criterion`: The loss function.\n",
    "- `optimizer`: The optimizer (e.g., SGD, Adam).\n",
    "- `lr_scheduler`: Learning rate scheduler.\n",
    "- `warmup_scheduler`: Scheduler to warm up the learning rate over a certain amount of epochs."
   ]
  },
  {
   "cell_type": "code",
   "execution_count": 15,
   "metadata": {},
   "outputs": [],
   "source": [
    "def train_epoch(model, dataloader, criterion, optimizer, lr_scheduler, warmup_scheduler):\n",
    "    model.train()\n",
    "    running_loss = 0\n",
    "    correct = 0\n",
    "    total = 0\n",
    "    \n",
    "    for data in tqdm(dataloader):\n",
    "        inputs, labels = data[0].to(device), data[1].to(device)\n",
    "        optimizer.zero_grad()\n",
    "        pred = model(inputs)\n",
    "        predicted = torch.round(pred)  # Round the output probabilities to get binary predictions\n",
    "        total += labels.size(0)\n",
    "        correct += predicted.eq(labels).sum().item()\n",
    "        loss = criterion(pred, labels)\n",
    "        loss.backward()\n",
    "        optimizer.step()\n",
    "        with warmup_scheduler.dampening():\n",
    "              lr_scheduler.step()\n",
    "        running_loss += loss.item()\n",
    "    train_loss=running_loss/len(dataloader)\n",
    "    accu=100.*correct/total\n",
    "    return train_loss, accu"
   ]
  },
  {
   "cell_type": "markdown",
   "metadata": {},
   "source": [
    "### `evaluate_epoch` Function\n",
    "\n",
    "This function is responsible for evaluating the model after one epoch. It iterates over the provided dataloader, computes the predictions using the model, and calculates the loss. The running loss and the number of correct predictions are accumulated over all the batches. The evaluation loss, accuracy, balanced accuracy, precision, and recall for the epoch are then calculated and returned.\n",
    "\n",
    "- `model`: The model to be evaluated.\n",
    "- `dataloader`: The PyTorch dataloader for evaluation data.\n",
    "- `criterion`: The loss function."
   ]
  },
  {
   "cell_type": "code",
   "execution_count": 16,
   "metadata": {},
   "outputs": [],
   "source": [
    "def evaluate_epoch(model, dataloader, criterion):\n",
    "    model.eval()\n",
    "    running_loss = 0\n",
    "    correct = 0\n",
    "    total = 0\n",
    "    all_labels = []\n",
    "    all_preds = []\n",
    "    for data in dataloader:\n",
    "        inputs, labels = data[0].to(device), data[1].to(device)\n",
    "        outputs = model(inputs)\n",
    "        predicted = torch.round(outputs)  # Round the output probabilities to get binary predictions\n",
    "        total += labels.size(0)\n",
    "        correct += predicted.eq(labels).sum().item()# Count the number of correct predictions\n",
    "        loss = criterion(outputs, labels)# Calculate the loss for current batch\n",
    "        running_loss += loss.item()# Accumulate the loss for each batch\n",
    "\n",
    "        # Store all labels and predictions for metric calculation\n",
    "        all_labels.extend(labels.cpu().numpy())\n",
    "        all_preds.extend(predicted.detach().cpu().numpy())  # Detach the tensor before converting to numpy\n",
    "            \n",
    "    test_loss=running_loss/len(dataloader)\n",
    "    test_accu=100.*correct/total\n",
    "\n",
    "    # Calculate metrics\n",
    "    balance_acc = balanced_accuracy_score(all_labels, all_preds)\n",
    "    precision = precision_score(all_labels, all_preds)\n",
    "    recall = recall_score(all_labels, all_preds)\n",
    "\n",
    "    return test_loss, test_accu, balance_acc, precision, recall"
   ]
  },
  {
   "cell_type": "markdown",
   "metadata": {},
   "source": [
    "### `train_model` Function\n",
    "\n",
    "This function is responsible for training the model for a specified number of epochs and evaluating it after each epoch. It calls the `train_epoch` and `evaluate_epoch` functions inside a loop for a specified number of epochs. After each epoch, it saves the model if the balanced accuracy is higher than the current best.\n",
    "\n",
    "- `model`: The model to be trained.\n",
    "- `train_dataloader`: The PyTorch dataloader for training data.\n",
    "- `test_dataloader`: The PyTorch dataloader for evaluation data.\n",
    "- `criterion`: The loss function.\n",
    "- `optimizer`: The optimizer (e.g., SGD, Adam).\n",
    "- `num_epochs`: The number of epochs to train the model for.\n",
    "- `target`: The target variable for the model."
   ]
  },
  {
   "cell_type": "code",
   "execution_count": 17,
   "metadata": {},
   "outputs": [],
   "source": [
    "def train_model(model, train_dataloader, test_dataloader, criterion, optimizer, num_epochs=25,target ='RCAST'):\n",
    "    model_path=F'models/FeedForwardNet/saved_models/{target}/best_model.pth'# Path to save the best model\n",
    "    model = model.to(device)\n",
    "    all_learning_rates = []# Store all learning rates during training\n",
    "    best_bal_acc = 0\n",
    "    # Cosine annealing learning rate scheduler.T_max is the number of iterations in the epoch\n",
    "    lr_scheduler = torch.optim.lr_scheduler.CosineAnnealingLR(optimizer, T_max=len(train_dataloader) * num_epochs)\n",
    "    \n",
    "    warmup_scheduler = warmup.RAdamWarmup(optimizer) #https://arxiv.org/pdf/1910.04209.pdf\n",
    "    \n",
    "    #early_stopping = EarlyStopping(patience=30, verbose=True, model_path=model_path, delta=0.0001)\n",
    "\n",
    "    for epoch in range(num_epochs):\n",
    "        print(f'Epoch : {epoch+1}')\n",
    "        # Train the model for one epoch\n",
    "        train_loss, accu = train_epoch(model, train_dataloader, criterion, optimizer, lr_scheduler,warmup_scheduler)\n",
    "        train_accu.append(accu)\n",
    "        train_losses.append(train_loss)\n",
    "        # Evaluate the model on validation set\n",
    "        test_loss, test_accu, balance_acc, precision, recall = evaluate_epoch(model, test_dataloader, criterion)\n",
    "        eval_losses.append(test_loss)\n",
    "        eval_accu.append(test_accu)\n",
    "        balance_accuracy_list.append(balance_acc)\n",
    "        precision_list.append(precision)\n",
    "        recall_list.append(recall)\n",
    "        print(f'Train Loss: {train_loss:.3f} | Train Accuracy: {accu:.3f} | Test Loss: {test_loss:.3f} | Test Accuracy: {test_accu:.3f} | Balance Accuracy: {balance_acc:.3f} | Precision: {precision:.3f} | Recall: {recall:.3f}')\n",
    "        all_learning_rates.append(optimizer.param_groups[0][\"lr\"])\n",
    "        print(f'Learning rate: {optimizer.param_groups[0][\"lr\"]}')\n",
    "   \n",
    "        #remove the comment to use early stopping\n",
    "        ''' early_stopping(test_loss, model)\n",
    "            if early_stopping.early_stop:\n",
    "                print(\"Early stopping\")\n",
    "                break\n",
    "        '''\n",
    "        # Save the model if the balanced accuracy is higher than the current best\n",
    "        if balance_acc > best_bal_acc:\n",
    "            print(f'Balanced accuracy increased ({best_bal_acc:.6f} --> {balance_acc:.6f}).  Saving model ...')\n",
    "            os.makedirs(os.path.dirname(model_path), exist_ok=True)\n",
    "            torch.save(model.state_dict(), model_path)  # Save the model\n",
    "            best_bal_acc = balance_acc  # Update the best balanced accuracy\n",
    "    plt.plot(all_learning_rates)\n",
    "    plt.show()\n",
    "        "
   ]
  },
  {
   "cell_type": "markdown",
   "metadata": {},
   "source": [
    "### `FocalLoss` Class\n",
    "\n",
    "This class defines a custom loss function called Focal Loss, which is designed to address class imbalance by down-weighting well-classified examples and focusing more on incorrectly classified examples. The Focal Loss is defined as `-alpha * (1-pt)^gamma * log(pt)`, where `pt` is the probability of being classified to the correct class.\n",
    "\n",
    "- `alpha`: A weighting factor for the rare class in the case of class imbalance.\n",
    "- `gamma`: A focusing parameter that reduces the relative loss for well-classified examples and puts more focus on hard, misclassified examples.\n",
    "- `logits`: Whether to apply the sigmoid function to the inputs before computing the loss.\n",
    "- `reduce`: Whether to average the loss over the batch samples."
   ]
  },
  {
   "cell_type": "code",
   "execution_count": 18,
   "metadata": {},
   "outputs": [],
   "source": [
    "\n",
    "\n",
    "class FocalLoss(nn.Module):\n",
    "    def __init__(self, alpha=1, gamma=2, logits=False, reduce=True):\n",
    "        super(FocalLoss, self).__init__()\n",
    "        self.alpha = alpha #The alpha parameter is a weighting factor for the rare class in the case of class imbalance.\n",
    "        self.gamma = gamma #The gamma parameter is a focusing parameter that reduces the relative loss for well-classified examples and puts more focus on hard, misclassified examples.\n",
    "        self.logits = logits\n",
    "        self.reduce = reduce\n",
    "\n",
    "    def forward(self, inputs, targets):\n",
    "        if self.logits:\n",
    "            BCE_loss = F.binary_cross_entropy_with_logits(inputs, targets, reduction='none')\n",
    "        else:\n",
    "            BCE_loss = F.binary_cross_entropy(inputs, targets, reduction='none')\n",
    "        pt = torch.exp(-BCE_loss)#pt is the probability of being classified to the correct class. \n",
    "        F_loss = self.alpha * (1-pt)**self.gamma * BCE_loss #Focal loss is only computed on the hard examples. The loss is down-weighted if the model is confident about the prediction.\n",
    "\n",
    "        if self.reduce:\n",
    "            return torch.mean(F_loss)# The focal loss is averaged over the batch samples.\n",
    "        else:\n",
    "            return F_loss"
   ]
  },
  {
   "cell_type": "markdown",
   "metadata": {},
   "source": [
    "### `evaluate_model` Function\n",
    "\n",
    "This function is responsible for evaluating the model on a dataset. It iterates over the provided dataloader, computes the predictions using the model, and calculates the loss. The running loss and the number of correct predictions are accumulated over all the batches. The evaluation loss and accuracy are then calculated and printed.\n",
    "\n",
    "- `model`: The model to be evaluated.\n",
    "- `dataloader`: The PyTorch dataloader for the data to be evaluated.\n",
    "- `criterion`: The loss function."
   ]
  },
  {
   "cell_type": "code",
   "execution_count": 19,
   "metadata": {},
   "outputs": [],
   "source": [
    "def evaluate_model(model, dataloader, criterion):\n",
    "    model = model.to(device)  # Move the model to the GPU\n",
    "    model.eval()  # Set model to evaluate mode\n",
    "    running_loss=0\n",
    "    correct=0\n",
    "    total=0\n",
    "    all_labels = []\n",
    "    all_preds = []\n",
    "    with torch.no_grad():\n",
    "        for data in tqdm(dataloader):\n",
    "            images,labels=data[0].to(device),data[1].to(device)\n",
    "            outputs=model(images)\n",
    "            loss= criterion(outputs,labels)\n",
    "            running_loss+=loss.item()\n",
    "            predicted = torch.round(outputs)  # Round the output probabilities to get binary predictions\n",
    "            total += labels.size(0)\n",
    "            correct += predicted.eq(labels).sum().item()\n",
    "            \n",
    "            # Store all labels and predictions for metric calculation\n",
    "            all_labels.extend(labels.cpu().numpy())\n",
    "            all_preds.extend(predicted.cpu().numpy())\n",
    "            \n",
    "    test_loss=running_loss/len(dataloader)\n",
    "    accu=100.*correct/total\n",
    "    eval_losses.append(test_loss)\n",
    "    eval_accu.append(accu)\n",
    "    \n",
    "    # Calculate metrics\n",
    "    balance_acc = balanced_accuracy_score(all_labels, all_preds)\n",
    "    precision = precision_score(all_labels, all_preds)\n",
    "    recall = recall_score(all_labels, all_preds)\n",
    "\n",
    "    # Append the metrics to the lists\n",
    "    balance_accuracy_list.append(balance_acc)\n",
    "    precision_list.append(precision)\n",
    "    recall_list.append(recall)\n",
    "\n",
    "    print(f'Test Loss: {test_loss:.3f} | Accuracy: {accu:.3f}')"
   ]
  },
  {
   "cell_type": "markdown",
   "metadata": {},
   "source": [
    "### `process_target` Function\n",
    "\n",
    "This function is responsible for the entire machine learning process from preprocessing the data to evaluating the model. It takes a dataframe, a target variable, and a model as arguments.\n",
    "\n",
    "- `df`: The dataframe containing the data.\n",
    "- `target`: The target variable for the model.\n",
    "- `model`: The model to be trained.\n",
    "\n",
    "The function performs the following steps:\n",
    "\n",
    "1. Preprocesses the data using the `output_selection_prepro` function.\n",
    "2. Splits the data into training and test sets using the `train_test_split` function from sklearn.\n",
    "3. Balances the training set using the `SMOTEENN` function which is a combination of over-sampling and under-sampling.\n",
    "4. Scales the features using the `StandardScaler` function from sklearn.\n",
    "5. Converts the features and labels to PyTorch tensors.\n",
    "6. Converts the data into PyTorch tensors and loads them into a DataLoader.\n",
    "7. Defines the model, loss function, and optimizer. The model is defined outside the function```"
   ]
  },
  {
   "cell_type": "code",
   "execution_count": 20,
   "metadata": {},
   "outputs": [],
   "source": [
    "def process_target(df, target, model):\n",
    "   # Step 1: Preprocess the data\n",
    "   # The output_selection_prepro function is assumed to perform preprocessing tasks such as\n",
    "   # encoding categorical variables, handling missing values, etc.\n",
    "   X, y, num_cols, cat_cols = output_selection_prepro(df, target)\n",
    "\n",
    "   # Step 2: Split the data into train and test sets\n",
    "   # The train_test_split function from sklearn is used here to split the data.\n",
    "   # 25% of the data is used for testing.\n",
    "   X_train, X_test, y_train, y_test = train_test_split(X, y, test_size=0.25)\n",
    "   \n",
    "   # Print the counts of each class in the target variable for the training set\n",
    "   unique, counts = np.unique(y_train, return_counts=True)\n",
    "   print(dict(zip(unique, counts)))\n",
    "   \n",
    "   # Step 3: Balance the training set\n",
    "   # The SMOTEENN function is a combination of over-sampling and under-sampling,\n",
    "   # using SMOTE and Edited Nearest Neighbours to balance the data.\n",
    "   smote_enn = SMOTEENN()\n",
    "   X_train, y_train = smote_enn.fit_resample(X_train, y_train)\n",
    "   \n",
    "   # Print the counts of each class in the target variable for the balanced training set\n",
    "   unique, counts = np.unique(y_train, return_counts=True)\n",
    "   print(dict(zip(unique, counts)))\n",
    "   \n",
    "   # Step 4: Scale the features\n",
    "   # The StandardScaler function standardizes features by removing the mean and scaling to unit variance.\n",
    "   Scaler = StandardScaler()\n",
    "   X_train = Scaler.fit_transform(X_train)\n",
    "   X_test = Scaler.transform(X_test)\n",
    "   \n",
    "   # Step 5: Convert features and labels to tensors\n",
    "   # The features and labels are converted to PyTorch tensors to be able to use them in the model.\n",
    "   X_train_tensor = torch.tensor(X_train.astype(np.float32))\n",
    "   X_test_tensor = torch.tensor(X_test.astype(np.float32))\n",
    "   y_train_tensor = torch.tensor(y_train.values).float().unsqueeze(1)\n",
    "   y_test_tensor = torch.tensor(y_test.values).float().unsqueeze(1)\n",
    "\n",
    "   # Step 6: Convert the data into PyTorch tensors and load them into a DataLoader\n",
    "   # The DataLoader will generate batches of data to be used in the model.\n",
    "   train_data = TensorDataset(X_train_tensor, y_train_tensor)\n",
    "   test_data = TensorDataset(X_test_tensor, y_test_tensor)\n",
    "   \n",
    "   # Save the test data for later use\n",
    "   torch.save(test_data, f'data/processed/{target}/test_data.pth')\n",
    "\n",
    "   # Define the batch size\n",
    "   batch_size = 1024\n",
    "   \n",
    "   # Create the DataLoaders for the training and test sets\n",
    "   train_loader = DataLoader(train_data, shuffle=True, batch_size=batch_size)\n",
    "   test_loader = DataLoader(test_data, shuffle=True, batch_size=batch_size)\n",
    "\n",
    "   # Step 7: Define the model, loss function, and optimizer\n",
    "   # The model is defined outside the function and passed as an argument.\n",
    "   # The Binary Cross Entropy loss is used as the loss function.\n",
    "   # The AdamW optimizer is used. Modify beta to make the warmup scheduler more aggressive.\n",
    "   model = model\n",
    "   criterion = nn.BCELoss()\n",
    "   optimizer = torch.optim.AdamW(model.parameters(),lr=0.00045, betas=(0.9, 0.9925))\n",
    "\n",
    "   # Step 8: Train the model\n",
    "   # The model is trained for specified epochs.\n",
    "   train_model(model, train_loader, test_loader, criterion, optimizer, num_epochs=100, target=target)\n",
    "\n",
    "   # Step 9: Evaluate the model\n",
    "   # The model is evaluated on the test set.\n",
    "   evaluate_model(model, test_loader, criterion)"
   ]
  },
  {
   "cell_type": "code",
   "execution_count": 21,
   "metadata": {},
   "outputs": [
    {
     "name": "stdout",
     "output_type": "stream",
     "text": [
      "Processing target: LMST\n",
      "Loading data from data/processed/LMST/imputed_data_LMST.csv...\n",
      "No missing values found.\n",
      "Final X columns: ['RDAYSFROMINDEX', 'RSEQCATHNUM', 'RSUBJID', 'YRCATH_G', 'AGE_G', 'GENDER', 'RACE_G', 'DPCABG', 'DPMI', 'DPPCI', 'HXANGINA', 'HXCEREB', 'HXCHF', 'HXCOPD', 'HXDIAB', 'HXHTN', 'HXHYL', 'HXMI', 'HXSMOKE', 'NUMPRMI', 'DIASBP_R', 'PULSE_R', 'SYSBP_R', 'CBRUITS', 'HEIGHT_R', 'S3', 'WEIGHT_R', 'CREATININE_R', 'HDL_R', 'LDL_R', 'TOTCHOL_R', 'CATHAPPR', 'DIAGCATH', 'INTVCATH', 'CORDOM', 'GRAFTST', 'LVEF_R', 'DAYS2LKA', 'DSCABG', 'DSMI', 'DSPCI', 'DSSTROKE', 'FUPROTCL']\n",
      "{0: 50071, 1: 3790}\n",
      "{0: 36405, 1: 48139}\n",
      "Epoch : 1\n"
     ]
    },
    {
     "name": "stderr",
     "output_type": "stream",
     "text": [
      "100%|██████████| 83/83 [00:01<00:00, 61.89it/s]\n"
     ]
    },
    {
     "name": "stdout",
     "output_type": "stream",
     "text": [
      "Train Loss: 0.654 | Train Accuracy: 61.448 | Test Loss: 0.685 | Test Accuracy: 56.834 | Balance Accuracy: 0.653 | Precision: 0.111 | Recall: 0.751\n",
      "Learning rate: 0.00023763635191564314\n",
      "Balanced accuracy increased (0.000000 --> 0.652694).  Saving model ...\n",
      "Epoch : 2\n"
     ]
    },
    {
     "name": "stderr",
     "output_type": "stream",
     "text": [
      "100%|██████████| 83/83 [00:01<00:00, 80.27it/s]\n"
     ]
    },
    {
     "name": "stdout",
     "output_type": "stream",
     "text": [
      "Train Loss: 0.540 | Train Accuracy: 73.726 | Test Loss: 0.767 | Test Accuracy: 55.492 | Balance Accuracy: 0.667 | Precision: 0.114 | Recall: 0.797\n",
      "Learning rate: 0.0003172689893763752\n",
      "Balanced accuracy increased (0.652694 --> 0.667078).  Saving model ...\n",
      "Epoch : 3\n"
     ]
    },
    {
     "name": "stderr",
     "output_type": "stream",
     "text": [
      "100%|██████████| 83/83 [00:01<00:00, 70.11it/s]\n"
     ]
    },
    {
     "name": "stdout",
     "output_type": "stream",
     "text": [
      "Train Loss: 0.492 | Train Accuracy: 76.747 | Test Loss: 0.748 | Test Accuracy: 59.597 | Balance Accuracy: 0.679 | Precision: 0.121 | Recall: 0.776\n",
      "Learning rate: 0.0003650226361187831\n",
      "Balanced accuracy increased (0.667078 --> 0.679077).  Saving model ...\n",
      "Epoch : 4\n"
     ]
    },
    {
     "name": "stderr",
     "output_type": "stream",
     "text": [
      "100%|██████████| 83/83 [00:01<00:00, 79.59it/s]\n"
     ]
    },
    {
     "name": "stdout",
     "output_type": "stream",
     "text": [
      "Train Loss: 0.460 | Train Accuracy: 78.446 | Test Loss: 0.734 | Test Accuracy: 61.412 | Balance Accuracy: 0.690 | Precision: 0.127 | Recall: 0.778\n",
      "Learning rate: 0.00039512675401656483\n",
      "Balanced accuracy increased (0.679077 --> 0.689948).  Saving model ...\n",
      "Epoch : 5\n"
     ]
    },
    {
     "name": "stderr",
     "output_type": "stream",
     "text": [
      "100%|██████████| 83/83 [00:01<00:00, 73.22it/s]\n"
     ]
    },
    {
     "name": "stdout",
     "output_type": "stream",
     "text": [
      "Train Loss: 0.436 | Train Accuracy: 79.837 | Test Loss: 0.696 | Test Accuracy: 64.632 | Balance Accuracy: 0.696 | Precision: 0.134 | Recall: 0.755\n",
      "Learning rate: 0.00041401771656992447\n",
      "Balanced accuracy increased (0.689948 --> 0.696444).  Saving model ...\n",
      "Epoch : 6\n"
     ]
    },
    {
     "name": "stderr",
     "output_type": "stream",
     "text": [
      "100%|██████████| 83/83 [00:01<00:00, 70.10it/s]\n"
     ]
    },
    {
     "name": "stdout",
     "output_type": "stream",
     "text": [
      "Train Loss: 0.415 | Train Accuracy: 81.008 | Test Loss: 0.629 | Test Accuracy: 67.907 | Balance Accuracy: 0.694 | Precision: 0.141 | Recall: 0.712\n",
      "Learning rate: 0.0004255074852427121\n",
      "Epoch : 7\n"
     ]
    },
    {
     "name": "stderr",
     "output_type": "stream",
     "text": [
      "100%|██████████| 83/83 [00:01<00:00, 68.46it/s]\n"
     ]
    },
    {
     "name": "stdout",
     "output_type": "stream",
     "text": [
      "Train Loss: 0.401 | Train Accuracy: 81.843 | Test Loss: 0.662 | Test Accuracy: 66.553 | Balance Accuracy: 0.700 | Precision: 0.139 | Recall: 0.740\n",
      "Learning rate: 0.0004320826195897291\n",
      "Balanced accuracy increased (0.696444 --> 0.700065).  Saving model ...\n",
      "Epoch : 8\n"
     ]
    },
    {
     "name": "stderr",
     "output_type": "stream",
     "text": [
      "100%|██████████| 83/83 [00:01<00:00, 69.97it/s]\n"
     ]
    },
    {
     "name": "stdout",
     "output_type": "stream",
     "text": [
      "Train Loss: 0.392 | Train Accuracy: 82.434 | Test Loss: 0.674 | Test Accuracy: 66.849 | Balance Accuracy: 0.702 | Precision: 0.141 | Recall: 0.741\n",
      "Learning rate: 0.0004354064039091123\n",
      "Balanced accuracy increased (0.700065 --> 0.702023).  Saving model ...\n",
      "Epoch : 9\n"
     ]
    },
    {
     "name": "stderr",
     "output_type": "stream",
     "text": [
      "100%|██████████| 83/83 [00:01<00:00, 71.32it/s]\n"
     ]
    },
    {
     "name": "stdout",
     "output_type": "stream",
     "text": [
      "Train Loss: 0.382 | Train Accuracy: 82.784 | Test Loss: 0.648 | Test Accuracy: 67.122 | Balance Accuracy: 0.703 | Precision: 0.142 | Recall: 0.740\n",
      "Learning rate: 0.0004365860926689495\n",
      "Balanced accuracy increased (0.702023 --> 0.703117).  Saving model ...\n",
      "Epoch : 10\n"
     ]
    },
    {
     "name": "stderr",
     "output_type": "stream",
     "text": [
      "100%|██████████| 83/83 [00:01<00:00, 62.57it/s]\n"
     ]
    },
    {
     "name": "stdout",
     "output_type": "stream",
     "text": [
      "Train Loss: 0.369 | Train Accuracy: 83.606 | Test Loss: 0.596 | Test Accuracy: 69.255 | Balance Accuracy: 0.705 | Precision: 0.147 | Recall: 0.718\n",
      "Learning rate: 0.0004363470076131304\n",
      "Balanced accuracy increased (0.703117 --> 0.704523).  Saving model ...\n",
      "Epoch : 11\n"
     ]
    },
    {
     "name": "stderr",
     "output_type": "stream",
     "text": [
      "100%|██████████| 83/83 [00:01<00:00, 65.30it/s]\n"
     ]
    },
    {
     "name": "stdout",
     "output_type": "stream",
     "text": [
      "Train Loss: 0.363 | Train Accuracy: 83.852 | Test Loss: 0.653 | Test Accuracy: 67.389 | Balance Accuracy: 0.711 | Precision: 0.145 | Recall: 0.755\n",
      "Learning rate: 0.00043515532882097815\n",
      "Balanced accuracy increased (0.704523 --> 0.711255).  Saving model ...\n",
      "Epoch : 12\n"
     ]
    },
    {
     "name": "stderr",
     "output_type": "stream",
     "text": [
      "100%|██████████| 83/83 [00:01<00:00, 73.11it/s]\n"
     ]
    },
    {
     "name": "stdout",
     "output_type": "stream",
     "text": [
      "Train Loss: 0.355 | Train Accuracy: 84.264 | Test Loss: 0.593 | Test Accuracy: 69.840 | Balance Accuracy: 0.709 | Precision: 0.150 | Recall: 0.722\n",
      "Learning rate: 0.0004333053070178679\n",
      "Epoch : 13\n"
     ]
    },
    {
     "name": "stderr",
     "output_type": "stream",
     "text": [
      "100%|██████████| 83/83 [00:01<00:00, 73.89it/s]\n"
     ]
    },
    {
     "name": "stdout",
     "output_type": "stream",
     "text": [
      "Train Loss: 0.350 | Train Accuracy: 84.570 | Test Loss: 0.532 | Test Accuracy: 72.290 | Balance Accuracy: 0.703 | Precision: 0.156 | Recall: 0.679\n",
      "Learning rate: 0.00043097985749599647\n",
      "Epoch : 14\n"
     ]
    },
    {
     "name": "stderr",
     "output_type": "stream",
     "text": [
      "100%|██████████| 83/83 [00:01<00:00, 72.74it/s]\n"
     ]
    },
    {
     "name": "stdout",
     "output_type": "stream",
     "text": [
      "Train Loss: 0.344 | Train Accuracy: 84.800 | Test Loss: 0.561 | Test Accuracy: 70.798 | Balance Accuracy: 0.707 | Precision: 0.153 | Recall: 0.706\n",
      "Learning rate: 0.0004282914273915559\n",
      "Epoch : 15\n"
     ]
    },
    {
     "name": "stderr",
     "output_type": "stream",
     "text": [
      "100%|██████████| 83/83 [00:01<00:00, 70.45it/s]\n"
     ]
    },
    {
     "name": "stdout",
     "output_type": "stream",
     "text": [
      "Train Loss: 0.338 | Train Accuracy: 85.035 | Test Loss: 0.553 | Test Accuracy: 71.756 | Balance Accuracy: 0.712 | Precision: 0.157 | Recall: 0.706\n",
      "Learning rate: 0.0004253087671262516\n",
      "Balanced accuracy increased (0.711255 --> 0.712000).  Saving model ...\n",
      "Epoch : 16\n"
     ]
    },
    {
     "name": "stderr",
     "output_type": "stream",
     "text": [
      "100%|██████████| 83/83 [00:01<00:00, 73.67it/s]\n"
     ]
    },
    {
     "name": "stdout",
     "output_type": "stream",
     "text": [
      "Train Loss: 0.333 | Train Accuracy: 85.246 | Test Loss: 0.619 | Test Accuracy: 69.322 | Balance Accuracy: 0.721 | Precision: 0.153 | Recall: 0.753\n",
      "Learning rate: 0.00042207402006155147\n",
      "Balanced accuracy increased (0.712000 --> 0.720892).  Saving model ...\n",
      "Epoch : 17\n"
     ]
    },
    {
     "name": "stderr",
     "output_type": "stream",
     "text": [
      "100%|██████████| 83/83 [00:01<00:00, 67.63it/s]\n"
     ]
    },
    {
     "name": "stdout",
     "output_type": "stream",
     "text": [
      "Train Loss: 0.328 | Train Accuracy: 85.533 | Test Loss: 0.592 | Test Accuracy: 70.190 | Balance Accuracy: 0.720 | Precision: 0.155 | Recall: 0.742\n",
      "Learning rate: 0.00041861339319085804\n",
      "Epoch : 18\n"
     ]
    },
    {
     "name": "stderr",
     "output_type": "stream",
     "text": [
      "100%|██████████| 83/83 [00:01<00:00, 70.66it/s]\n"
     ]
    },
    {
     "name": "stdout",
     "output_type": "stream",
     "text": [
      "Train Loss: 0.322 | Train Accuracy: 85.747 | Test Loss: 0.546 | Test Accuracy: 71.900 | Balance Accuracy: 0.718 | Precision: 0.159 | Recall: 0.716\n",
      "Learning rate: 0.00041494369683075133\n",
      "Epoch : 19\n"
     ]
    },
    {
     "name": "stderr",
     "output_type": "stream",
     "text": [
      "100%|██████████| 83/83 [00:01<00:00, 64.07it/s]\n"
     ]
    },
    {
     "name": "stdout",
     "output_type": "stream",
     "text": [
      "Train Loss: 0.319 | Train Accuracy: 86.016 | Test Loss: 0.517 | Test Accuracy: 73.092 | Balance Accuracy: 0.711 | Precision: 0.162 | Recall: 0.689\n",
      "Learning rate: 0.000411076290140559\n",
      "Epoch : 20\n"
     ]
    },
    {
     "name": "stderr",
     "output_type": "stream",
     "text": [
      "100%|██████████| 83/83 [00:01<00:00, 62.47it/s]\n"
     ]
    },
    {
     "name": "stdout",
     "output_type": "stream",
     "text": [
      "Train Loss: 0.314 | Train Accuracy: 86.194 | Test Loss: 0.520 | Test Accuracy: 73.198 | Balance Accuracy: 0.714 | Precision: 0.163 | Recall: 0.693\n",
      "Learning rate: 0.0004070194299976968\n",
      "Epoch : 21\n"
     ]
    },
    {
     "name": "stderr",
     "output_type": "stream",
     "text": [
      "100%|██████████| 83/83 [00:01<00:00, 70.53it/s]\n"
     ]
    },
    {
     "name": "stdout",
     "output_type": "stream",
     "text": [
      "Train Loss: 0.311 | Train Accuracy: 86.407 | Test Loss: 0.544 | Test Accuracy: 72.301 | Balance Accuracy: 0.719 | Precision: 0.161 | Recall: 0.715\n",
      "Learning rate: 0.00040277965330027464\n",
      "Epoch : 22\n"
     ]
    },
    {
     "name": "stderr",
     "output_type": "stream",
     "text": [
      "100%|██████████| 83/83 [00:01<00:00, 69.02it/s]\n"
     ]
    },
    {
     "name": "stdout",
     "output_type": "stream",
     "text": [
      "Train Loss: 0.308 | Train Accuracy: 86.554 | Test Loss: 0.563 | Test Accuracy: 71.215 | Balance Accuracy: 0.722 | Precision: 0.159 | Recall: 0.734\n",
      "Learning rate: 0.0003983625820805697\n",
      "Balanced accuracy increased (0.720892 --> 0.722129).  Saving model ...\n",
      "Epoch : 23\n"
     ]
    },
    {
     "name": "stderr",
     "output_type": "stream",
     "text": [
      "100%|██████████| 83/83 [00:01<00:00, 62.76it/s]\n"
     ]
    },
    {
     "name": "stdout",
     "output_type": "stream",
     "text": [
      "Train Loss: 0.301 | Train Accuracy: 86.775 | Test Loss: 0.529 | Test Accuracy: 72.652 | Balance Accuracy: 0.725 | Precision: 0.165 | Recall: 0.723\n",
      "Learning rate: 0.0003937733878572488\n",
      "Balanced accuracy increased (0.722129 --> 0.725009).  Saving model ...\n",
      "Epoch : 24\n"
     ]
    },
    {
     "name": "stderr",
     "output_type": "stream",
     "text": [
      "100%|██████████| 83/83 [00:01<00:00, 67.58it/s]\n"
     ]
    },
    {
     "name": "stdout",
     "output_type": "stream",
     "text": [
      "Train Loss: 0.301 | Train Accuracy: 86.833 | Test Loss: 0.525 | Test Accuracy: 73.109 | Balance Accuracy: 0.720 | Precision: 0.165 | Recall: 0.708\n",
      "Learning rate: 0.0003890170567227455\n",
      "Epoch : 25\n"
     ]
    },
    {
     "name": "stderr",
     "output_type": "stream",
     "text": [
      "100%|██████████| 83/83 [00:01<00:00, 76.24it/s]\n"
     ]
    },
    {
     "name": "stdout",
     "output_type": "stream",
     "text": [
      "Train Loss: 0.300 | Train Accuracy: 86.896 | Test Loss: 0.538 | Test Accuracy: 72.179 | Balance Accuracy: 0.727 | Precision: 0.163 | Recall: 0.732\n",
      "Learning rate: 0.00038409853884071346\n",
      "Balanced accuracy increased (0.725009 --> 0.726561).  Saving model ...\n",
      "Epoch : 26\n"
     ]
    },
    {
     "name": "stderr",
     "output_type": "stream",
     "text": [
      "100%|██████████| 83/83 [00:01<00:00, 66.43it/s]\n"
     ]
    },
    {
     "name": "stdout",
     "output_type": "stream",
     "text": [
      "Train Loss: 0.292 | Train Accuracy: 87.259 | Test Loss: 0.552 | Test Accuracy: 71.700 | Balance Accuracy: 0.728 | Precision: 0.162 | Recall: 0.740\n",
      "Learning rate: 0.0003790228313415343\n",
      "Balanced accuracy increased (0.726561 --> 0.727711).  Saving model ...\n",
      "Epoch : 27\n"
     ]
    },
    {
     "name": "stderr",
     "output_type": "stream",
     "text": [
      "100%|██████████| 83/83 [00:01<00:00, 70.94it/s]\n"
     ]
    },
    {
     "name": "stdout",
     "output_type": "stream",
     "text": [
      "Train Loss: 0.294 | Train Accuracy: 87.266 | Test Loss: 0.509 | Test Accuracy: 73.805 | Balance Accuracy: 0.719 | Precision: 0.167 | Recall: 0.696\n",
      "Learning rate: 0.00037379502305344393\n",
      "Epoch : 28\n"
     ]
    },
    {
     "name": "stderr",
     "output_type": "stream",
     "text": [
      "100%|██████████| 83/83 [00:01<00:00, 69.41it/s]\n"
     ]
    },
    {
     "name": "stdout",
     "output_type": "stream",
     "text": [
      "Train Loss: 0.290 | Train Accuracy: 87.444 | Test Loss: 0.526 | Test Accuracy: 73.209 | Balance Accuracy: 0.724 | Precision: 0.166 | Recall: 0.715\n",
      "Learning rate: 0.0003684203174577136\n",
      "Epoch : 29\n"
     ]
    },
    {
     "name": "stderr",
     "output_type": "stream",
     "text": [
      "100%|██████████| 83/83 [00:01<00:00, 71.46it/s]\n"
     ]
    },
    {
     "name": "stdout",
     "output_type": "stream",
     "text": [
      "Train Loss: 0.288 | Train Accuracy: 87.630 | Test Loss: 0.536 | Test Accuracy: 72.658 | Balance Accuracy: 0.727 | Precision: 0.165 | Recall: 0.727\n",
      "Learning rate: 0.00036290404325350765\n",
      "Epoch : 30\n"
     ]
    },
    {
     "name": "stderr",
     "output_type": "stream",
     "text": [
      "100%|██████████| 83/83 [00:01<00:00, 70.29it/s]\n"
     ]
    },
    {
     "name": "stdout",
     "output_type": "stream",
     "text": [
      "Train Loss: 0.285 | Train Accuracy: 87.690 | Test Loss: 0.526 | Test Accuracy: 73.310 | Balance Accuracy: 0.724 | Precision: 0.167 | Recall: 0.714\n",
      "Learning rate: 0.0003572516578786159\n",
      "Epoch : 31\n"
     ]
    },
    {
     "name": "stderr",
     "output_type": "stream",
     "text": [
      "100%|██████████| 83/83 [00:01<00:00, 74.17it/s]\n"
     ]
    },
    {
     "name": "stdout",
     "output_type": "stream",
     "text": [
      "Train Loss: 0.283 | Train Accuracy: 87.767 | Test Loss: 0.510 | Test Accuracy: 73.599 | Balance Accuracy: 0.724 | Precision: 0.168 | Recall: 0.710\n",
      "Learning rate: 0.00035146874701734855\n",
      "Epoch : 32\n"
     ]
    },
    {
     "name": "stderr",
     "output_type": "stream",
     "text": [
      "100%|██████████| 83/83 [00:01<00:00, 71.37it/s]\n"
     ]
    },
    {
     "name": "stdout",
     "output_type": "stream",
     "text": [
      "Train Loss: 0.278 | Train Accuracy: 87.932 | Test Loss: 0.488 | Test Accuracy: 74.908 | Balance Accuracy: 0.718 | Precision: 0.171 | Recall: 0.681\n",
      "Learning rate: 0.0003455610218078231\n",
      "Epoch : 33\n"
     ]
    },
    {
     "name": "stderr",
     "output_type": "stream",
     "text": [
      "100%|██████████| 83/83 [00:01<00:00, 72.48it/s]\n"
     ]
    },
    {
     "name": "stdout",
     "output_type": "stream",
     "text": [
      "Train Loss: 0.280 | Train Accuracy: 87.848 | Test Loss: 0.490 | Test Accuracy: 74.741 | Balance Accuracy: 0.718 | Precision: 0.170 | Recall: 0.684\n",
      "Learning rate: 0.0003395343147130606\n",
      "Epoch : 34\n"
     ]
    },
    {
     "name": "stderr",
     "output_type": "stream",
     "text": [
      "100%|██████████| 83/83 [00:01<00:00, 70.04it/s]\n"
     ]
    },
    {
     "name": "stdout",
     "output_type": "stream",
     "text": [
      "Train Loss: 0.277 | Train Accuracy: 88.044 | Test Loss: 0.490 | Test Accuracy: 74.880 | Balance Accuracy: 0.715 | Precision: 0.170 | Recall: 0.675\n",
      "Learning rate: 0.0003333945745982791\n",
      "Epoch : 35\n"
     ]
    },
    {
     "name": "stderr",
     "output_type": "stream",
     "text": [
      "100%|██████████| 83/83 [00:01<00:00, 74.07it/s]\n"
     ]
    },
    {
     "name": "stdout",
     "output_type": "stream",
     "text": [
      "Train Loss: 0.274 | Train Accuracy: 88.115 | Test Loss: 0.551 | Test Accuracy: 72.519 | Balance Accuracy: 0.728 | Precision: 0.165 | Recall: 0.730\n",
      "Learning rate: 0.0003271478613195821\n",
      "Epoch : 36\n"
     ]
    },
    {
     "name": "stderr",
     "output_type": "stream",
     "text": [
      "100%|██████████| 83/83 [00:01<00:00, 68.92it/s]\n"
     ]
    },
    {
     "name": "stdout",
     "output_type": "stream",
     "text": [
      "Train Loss: 0.274 | Train Accuracy: 88.171 | Test Loss: 0.512 | Test Accuracy: 73.649 | Balance Accuracy: 0.723 | Precision: 0.167 | Recall: 0.706\n",
      "Learning rate: 0.0003208003399964389\n",
      "Epoch : 37\n"
     ]
    },
    {
     "name": "stderr",
     "output_type": "stream",
     "text": [
      "100%|██████████| 83/83 [00:01<00:00, 73.33it/s]\n"
     ]
    },
    {
     "name": "stdout",
     "output_type": "stream",
     "text": [
      "Train Loss: 0.269 | Train Accuracy: 88.489 | Test Loss: 0.486 | Test Accuracy: 75.142 | Balance Accuracy: 0.720 | Precision: 0.173 | Recall: 0.684\n",
      "Learning rate: 0.0003143582750662659\n",
      "Epoch : 38\n"
     ]
    },
    {
     "name": "stderr",
     "output_type": "stream",
     "text": [
      "100%|██████████| 83/83 [00:01<00:00, 75.12it/s]\n"
     ]
    },
    {
     "name": "stdout",
     "output_type": "stream",
     "text": [
      "Train Loss: 0.269 | Train Accuracy: 88.327 | Test Loss: 0.504 | Test Accuracy: 74.084 | Balance Accuracy: 0.718 | Precision: 0.168 | Recall: 0.691\n",
      "Learning rate: 0.00030782802417824253\n",
      "Epoch : 39\n"
     ]
    },
    {
     "name": "stderr",
     "output_type": "stream",
     "text": [
      "100%|██████████| 83/83 [00:01<00:00, 69.60it/s]\n"
     ]
    },
    {
     "name": "stdout",
     "output_type": "stream",
     "text": [
      "Train Loss: 0.268 | Train Accuracy: 88.404 | Test Loss: 0.600 | Test Accuracy: 70.903 | Balance Accuracy: 0.731 | Precision: 0.160 | Recall: 0.756\n",
      "Learning rate: 0.00030121603196067286\n",
      "Balanced accuracy increased (0.727711 --> 0.730879).  Saving model ...\n",
      "Epoch : 40\n"
     ]
    },
    {
     "name": "stderr",
     "output_type": "stream",
     "text": [
      "100%|██████████| 83/83 [00:01<00:00, 72.53it/s]\n"
     ]
    },
    {
     "name": "stdout",
     "output_type": "stream",
     "text": [
      "Train Loss: 0.263 | Train Accuracy: 88.729 | Test Loss: 0.495 | Test Accuracy: 74.702 | Balance Accuracy: 0.720 | Precision: 0.171 | Recall: 0.688\n",
      "Learning rate: 0.0002945288236836196\n",
      "Epoch : 41\n"
     ]
    },
    {
     "name": "stderr",
     "output_type": "stream",
     "text": [
      "100%|██████████| 83/83 [00:01<00:00, 76.40it/s]\n"
     ]
    },
    {
     "name": "stdout",
     "output_type": "stream",
     "text": [
      "Train Loss: 0.265 | Train Accuracy: 88.595 | Test Loss: 0.575 | Test Accuracy: 71.828 | Balance Accuracy: 0.733 | Precision: 0.164 | Recall: 0.750\n",
      "Learning rate: 0.00028777299883162114\n",
      "Balanced accuracy increased (0.730879 --> 0.732867).  Saving model ...\n",
      "Epoch : 42\n"
     ]
    },
    {
     "name": "stderr",
     "output_type": "stream",
     "text": [
      "100%|██████████| 83/83 [00:01<00:00, 70.53it/s]\n"
     ]
    },
    {
     "name": "stdout",
     "output_type": "stream",
     "text": [
      "Train Loss: 0.261 | Train Accuracy: 88.735 | Test Loss: 0.487 | Test Accuracy: 75.125 | Balance Accuracy: 0.722 | Precision: 0.173 | Recall: 0.687\n",
      "Learning rate: 0.000280955224597526\n",
      "Epoch : 43\n"
     ]
    },
    {
     "name": "stderr",
     "output_type": "stream",
     "text": [
      "100%|██████████| 83/83 [00:01<00:00, 73.59it/s]\n"
     ]
    },
    {
     "name": "stdout",
     "output_type": "stream",
     "text": [
      "Train Loss: 0.261 | Train Accuracy: 88.782 | Test Loss: 0.486 | Test Accuracy: 74.986 | Balance Accuracy: 0.719 | Precision: 0.172 | Recall: 0.682\n",
      "Learning rate: 0.0002740822293064334\n",
      "Epoch : 44\n"
     ]
    },
    {
     "name": "stderr",
     "output_type": "stream",
     "text": [
      "100%|██████████| 83/83 [00:01<00:00, 70.94it/s]\n"
     ]
    },
    {
     "name": "stdout",
     "output_type": "stream",
     "text": [
      "Train Loss: 0.262 | Train Accuracy: 88.732 | Test Loss: 0.501 | Test Accuracy: 74.223 | Balance Accuracy: 0.721 | Precision: 0.169 | Recall: 0.697\n",
      "Learning rate: 0.0002671607957776289\n",
      "Epoch : 45\n"
     ]
    },
    {
     "name": "stderr",
     "output_type": "stream",
     "text": [
      "100%|██████████| 83/83 [00:01<00:00, 73.00it/s]\n"
     ]
    },
    {
     "name": "stdout",
     "output_type": "stream",
     "text": [
      "Train Loss: 0.255 | Train Accuracy: 89.001 | Test Loss: 0.481 | Test Accuracy: 75.437 | Balance Accuracy: 0.718 | Precision: 0.173 | Recall: 0.675\n",
      "Learning rate: 0.0002601977546318335\n",
      "Epoch : 46\n"
     ]
    },
    {
     "name": "stderr",
     "output_type": "stream",
     "text": [
      "100%|██████████| 83/83 [00:01<00:00, 74.71it/s]\n"
     ]
    },
    {
     "name": "stdout",
     "output_type": "stream",
     "text": [
      "Train Loss: 0.256 | Train Accuracy: 88.961 | Test Loss: 0.469 | Test Accuracy: 76.033 | Balance Accuracy: 0.718 | Precision: 0.176 | Recall: 0.669\n",
      "Learning rate: 0.0002531999775507867\n",
      "Epoch : 47\n"
     ]
    },
    {
     "name": "stderr",
     "output_type": "stream",
     "text": [
      "100%|██████████| 83/83 [00:01<00:00, 69.78it/s]\n"
     ]
    },
    {
     "name": "stdout",
     "output_type": "stream",
     "text": [
      "Train Loss: 0.254 | Train Accuracy: 89.102 | Test Loss: 0.488 | Test Accuracy: 75.209 | Balance Accuracy: 0.720 | Precision: 0.173 | Recall: 0.682\n",
      "Learning rate: 0.0002461743704960367\n",
      "Epoch : 48\n"
     ]
    },
    {
     "name": "stderr",
     "output_type": "stream",
     "text": [
      "100%|██████████| 83/83 [00:01<00:00, 72.32it/s]\n"
     ]
    },
    {
     "name": "stdout",
     "output_type": "stream",
     "text": [
      "Train Loss: 0.250 | Train Accuracy: 89.232 | Test Loss: 0.461 | Test Accuracy: 76.724 | Balance Accuracy: 0.715 | Precision: 0.178 | Recall: 0.654\n",
      "Learning rate: 0.00023912786689376102\n",
      "Epoch : 49\n"
     ]
    },
    {
     "name": "stderr",
     "output_type": "stream",
     "text": [
      "100%|██████████| 83/83 [00:01<00:00, 74.45it/s]\n"
     ]
    },
    {
     "name": "stdout",
     "output_type": "stream",
     "text": [
      "Train Loss: 0.253 | Train Accuracy: 89.265 | Test Loss: 0.560 | Test Accuracy: 72.524 | Balance Accuracy: 0.730 | Precision: 0.166 | Recall: 0.735\n",
      "Learning rate: 0.00023206742079240117\n",
      "Epoch : 50\n"
     ]
    },
    {
     "name": "stderr",
     "output_type": "stream",
     "text": [
      "100%|██████████| 83/83 [00:01<00:00, 75.05it/s]\n"
     ]
    },
    {
     "name": "stdout",
     "output_type": "stream",
     "text": [
      "Train Loss: 0.252 | Train Accuracy: 89.264 | Test Loss: 0.525 | Test Accuracy: 73.967 | Balance Accuracy: 0.727 | Precision: 0.170 | Recall: 0.713\n",
      "Learning rate: 0.00022499999999990556\n",
      "Epoch : 51\n"
     ]
    },
    {
     "name": "stderr",
     "output_type": "stream",
     "text": [
      "100%|██████████| 83/83 [00:01<00:00, 70.52it/s]\n"
     ]
    },
    {
     "name": "stdout",
     "output_type": "stream",
     "text": [
      "Train Loss: 0.248 | Train Accuracy: 89.236 | Test Loss: 0.488 | Test Accuracy: 75.376 | Balance Accuracy: 0.722 | Precision: 0.175 | Recall: 0.685\n",
      "Learning rate: 0.00021793257920737095\n",
      "Epoch : 52\n"
     ]
    },
    {
     "name": "stderr",
     "output_type": "stream",
     "text": [
      "100%|██████████| 83/83 [00:01<00:00, 73.05it/s]\n"
     ]
    },
    {
     "name": "stdout",
     "output_type": "stream",
     "text": [
      "Train Loss: 0.248 | Train Accuracy: 89.309 | Test Loss: 0.479 | Test Accuracy: 75.788 | Balance Accuracy: 0.721 | Precision: 0.176 | Recall: 0.679\n",
      "Learning rate: 0.00021087213310587772\n",
      "Epoch : 53\n"
     ]
    },
    {
     "name": "stderr",
     "output_type": "stream",
     "text": [
      "100%|██████████| 83/83 [00:01<00:00, 75.97it/s]\n"
     ]
    },
    {
     "name": "stdout",
     "output_type": "stream",
     "text": [
      "Train Loss: 0.250 | Train Accuracy: 89.286 | Test Loss: 0.525 | Test Accuracy: 73.978 | Balance Accuracy: 0.722 | Precision: 0.168 | Recall: 0.701\n",
      "Learning rate: 0.00020382562950332003\n",
      "Epoch : 54\n"
     ]
    },
    {
     "name": "stderr",
     "output_type": "stream",
     "text": [
      "100%|██████████| 83/83 [00:01<00:00, 66.51it/s]\n"
     ]
    },
    {
     "name": "stdout",
     "output_type": "stream",
     "text": [
      "Train Loss: 0.245 | Train Accuracy: 89.484 | Test Loss: 0.515 | Test Accuracy: 74.852 | Balance Accuracy: 0.729 | Precision: 0.175 | Recall: 0.706\n",
      "Learning rate: 0.00019680002244802362\n",
      "Epoch : 55\n"
     ]
    },
    {
     "name": "stderr",
     "output_type": "stream",
     "text": [
      "100%|██████████| 83/83 [00:01<00:00, 74.37it/s]\n"
     ]
    },
    {
     "name": "stdout",
     "output_type": "stream",
     "text": [
      "Train Loss: 0.244 | Train Accuracy: 89.527 | Test Loss: 0.466 | Test Accuracy: 76.852 | Balance Accuracy: 0.722 | Precision: 0.181 | Recall: 0.667\n",
      "Learning rate: 0.00018980224536594356\n",
      "Epoch : 56\n"
     ]
    },
    {
     "name": "stderr",
     "output_type": "stream",
     "text": [
      "100%|██████████| 83/83 [00:01<00:00, 69.09it/s]\n"
     ]
    },
    {
     "name": "stdout",
     "output_type": "stream",
     "text": [
      "Train Loss: 0.244 | Train Accuracy: 89.436 | Test Loss: 0.481 | Test Accuracy: 75.732 | Balance Accuracy: 0.721 | Precision: 0.176 | Recall: 0.678\n",
      "Learning rate: 0.00018283920421820933\n",
      "Epoch : 57\n"
     ]
    },
    {
     "name": "stderr",
     "output_type": "stream",
     "text": [
      "100%|██████████| 83/83 [00:01<00:00, 76.22it/s]\n"
     ]
    },
    {
     "name": "stdout",
     "output_type": "stream",
     "text": [
      "Train Loss: 0.244 | Train Accuracy: 89.536 | Test Loss: 0.572 | Test Accuracy: 71.154 | Balance Accuracy: 0.734 | Precision: 0.162 | Recall: 0.761\n",
      "Learning rate: 0.00017591777068577628\n",
      "Balanced accuracy increased (0.732867 --> 0.734460).  Saving model ...\n",
      "Epoch : 58\n"
     ]
    },
    {
     "name": "stderr",
     "output_type": "stream",
     "text": [
      "100%|██████████| 83/83 [00:01<00:00, 71.07it/s]\n"
     ]
    },
    {
     "name": "stdout",
     "output_type": "stream",
     "text": [
      "Train Loss: 0.246 | Train Accuracy: 89.491 | Test Loss: 0.466 | Test Accuracy: 76.490 | Balance Accuracy: 0.721 | Precision: 0.179 | Recall: 0.670\n",
      "Learning rate: 0.00016904477538790647\n",
      "Epoch : 59\n"
     ]
    },
    {
     "name": "stderr",
     "output_type": "stream",
     "text": [
      "100%|██████████| 83/83 [00:01<00:00, 73.49it/s]\n"
     ]
    },
    {
     "name": "stdout",
     "output_type": "stream",
     "text": [
      "Train Loss: 0.241 | Train Accuracy: 89.646 | Test Loss: 0.484 | Test Accuracy: 75.571 | Balance Accuracy: 0.724 | Precision: 0.176 | Recall: 0.687\n",
      "Learning rate: 0.0001622270011411724\n",
      "Epoch : 60\n"
     ]
    },
    {
     "name": "stderr",
     "output_type": "stream",
     "text": [
      "100%|██████████| 83/83 [00:01<00:00, 71.21it/s]\n"
     ]
    },
    {
     "name": "stdout",
     "output_type": "stream",
     "text": [
      "Train Loss: 0.242 | Train Accuracy: 89.637 | Test Loss: 0.460 | Test Accuracy: 76.690 | Balance Accuracy: 0.717 | Precision: 0.179 | Recall: 0.659\n",
      "Learning rate: 0.00015547117626563616\n",
      "Epoch : 61\n"
     ]
    },
    {
     "name": "stderr",
     "output_type": "stream",
     "text": [
      "100%|██████████| 83/83 [00:01<00:00, 75.61it/s]\n"
     ]
    },
    {
     "name": "stdout",
     "output_type": "stream",
     "text": [
      "Train Loss: 0.241 | Train Accuracy: 89.702 | Test Loss: 0.469 | Test Accuracy: 76.696 | Balance Accuracy: 0.725 | Precision: 0.182 | Recall: 0.677\n",
      "Learning rate: 0.00014878396794480868\n",
      "Epoch : 62\n"
     ]
    },
    {
     "name": "stderr",
     "output_type": "stream",
     "text": [
      "100%|██████████| 83/83 [00:01<00:00, 69.39it/s]\n"
     ]
    },
    {
     "name": "stdout",
     "output_type": "stream",
     "text": [
      "Train Loss: 0.239 | Train Accuracy: 89.726 | Test Loss: 0.489 | Test Accuracy: 75.783 | Balance Accuracy: 0.727 | Precision: 0.178 | Recall: 0.690\n",
      "Learning rate: 0.00014217197564594678\n",
      "Epoch : 63\n"
     ]
    },
    {
     "name": "stderr",
     "output_type": "stream",
     "text": [
      "100%|██████████| 83/83 [00:01<00:00, 73.39it/s]\n"
     ]
    },
    {
     "name": "stdout",
     "output_type": "stream",
     "text": [
      "Train Loss: 0.240 | Train Accuracy: 89.760 | Test Loss: 0.477 | Test Accuracy: 75.972 | Balance Accuracy: 0.725 | Precision: 0.178 | Recall: 0.685\n",
      "Learning rate: 0.00013564172460717367\n",
      "Epoch : 64\n"
     ]
    },
    {
     "name": "stderr",
     "output_type": "stream",
     "text": [
      "100%|██████████| 83/83 [00:01<00:00, 67.91it/s]\n"
     ]
    },
    {
     "name": "stdout",
     "output_type": "stream",
     "text": [
      "Train Loss: 0.236 | Train Accuracy: 89.973 | Test Loss: 0.482 | Test Accuracy: 75.805 | Balance Accuracy: 0.727 | Precision: 0.178 | Recall: 0.691\n",
      "Learning rate: 0.00012919965939785802\n",
      "Epoch : 65\n"
     ]
    },
    {
     "name": "stderr",
     "output_type": "stream",
     "text": [
      "100%|██████████| 83/83 [00:01<00:00, 74.88it/s]\n"
     ]
    },
    {
     "name": "stdout",
     "output_type": "stream",
     "text": [
      "Train Loss: 0.238 | Train Accuracy: 89.902 | Test Loss: 0.476 | Test Accuracy: 76.267 | Balance Accuracy: 0.722 | Precision: 0.179 | Recall: 0.676\n",
      "Learning rate: 0.00012285213755860132\n",
      "Epoch : 66\n"
     ]
    },
    {
     "name": "stderr",
     "output_type": "stream",
     "text": [
      "100%|██████████| 83/83 [00:01<00:00, 69.62it/s]\n"
     ]
    },
    {
     "name": "stdout",
     "output_type": "stream",
     "text": [
      "Train Loss: 0.235 | Train Accuracy: 89.879 | Test Loss: 0.467 | Test Accuracy: 76.768 | Balance Accuracy: 0.720 | Precision: 0.180 | Recall: 0.665\n",
      "Learning rate: 0.00011660542332711353\n",
      "Epoch : 67\n"
     ]
    },
    {
     "name": "stderr",
     "output_type": "stream",
     "text": [
      "100%|██████████| 83/83 [00:01<00:00, 70.63it/s]\n"
     ]
    },
    {
     "name": "stdout",
     "output_type": "stream",
     "text": [
      "Train Loss: 0.236 | Train Accuracy: 89.859 | Test Loss: 0.475 | Test Accuracy: 76.657 | Balance Accuracy: 0.723 | Precision: 0.181 | Recall: 0.673\n",
      "Learning rate: 0.00011046568145616594\n",
      "Epoch : 68\n"
     ]
    },
    {
     "name": "stderr",
     "output_type": "stream",
     "text": [
      "100%|██████████| 83/83 [00:01<00:00, 69.47it/s]\n"
     ]
    },
    {
     "name": "stdout",
     "output_type": "stream",
     "text": [
      "Train Loss: 0.234 | Train Accuracy: 89.919 | Test Loss: 0.473 | Test Accuracy: 76.228 | Balance Accuracy: 0.726 | Precision: 0.180 | Recall: 0.684\n",
      "Learning rate: 0.00010443897112972518\n",
      "Epoch : 69\n"
     ]
    },
    {
     "name": "stderr",
     "output_type": "stream",
     "text": [
      "100%|██████████| 83/83 [00:01<00:00, 72.76it/s]\n"
     ]
    },
    {
     "name": "stdout",
     "output_type": "stream",
     "text": [
      "Train Loss: 0.233 | Train Accuracy: 90.077 | Test Loss: 0.478 | Test Accuracy: 76.295 | Balance Accuracy: 0.723 | Precision: 0.179 | Recall: 0.677\n",
      "Learning rate: 9.853123998327003e-05\n",
      "Epoch : 70\n"
     ]
    },
    {
     "name": "stderr",
     "output_type": "stream",
     "text": [
      "100%|██████████| 83/83 [00:01<00:00, 69.40it/s]\n"
     ]
    },
    {
     "name": "stdout",
     "output_type": "stream",
     "text": [
      "Train Loss: 0.233 | Train Accuracy: 90.013 | Test Loss: 0.469 | Test Accuracy: 76.902 | Balance Accuracy: 0.725 | Precision: 0.183 | Recall: 0.674\n",
      "Learning rate: 9.274831823419293e-05\n",
      "Epoch : 71\n"
     ]
    },
    {
     "name": "stderr",
     "output_type": "stream",
     "text": [
      "100%|██████████| 83/83 [00:01<00:00, 70.33it/s]\n"
     ]
    },
    {
     "name": "stdout",
     "output_type": "stream",
     "text": [
      "Train Loss: 0.233 | Train Accuracy: 90.017 | Test Loss: 0.468 | Test Accuracy: 76.590 | Balance Accuracy: 0.724 | Precision: 0.181 | Recall: 0.676\n",
      "Learning rate: 8.709591292807976e-05\n",
      "Epoch : 72\n"
     ]
    },
    {
     "name": "stderr",
     "output_type": "stream",
     "text": [
      "100%|██████████| 83/83 [00:01<00:00, 72.97it/s]\n"
     ]
    },
    {
     "name": "stdout",
     "output_type": "stream",
     "text": [
      "Train Loss: 0.235 | Train Accuracy: 89.980 | Test Loss: 0.463 | Test Accuracy: 76.880 | Balance Accuracy: 0.723 | Precision: 0.182 | Recall: 0.669\n",
      "Learning rate: 8.157960230654428e-05\n",
      "Epoch : 73\n"
     ]
    },
    {
     "name": "stderr",
     "output_type": "stream",
     "text": [
      "100%|██████████| 83/83 [00:01<00:00, 64.34it/s]\n"
     ]
    },
    {
     "name": "stdout",
     "output_type": "stream",
     "text": [
      "Train Loss: 0.233 | Train Accuracy: 90.004 | Test Loss: 0.482 | Test Accuracy: 76.022 | Balance Accuracy: 0.727 | Precision: 0.179 | Recall: 0.688\n",
      "Learning rate: 7.620483030217786e-05\n",
      "Epoch : 74\n"
     ]
    },
    {
     "name": "stderr",
     "output_type": "stream",
     "text": [
      "100%|██████████| 83/83 [00:01<00:00, 65.69it/s]\n"
     ]
    },
    {
     "name": "stdout",
     "output_type": "stream",
     "text": [
      "Train Loss: 0.233 | Train Accuracy: 90.047 | Test Loss: 0.469 | Test Accuracy: 76.534 | Balance Accuracy: 0.724 | Precision: 0.181 | Recall: 0.675\n",
      "Learning rate: 7.097690116604467e-05\n",
      "Epoch : 75\n"
     ]
    },
    {
     "name": "stderr",
     "output_type": "stream",
     "text": [
      "100%|██████████| 83/83 [00:01<00:00, 68.29it/s]\n"
     ]
    },
    {
     "name": "stdout",
     "output_type": "stream",
     "text": [
      "Train Loss: 0.234 | Train Accuracy: 89.880 | Test Loss: 0.493 | Test Accuracy: 75.615 | Balance Accuracy: 0.726 | Precision: 0.177 | Recall: 0.691\n",
      "Learning rate: 6.590097423302637e-05\n",
      "Epoch : 76\n"
     ]
    },
    {
     "name": "stderr",
     "output_type": "stream",
     "text": [
      "100%|██████████| 83/83 [00:01<00:00, 66.08it/s]\n"
     ]
    },
    {
     "name": "stdout",
     "output_type": "stream",
     "text": [
      "Train Loss: 0.234 | Train Accuracy: 90.015 | Test Loss: 0.475 | Test Accuracy: 76.429 | Balance Accuracy: 0.726 | Precision: 0.181 | Recall: 0.681\n",
      "Learning rate: 6.0982058830182005e-05\n",
      "Epoch : 77\n"
     ]
    },
    {
     "name": "stderr",
     "output_type": "stream",
     "text": [
      "100%|██████████| 83/83 [00:01<00:00, 65.78it/s]\n"
     ]
    },
    {
     "name": "stdout",
     "output_type": "stream",
     "text": [
      "Train Loss: 0.231 | Train Accuracy: 90.155 | Test Loss: 0.494 | Test Accuracy: 75.933 | Balance Accuracy: 0.727 | Precision: 0.179 | Recall: 0.689\n",
      "Learning rate: 5.6225009333146185e-05\n",
      "Epoch : 78\n"
     ]
    },
    {
     "name": "stderr",
     "output_type": "stream",
     "text": [
      "100%|██████████| 83/83 [00:01<00:00, 68.29it/s]\n"
     ]
    },
    {
     "name": "stdout",
     "output_type": "stream",
     "text": [
      "Train Loss: 0.231 | Train Accuracy: 90.119 | Test Loss: 0.468 | Test Accuracy: 76.813 | Balance Accuracy: 0.724 | Precision: 0.182 | Recall: 0.673\n",
      "Learning rate: 5.1634520375447045e-05\n",
      "Epoch : 79\n"
     ]
    },
    {
     "name": "stderr",
     "output_type": "stream",
     "text": [
      "100%|██████████| 83/83 [00:01<00:00, 63.86it/s]\n"
     ]
    },
    {
     "name": "stdout",
     "output_type": "stream",
     "text": [
      "Train Loss: 0.232 | Train Accuracy: 90.016 | Test Loss: 0.498 | Test Accuracy: 75.454 | Balance Accuracy: 0.728 | Precision: 0.177 | Recall: 0.697\n",
      "Learning rate: 4.721512221546927e-05\n",
      "Epoch : 80\n"
     ]
    },
    {
     "name": "stderr",
     "output_type": "stream",
     "text": [
      "100%|██████████| 83/83 [00:01<00:00, 64.93it/s]\n"
     ]
    },
    {
     "name": "stdout",
     "output_type": "stream",
     "text": [
      "Train Loss: 0.231 | Train Accuracy: 90.196 | Test Loss: 0.468 | Test Accuracy: 76.841 | Balance Accuracy: 0.726 | Precision: 0.183 | Recall: 0.677\n",
      "Learning rate: 4.297117626563648e-05\n",
      "Epoch : 81\n"
     ]
    },
    {
     "name": "stderr",
     "output_type": "stream",
     "text": [
      "100%|██████████| 83/83 [00:01<00:00, 69.00it/s]\n"
     ]
    },
    {
     "name": "stdout",
     "output_type": "stream",
     "text": [
      "Train Loss: 0.232 | Train Accuracy: 90.194 | Test Loss: 0.474 | Test Accuracy: 76.557 | Balance Accuracy: 0.728 | Precision: 0.182 | Recall: 0.684\n",
      "Learning rate: 3.890687078822329e-05\n",
      "Epoch : 82\n"
     ]
    },
    {
     "name": "stderr",
     "output_type": "stream",
     "text": [
      "100%|██████████| 83/83 [00:01<00:00, 64.04it/s]\n"
     ]
    },
    {
     "name": "stdout",
     "output_type": "stream",
     "text": [
      "Train Loss: 0.231 | Train Accuracy: 90.070 | Test Loss: 0.488 | Test Accuracy: 76.089 | Balance Accuracy: 0.729 | Precision: 0.180 | Recall: 0.691\n",
      "Learning rate: 3.50262167620463e-05\n",
      "Epoch : 83\n"
     ]
    },
    {
     "name": "stderr",
     "output_type": "stream",
     "text": [
      "100%|██████████| 83/83 [00:01<00:00, 65.89it/s]\n"
     ]
    },
    {
     "name": "stdout",
     "output_type": "stream",
     "text": [
      "Train Loss: 0.230 | Train Accuracy: 90.140 | Test Loss: 0.457 | Test Accuracy: 77.509 | Balance Accuracy: 0.724 | Precision: 0.186 | Recall: 0.665\n",
      "Learning rate: 3.13330439241124e-05\n",
      "Epoch : 84\n"
     ]
    },
    {
     "name": "stderr",
     "output_type": "stream",
     "text": [
      "100%|██████████| 83/83 [00:01<00:00, 69.17it/s]\n"
     ]
    },
    {
     "name": "stdout",
     "output_type": "stream",
     "text": [
      "Train Loss: 0.230 | Train Accuracy: 90.254 | Test Loss: 0.482 | Test Accuracy: 76.295 | Balance Accuracy: 0.726 | Precision: 0.180 | Recall: 0.683\n",
      "Learning rate: 2.7830996990130426e-05\n",
      "Epoch : 85\n"
     ]
    },
    {
     "name": "stderr",
     "output_type": "stream",
     "text": [
      "100%|██████████| 83/83 [00:01<00:00, 62.61it/s]\n"
     ]
    },
    {
     "name": "stdout",
     "output_type": "stream",
     "text": [
      "Train Loss: 0.229 | Train Accuracy: 90.127 | Test Loss: 0.480 | Test Accuracy: 76.456 | Balance Accuracy: 0.728 | Precision: 0.182 | Recall: 0.685\n",
      "Learning rate: 2.4523532057616988e-05\n",
      "Epoch : 86\n"
     ]
    },
    {
     "name": "stderr",
     "output_type": "stream",
     "text": [
      "100%|██████████| 83/83 [00:01<00:00, 69.03it/s]\n"
     ]
    },
    {
     "name": "stdout",
     "output_type": "stream",
     "text": [
      "Train Loss: 0.230 | Train Accuracy: 90.198 | Test Loss: 0.472 | Test Accuracy: 76.768 | Balance Accuracy: 0.728 | Precision: 0.183 | Recall: 0.681\n",
      "Learning rate: 2.141391319514536e-05\n",
      "Epoch : 87\n"
     ]
    },
    {
     "name": "stderr",
     "output_type": "stream",
     "text": [
      "100%|██████████| 83/83 [00:01<00:00, 66.34it/s]\n"
     ]
    },
    {
     "name": "stdout",
     "output_type": "stream",
     "text": [
      "Train Loss: 0.228 | Train Accuracy: 90.296 | Test Loss: 0.455 | Test Accuracy: 77.376 | Balance Accuracy: 0.723 | Precision: 0.185 | Recall: 0.664\n",
      "Learning rate: 1.850520922110404e-05\n",
      "Epoch : 88\n"
     ]
    },
    {
     "name": "stderr",
     "output_type": "stream",
     "text": [
      "100%|██████████| 83/83 [00:01<00:00, 70.61it/s]\n"
     ]
    },
    {
     "name": "stdout",
     "output_type": "stream",
     "text": [
      "Train Loss: 0.231 | Train Accuracy: 90.164 | Test Loss: 0.494 | Test Accuracy: 76.033 | Balance Accuracy: 0.728 | Precision: 0.180 | Recall: 0.690\n",
      "Learning rate: 1.5800290675143228e-05\n",
      "Epoch : 89\n"
     ]
    },
    {
     "name": "stderr",
     "output_type": "stream",
     "text": [
      "100%|██████████| 83/83 [00:01<00:00, 65.14it/s]\n"
     ]
    },
    {
     "name": "stdout",
     "output_type": "stream",
     "text": [
      "Train Loss: 0.231 | Train Accuracy: 90.121 | Test Loss: 0.475 | Test Accuracy: 76.735 | Balance Accuracy: 0.728 | Precision: 0.183 | Recall: 0.681\n",
      "Learning rate: 1.330182698529911e-05\n",
      "Epoch : 90\n"
     ]
    },
    {
     "name": "stderr",
     "output_type": "stream",
     "text": [
      "100%|██████████| 83/83 [00:01<00:00, 65.03it/s]\n"
     ]
    },
    {
     "name": "stdout",
     "output_type": "stream",
     "text": [
      "Train Loss: 0.230 | Train Accuracy: 90.286 | Test Loss: 0.539 | Test Accuracy: 73.794 | Balance Accuracy: 0.728 | Precision: 0.170 | Recall: 0.716\n",
      "Learning rate: 1.1012283833590322e-05\n",
      "Epoch : 91\n"
     ]
    },
    {
     "name": "stderr",
     "output_type": "stream",
     "text": [
      "100%|██████████| 83/83 [00:01<00:00, 69.49it/s]\n"
     ]
    },
    {
     "name": "stdout",
     "output_type": "stream",
     "text": [
      "Train Loss: 0.228 | Train Accuracy: 90.223 | Test Loss: 0.459 | Test Accuracy: 77.247 | Balance Accuracy: 0.724 | Precision: 0.185 | Recall: 0.669\n",
      "Learning rate: 8.933920722687702e-06\n",
      "Epoch : 92\n"
     ]
    },
    {
     "name": "stderr",
     "output_type": "stream",
     "text": [
      "100%|██████████| 83/83 [00:01<00:00, 63.62it/s]\n"
     ]
    },
    {
     "name": "stdout",
     "output_type": "stream",
     "text": [
      "Train Loss: 0.229 | Train Accuracy: 90.248 | Test Loss: 0.480 | Test Accuracy: 76.295 | Balance Accuracy: 0.729 | Precision: 0.181 | Recall: 0.689\n",
      "Learning rate: 7.068788746057944e-06\n",
      "Epoch : 93\n"
     ]
    },
    {
     "name": "stderr",
     "output_type": "stream",
     "text": [
      "100%|██████████| 83/83 [00:01<00:00, 69.12it/s]\n"
     ]
    },
    {
     "name": "stdout",
     "output_type": "stream",
     "text": [
      "Train Loss: 0.228 | Train Accuracy: 90.319 | Test Loss: 0.481 | Test Accuracy: 76.379 | Balance Accuracy: 0.727 | Precision: 0.181 | Recall: 0.685\n",
      "Learning rate: 5.418728563781784e-06\n",
      "Epoch : 94\n"
     ]
    },
    {
     "name": "stderr",
     "output_type": "stream",
     "text": [
      "100%|██████████| 83/83 [00:01<00:00, 65.09it/s]\n"
     ]
    },
    {
     "name": "stdout",
     "output_type": "stream",
     "text": [
      "Train Loss: 0.229 | Train Accuracy: 90.274 | Test Loss: 0.466 | Test Accuracy: 76.729 | Balance Accuracy: 0.728 | Precision: 0.183 | Recall: 0.682\n",
      "Learning rate: 3.985368586045014e-06\n",
      "Epoch : 95\n"
     ]
    },
    {
     "name": "stderr",
     "output_type": "stream",
     "text": [
      "100%|██████████| 83/83 [00:01<00:00, 66.05it/s]\n"
     ]
    },
    {
     "name": "stdout",
     "output_type": "stream",
     "text": [
      "Train Loss: 0.229 | Train Accuracy: 90.165 | Test Loss: 0.471 | Test Accuracy: 76.651 | Balance Accuracy: 0.729 | Precision: 0.183 | Recall: 0.685\n",
      "Learning rate: 2.7701233660939917e-06\n",
      "Epoch : 96\n"
     ]
    },
    {
     "name": "stderr",
     "output_type": "stream",
     "text": [
      "100%|██████████| 83/83 [00:01<00:00, 64.40it/s]\n"
     ]
    },
    {
     "name": "stdout",
     "output_type": "stream",
     "text": [
      "Train Loss: 0.229 | Train Accuracy: 90.251 | Test Loss: 0.496 | Test Accuracy: 75.599 | Balance Accuracy: 0.728 | Precision: 0.178 | Recall: 0.696\n",
      "Learning rate: 1.774192204242481e-06\n",
      "Epoch : 97\n"
     ]
    },
    {
     "name": "stderr",
     "output_type": "stream",
     "text": [
      "100%|██████████| 83/83 [00:01<00:00, 67.26it/s]\n"
     ]
    },
    {
     "name": "stdout",
     "output_type": "stream",
     "text": [
      "Train Loss: 0.229 | Train Accuracy: 90.163 | Test Loss: 0.484 | Test Accuracy: 76.111 | Balance Accuracy: 0.727 | Precision: 0.180 | Recall: 0.688\n",
      "Learning rate: 9.98557964306989e-07\n",
      "Epoch : 98\n"
     ]
    },
    {
     "name": "stderr",
     "output_type": "stream",
     "text": [
      "100%|██████████| 83/83 [00:01<00:00, 66.13it/s]\n"
     ]
    },
    {
     "name": "stdout",
     "output_type": "stream",
     "text": [
      "Train Loss: 0.228 | Train Accuracy: 90.390 | Test Loss: 0.463 | Test Accuracy: 77.047 | Balance Accuracy: 0.724 | Precision: 0.183 | Recall: 0.671\n",
      "Learning rate: 4.439861036388938e-07\n",
      "Epoch : 99\n"
     ]
    },
    {
     "name": "stderr",
     "output_type": "stream",
     "text": [
      "100%|██████████| 83/83 [00:01<00:00, 64.69it/s]\n"
     ]
    },
    {
     "name": "stdout",
     "output_type": "stream",
     "text": [
      "Train Loss: 0.229 | Train Accuracy: 90.198 | Test Loss: 0.493 | Test Accuracy: 75.905 | Balance Accuracy: 0.728 | Precision: 0.179 | Recall: 0.691\n",
      "Learning rate: 1.1102391771038853e-07\n",
      "Epoch : 100\n"
     ]
    },
    {
     "name": "stderr",
     "output_type": "stream",
     "text": [
      "100%|██████████| 83/83 [00:01<00:00, 64.75it/s]\n"
     ]
    },
    {
     "name": "stdout",
     "output_type": "stream",
     "text": [
      "Train Loss: 0.230 | Train Accuracy: 90.167 | Test Loss: 0.472 | Test Accuracy: 76.718 | Balance Accuracy: 0.728 | Precision: 0.183 | Recall: 0.682\n",
      "Learning rate: 0.0\n"
     ]
    },
    {
     "data": {
      "image/png": "[encoded data removed]",
      "text/plain": [
       "<Figure size 640x480 with 1 Axes>"
      ]
     },
     "metadata": {},
     "output_type": "display_data"
    },
    {
     "name": "stderr",
     "output_type": "stream",
     "text": [
      "100%|██████████| 18/18 [00:00<00:00, 90.96it/s]\n"
     ]
    },
    {
     "name": "stdout",
     "output_type": "stream",
     "text": [
      "Test Loss: 0.471 | Accuracy: 76.718\n"
     ]
    }
   ],
   "source": [
    "all_targets = ['LMST' ]\n",
    "\n",
    "for target in all_targets:\n",
    "    print(f'Processing target: {target}')\n",
    "    model = Net3( input_size=43)\n",
    "    process_target(df, target, model)"
   ]
  },
  {
   "cell_type": "code",
   "execution_count": 22,
   "metadata": {},
   "outputs": [
    {
     "data": {
      "image/png": "[encoded data removed]",
      "text/plain": [
       "<Figure size 2500x400 with 5 Axes>"
      ]
     },
     "metadata": {},
     "output_type": "display_data"
    }
   ],
   "source": [
    "# plot the loss and accuracy and\n",
    "metrics = {\n",
    "    'train_losses': train_losses,\n",
    "    'train_accu': train_accu,\n",
    "    'eval_losses': eval_losses,\n",
    "    'eval_accu': eval_accu,\n",
    "    'balance_accuracy_list': balance_accuracy_list,\n",
    "    'precision_list': precision_list,\n",
    "    'recall_list': recall_list\n",
    "}\n",
    "plot_metrics(metrics, ['loss', 'accuracy', 'balance_accuracy', 'recall', 'precision'])"
   ]
  }
 ],
 "metadata": {
  "kernelspec": {
   "display_name": "mlenv",
   "language": "python",
   "name": "python3"
  },
  "language_info": {
   "codemirror_mode": {
    "name": "ipython",
    "version": 3
   },
   "file_extension": ".py",
   "mimetype": "text/x-python",
   "name": "python",
   "nbconvert_exporter": "python",
   "pygments_lexer": "ipython3",
   "version": "3.11.4"
  },
  "orig_nbformat": 4
 },
 "nbformat": 4,
 "nbformat_minor": 2
}
