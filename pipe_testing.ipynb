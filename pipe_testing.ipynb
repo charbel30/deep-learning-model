{
 "cells": [
  {
   "cell_type": "code",
   "execution_count": 62,
   "metadata": {},
   "outputs": [],
   "source": [
    "import pandas as pd\n",
    "import numpy as np\n",
    "import torch\n",
    "from torch import nn\n",
    "from torch.utils.data import TensorDataset, DataLoader\n",
    "from sklearn.impute import SimpleImputer\n",
    "import seaborn as sns\n",
    "from sklearn.metrics import  precision_score, recall_score, f1_score,balanced_accuracy_score\n",
    "import seaborn as sns\n",
    "from tqdm import tqdm\n",
    "from utils.Preprocessing_utils import output_selection_prepro\n",
    "from utils.heatmap_plots import plot_heat_map, plot_metrics\n",
    "from predict_model import test_model\n",
    "from sklearn.model_selection import train_test_split\n",
    "from sklearn.preprocessing import StandardScaler\n",
    "from models.FeedForwardNet.model import Net as Net\n",
    "from models.FeedForwardNet.model_3 import Net as Net3\n",
    "from torchvision import models"
   ]
  },
  {
   "cell_type": "code",
   "execution_count": 63,
   "metadata": {},
   "outputs": [],
   "source": [
    "df = pd.read_csv('data/raw/dukecathr.csv')\n",
    "device = torch.device(\"cuda:0\" if torch.cuda.is_available() else \"cpu\")"
   ]
  },
  {
   "cell_type": "code",
   "execution_count": 64,
   "metadata": {},
   "outputs": [],
   "source": [
    "\n",
    "train_losses=[]\n",
    "train_accu=[]\n",
    "eval_losses=[]\n",
    "eval_accu=[]\n",
    "balance_accuracy_list = []\n",
    "precision_list = []\n",
    "recall_list = []"
   ]
  },
  {
   "cell_type": "code",
   "execution_count": null,
   "metadata": {},
   "outputs": [],
   "source": []
  },
  {
   "cell_type": "code",
   "execution_count": 65,
   "metadata": {},
   "outputs": [],
   "source": [
    "def train_epoch(model, dataloader, criterion, optimizer):\n",
    "    model.train()\n",
    "    running_loss = 0\n",
    "    correct = 0\n",
    "    total = 0\n",
    "    for data in tqdm(dataloader):\n",
    "        inputs, labels = data[0].to(device), data[1].to(device)\n",
    "        optimizer.zero_grad()\n",
    "        pred = model(inputs)\n",
    "        predicted = torch.round(pred)  # Round the output probabilities to get binary predictions\n",
    "        total += labels.size(0)\n",
    "        correct += predicted.eq(labels).sum().item()\n",
    "        loss = criterion(pred, labels)\n",
    "        loss.backward()\n",
    "        optimizer.step()\n",
    "        running_loss += loss.item()\n",
    "    train_loss=running_loss/len(dataloader)\n",
    "    accu=100.*correct/total\n",
    "    return train_loss, accu"
   ]
  },
  {
   "cell_type": "code",
   "execution_count": 66,
   "metadata": {},
   "outputs": [],
   "source": [
    "def evaluate_epoch(model, dataloader, criterion):\n",
    "    model.eval()\n",
    "    running_loss = 0\n",
    "    correct = 0\n",
    "    total = 0\n",
    "    all_labels = []\n",
    "    all_preds = []\n",
    "    for data in dataloader:\n",
    "        inputs, labels = data[0].to(device), data[1].to(device)\n",
    "        outputs = model(inputs)\n",
    "        predicted = torch.round(outputs)  # Round the output probabilities to get binary predictions\n",
    "        total += labels.size(0)\n",
    "        correct += predicted.eq(labels).sum().item()\n",
    "        loss = criterion(outputs, labels)\n",
    "        running_loss += loss.item()\n",
    "\n",
    "        # Store all labels and predictions for metric calculation\n",
    "        all_labels.extend(labels.cpu().numpy())\n",
    "        all_preds.extend(predicted.detach().cpu().numpy())  # Detach the tensor before converting to numpy\n",
    "            \n",
    "    test_loss=running_loss/len(dataloader)\n",
    "    test_accu=100.*correct/total\n",
    "\n",
    "    # Calculate metrics\n",
    "    balance_acc = balanced_accuracy_score(all_labels, all_preds)\n",
    "    precision = precision_score(all_labels, all_preds)\n",
    "    recall = recall_score(all_labels, all_preds)\n",
    "\n",
    "    return test_loss, test_accu, balance_acc, precision, recall"
   ]
  },
  {
   "cell_type": "code",
   "execution_count": 67,
   "metadata": {},
   "outputs": [],
   "source": [
    "def train_model(model, train_dataloader, test_dataloader, criterion, optimizer, num_epochs=25, model_path='models/FeedForwardNet/saved_model.pth'):\n",
    "    model = model.to(device)  # Move the model to the GPU\n",
    "    \n",
    "    for epoch in range(num_epochs):\n",
    "        print(f'Epoch : {epoch+1}')\n",
    "        \n",
    "        train_loss, accu = train_epoch(model, train_dataloader, criterion, optimizer)\n",
    "        train_accu.append(accu)\n",
    "        train_losses.append(train_loss)\n",
    "\n",
    "        test_loss, test_accu, balance_acc, precision, recall = evaluate_epoch(model, test_dataloader, criterion)\n",
    "        eval_losses.append(test_loss)\n",
    "        eval_accu.append(test_accu)\n",
    "\n",
    "        # Append the metrics to the lists\n",
    "        balance_accuracy_list.append(balance_acc)\n",
    "        precision_list.append(precision)\n",
    "        recall_list.append(recall)\n",
    "\n",
    "        print(f'Train Loss: {train_loss:.3f} | Train Accuracy: {accu:.3f} | Test Loss: {test_loss:.3f} | Test Accuracy: {test_accu:.3f} | Balance Accuracy: {balance_acc:.3f} | Precision: {precision:.3f} | Recall: {recall:.3f}')\n",
    "        \n",
    "    torch.save(model.state_dict(), model_path)"
   ]
  },
  {
   "cell_type": "code",
   "execution_count": 68,
   "metadata": {},
   "outputs": [],
   "source": [
    "def evaluate_model(model, dataloader, criterion):\n",
    "    model = model.to(device)  # Move the model to the GPU\n",
    "    model.eval()  # Set model to evaluate mode\n",
    "    running_loss=0\n",
    "    correct=0\n",
    "    total=0\n",
    "    all_labels = []\n",
    "    all_preds = []\n",
    "    with torch.no_grad():\n",
    "        for data in tqdm(dataloader):\n",
    "            images,labels=data[0].to(device),data[1].to(device)\n",
    "            outputs=model(images)\n",
    "            loss= criterion(outputs,labels)\n",
    "            running_loss+=loss.item()\n",
    "            predicted = torch.round(outputs)  # Round the output probabilities to get binary predictions\n",
    "            total += labels.size(0)\n",
    "            correct += predicted.eq(labels).sum().item()\n",
    "            \n",
    "            # Store all labels and predictions for metric calculation\n",
    "            all_labels.extend(labels.cpu().numpy())\n",
    "            all_preds.extend(predicted.cpu().numpy())\n",
    "            \n",
    "    test_loss=running_loss/len(dataloader)\n",
    "    accu=100.*correct/total\n",
    "    eval_losses.append(test_loss)\n",
    "    eval_accu.append(accu)\n",
    "    \n",
    "    # Calculate metrics\n",
    "    balance_acc = balanced_accuracy_score(all_labels, all_preds)\n",
    "    precision = precision_score(all_labels, all_preds)\n",
    "    recall = recall_score(all_labels, all_preds)\n",
    "\n",
    "    # Append the metrics to the lists\n",
    "    balance_accuracy_list.append(balance_acc)\n",
    "    precision_list.append(precision)\n",
    "    recall_list.append(recall)\n",
    "\n",
    "    print(f'Test Loss: {test_loss:.3f} | Accuracy: {accu:.3f}')"
   ]
  },
  {
   "cell_type": "code",
   "execution_count": 69,
   "metadata": {},
   "outputs": [],
   "source": [
    "def process_target(df, target, model):\n",
    "   # Step 1: Preprocess the data\n",
    "   X, y, num_cols, cat_cols = output_selection_prepro(df, target)\n",
    "\n",
    "   # Split the data into train and test sets\n",
    "   X_train, X_test, y_train, y_test = train_test_split(X, y, test_size=0.25, random_state=465)\n",
    "   \n",
    "   Scaler = StandardScaler( )\n",
    "   X_train = Scaler.fit_transform(X_train)\n",
    "   X_test = Scaler.transform(X_test)\n",
    "   \n",
    "   \n",
    "   # Convert features and labels to tensors\n",
    "   X_train_tensor = torch.tensor(X_train.astype(np.float32))\n",
    "   X_test_tensor = torch.tensor(X_test.astype(np.float32))\n",
    "   y_train_tensor = torch.tensor(y_train.values).float().unsqueeze(1)\n",
    "   y_test_tensor = torch.tensor(y_test.values).float().unsqueeze(1)\n",
    "\n",
    "   # Convert the data into PyTorch tensors and load them into a DataLoader\n",
    "   train_data = TensorDataset(X_train_tensor, y_train_tensor)\n",
    "   test_data = TensorDataset(X_test_tensor, y_test_tensor)\n",
    "   #save test data\n",
    "   torch.save(test_data, f'data/processed/{target}/test_data.pth')\n",
    "\n",
    "   batch_size = 2048\n",
    "   train_loader = DataLoader(train_data, shuffle=True, batch_size=batch_size)\n",
    "   test_loader = DataLoader(test_data, shuffle=True, batch_size=batch_size)\n",
    "\n",
    "   # Define the model, loss function, and optimizer\n",
    "   model = model\n",
    "   criterion = nn.BCELoss()\n",
    "   optimizer = torch.optim.Adam(model.parameters(), lr=0.00009)\n",
    "\n",
    "   # Train the model\n",
    "   train_model(model, train_loader, test_loader, criterion, optimizer, num_epochs=150)\n",
    "\n",
    "   evaluate_model(model, test_loader, criterion)"
   ]
  },
  {
   "cell_type": "code",
   "execution_count": 70,
   "metadata": {},
   "outputs": [
    {
     "name": "stdout",
     "output_type": "stream",
     "text": [
      "Loading data from data/processed/RCAST/imputed_data_RCAST.csv...\n"
     ]
    },
    {
     "name": "stdout",
     "output_type": "stream",
     "text": [
      "No missing values found.\n",
      "Final X columns: ['RDAYSFROMINDEX', 'RSEQCATHNUM', 'RSUBJID', 'YRCATH_G', 'AGE_G', 'GENDER', 'RACE_G', 'DPCABG', 'DPMI', 'DPPCI', 'HXANGINA', 'HXCEREB', 'HXCHF', 'HXCOPD', 'HXDIAB', 'HXHTN', 'HXHYL', 'HXMI', 'HXSMOKE', 'NUMPRMI', 'DIASBP_R', 'PULSE_R', 'SYSBP_R', 'CBRUITS', 'HEIGHT_R', 'S3', 'WEIGHT_R', 'CREATININE_R', 'HDL_R', 'LDL_R', 'TOTCHOL_R', 'CATHAPPR', 'DIAGCATH', 'INTVCATH', 'CORDOM', 'GRAFTST', 'LVEF_R', 'DAYS2LKA', 'DSCABG', 'DSMI', 'DSPCI', 'DSSTROKE', 'FUPROTCL']\n",
      "Epoch : 1\n"
     ]
    },
    {
     "name": "stderr",
     "output_type": "stream",
     "text": [
      "100%|██████████| 25/25 [00:00<00:00, 30.11it/s]\n"
     ]
    },
    {
     "name": "stdout",
     "output_type": "stream",
     "text": [
      "Train Loss: 0.678 | Train Accuracy: 57.178 | Test Loss: 0.657 | Test Accuracy: 67.021 | Balance Accuracy: 0.641 | Precision: 0.722 | Recall: 0.763\n",
      "Epoch : 2\n"
     ]
    },
    {
     "name": "stderr",
     "output_type": "stream",
     "text": [
      "100%|██████████| 25/25 [00:00<00:00, 34.10it/s]\n"
     ]
    },
    {
     "name": "stdout",
     "output_type": "stream",
     "text": [
      "Train Loss: 0.625 | Train Accuracy: 65.405 | Test Loss: 0.598 | Test Accuracy: 69.797 | Balance Accuracy: 0.664 | Precision: 0.734 | Recall: 0.805\n",
      "Epoch : 3\n"
     ]
    },
    {
     "name": "stderr",
     "output_type": "stream",
     "text": [
      "100%|██████████| 25/25 [00:00<00:00, 37.19it/s]\n"
     ]
    },
    {
     "name": "stdout",
     "output_type": "stream",
     "text": [
      "Train Loss: 0.590 | Train Accuracy: 68.806 | Test Loss: 0.571 | Test Accuracy: 71.015 | Balance Accuracy: 0.670 | Precision: 0.734 | Recall: 0.837\n",
      "Epoch : 4\n"
     ]
    },
    {
     "name": "stderr",
     "output_type": "stream",
     "text": [
      "100%|██████████| 25/25 [00:00<00:00, 35.82it/s]\n"
     ]
    },
    {
     "name": "stdout",
     "output_type": "stream",
     "text": [
      "Train Loss: 0.571 | Train Accuracy: 70.181 | Test Loss: 0.558 | Test Accuracy: 71.875 | Balance Accuracy: 0.673 | Precision: 0.732 | Recall: 0.862\n",
      "Epoch : 5\n"
     ]
    },
    {
     "name": "stderr",
     "output_type": "stream",
     "text": [
      "100%|██████████| 25/25 [00:00<00:00, 37.50it/s]\n"
     ]
    },
    {
     "name": "stdout",
     "output_type": "stream",
     "text": [
      "Train Loss: 0.559 | Train Accuracy: 71.009 | Test Loss: 0.548 | Test Accuracy: 72.478 | Balance Accuracy: 0.676 | Precision: 0.732 | Recall: 0.879\n",
      "Epoch : 6\n"
     ]
    },
    {
     "name": "stderr",
     "output_type": "stream",
     "text": [
      "100%|██████████| 25/25 [00:00<00:00, 31.62it/s]\n"
     ]
    },
    {
     "name": "stdout",
     "output_type": "stream",
     "text": [
      "Train Loss: 0.552 | Train Accuracy: 71.447 | Test Loss: 0.536 | Test Accuracy: 72.764 | Balance Accuracy: 0.680 | Precision: 0.735 | Recall: 0.877\n",
      "Epoch : 7\n"
     ]
    },
    {
     "name": "stderr",
     "output_type": "stream",
     "text": [
      "100%|██████████| 25/25 [00:00<00:00, 44.58it/s]\n"
     ]
    },
    {
     "name": "stdout",
     "output_type": "stream",
     "text": [
      "Train Loss: 0.546 | Train Accuracy: 71.642 | Test Loss: 0.533 | Test Accuracy: 72.979 | Balance Accuracy: 0.682 | Precision: 0.737 | Recall: 0.878\n",
      "Epoch : 8\n"
     ]
    },
    {
     "name": "stderr",
     "output_type": "stream",
     "text": [
      "100%|██████████| 25/25 [00:00<00:00, 38.48it/s]\n"
     ]
    },
    {
     "name": "stdout",
     "output_type": "stream",
     "text": [
      "Train Loss: 0.542 | Train Accuracy: 71.902 | Test Loss: 0.532 | Test Accuracy: 73.182 | Balance Accuracy: 0.683 | Precision: 0.737 | Recall: 0.884\n",
      "Epoch : 9\n"
     ]
    },
    {
     "name": "stderr",
     "output_type": "stream",
     "text": [
      "100%|██████████| 25/25 [00:00<00:00, 37.27it/s]\n"
     ]
    },
    {
     "name": "stdout",
     "output_type": "stream",
     "text": [
      "Train Loss: 0.538 | Train Accuracy: 72.261 | Test Loss: 0.528 | Test Accuracy: 73.254 | Balance Accuracy: 0.686 | Precision: 0.739 | Recall: 0.879\n",
      "Epoch : 10\n"
     ]
    },
    {
     "name": "stderr",
     "output_type": "stream",
     "text": [
      "100%|██████████| 25/25 [00:00<00:00, 37.17it/s]\n"
     ]
    },
    {
     "name": "stdout",
     "output_type": "stream",
     "text": [
      "Train Loss: 0.535 | Train Accuracy: 72.332 | Test Loss: 0.526 | Test Accuracy: 73.367 | Balance Accuracy: 0.688 | Precision: 0.741 | Recall: 0.877\n",
      "Epoch : 11\n"
     ]
    },
    {
     "name": "stderr",
     "output_type": "stream",
     "text": [
      "100%|██████████| 25/25 [00:00<00:00, 30.76it/s]\n"
     ]
    },
    {
     "name": "stdout",
     "output_type": "stream",
     "text": [
      "Train Loss: 0.534 | Train Accuracy: 72.561 | Test Loss: 0.525 | Test Accuracy: 73.439 | Balance Accuracy: 0.688 | Precision: 0.741 | Recall: 0.879\n",
      "Epoch : 12\n"
     ]
    },
    {
     "name": "stderr",
     "output_type": "stream",
     "text": [
      "100%|██████████| 25/25 [00:00<00:00, 31.13it/s]\n"
     ]
    },
    {
     "name": "stdout",
     "output_type": "stream",
     "text": [
      "Train Loss: 0.531 | Train Accuracy: 72.663 | Test Loss: 0.521 | Test Accuracy: 73.481 | Balance Accuracy: 0.688 | Precision: 0.740 | Recall: 0.883\n",
      "Epoch : 13\n"
     ]
    },
    {
     "name": "stderr",
     "output_type": "stream",
     "text": [
      "100%|██████████| 25/25 [00:00<00:00, 35.07it/s]\n"
     ]
    },
    {
     "name": "stdout",
     "output_type": "stream",
     "text": [
      "Train Loss: 0.528 | Train Accuracy: 72.812 | Test Loss: 0.521 | Test Accuracy: 73.594 | Balance Accuracy: 0.690 | Precision: 0.742 | Recall: 0.880\n",
      "Epoch : 14\n"
     ]
    },
    {
     "name": "stderr",
     "output_type": "stream",
     "text": [
      "100%|██████████| 25/25 [00:00<00:00, 37.15it/s]\n"
     ]
    },
    {
     "name": "stdout",
     "output_type": "stream",
     "text": [
      "Train Loss: 0.526 | Train Accuracy: 73.037 | Test Loss: 0.517 | Test Accuracy: 73.893 | Balance Accuracy: 0.694 | Precision: 0.745 | Recall: 0.881\n",
      "Epoch : 15\n"
     ]
    },
    {
     "name": "stderr",
     "output_type": "stream",
     "text": [
      "100%|██████████| 25/25 [00:00<00:00, 35.97it/s]\n"
     ]
    },
    {
     "name": "stdout",
     "output_type": "stream",
     "text": [
      "Train Loss: 0.524 | Train Accuracy: 73.172 | Test Loss: 0.513 | Test Accuracy: 73.982 | Balance Accuracy: 0.695 | Precision: 0.746 | Recall: 0.881\n",
      "Epoch : 16\n"
     ]
    },
    {
     "name": "stderr",
     "output_type": "stream",
     "text": [
      "100%|██████████| 25/25 [00:00<00:00, 30.50it/s]\n"
     ]
    },
    {
     "name": "stdout",
     "output_type": "stream",
     "text": [
      "Train Loss: 0.522 | Train Accuracy: 73.162 | Test Loss: 0.517 | Test Accuracy: 74.096 | Balance Accuracy: 0.696 | Precision: 0.746 | Recall: 0.883\n",
      "Epoch : 17\n"
     ]
    },
    {
     "name": "stderr",
     "output_type": "stream",
     "text": [
      "100%|██████████| 25/25 [00:00<00:00, 31.52it/s]\n"
     ]
    },
    {
     "name": "stdout",
     "output_type": "stream",
     "text": [
      "Train Loss: 0.521 | Train Accuracy: 73.491 | Test Loss: 0.513 | Test Accuracy: 74.173 | Balance Accuracy: 0.699 | Precision: 0.750 | Recall: 0.875\n",
      "Epoch : 18\n"
     ]
    },
    {
     "name": "stderr",
     "output_type": "stream",
     "text": [
      "100%|██████████| 25/25 [00:00<00:00, 34.94it/s]\n"
     ]
    },
    {
     "name": "stdout",
     "output_type": "stream",
     "text": [
      "Train Loss: 0.518 | Train Accuracy: 73.612 | Test Loss: 0.513 | Test Accuracy: 74.149 | Balance Accuracy: 0.697 | Precision: 0.748 | Recall: 0.880\n",
      "Epoch : 19\n"
     ]
    },
    {
     "name": "stderr",
     "output_type": "stream",
     "text": [
      "100%|██████████| 25/25 [00:00<00:00, 36.70it/s]\n"
     ]
    },
    {
     "name": "stdout",
     "output_type": "stream",
     "text": [
      "Train Loss: 0.518 | Train Accuracy: 73.461 | Test Loss: 0.510 | Test Accuracy: 74.239 | Balance Accuracy: 0.701 | Precision: 0.752 | Recall: 0.872\n",
      "Epoch : 20\n"
     ]
    },
    {
     "name": "stderr",
     "output_type": "stream",
     "text": [
      "100%|██████████| 25/25 [00:00<00:00, 43.83it/s]\n"
     ]
    },
    {
     "name": "stdout",
     "output_type": "stream",
     "text": [
      "Train Loss: 0.517 | Train Accuracy: 73.572 | Test Loss: 0.506 | Test Accuracy: 74.400 | Balance Accuracy: 0.699 | Precision: 0.749 | Recall: 0.884\n",
      "Epoch : 21\n"
     ]
    },
    {
     "name": "stderr",
     "output_type": "stream",
     "text": [
      "100%|██████████| 25/25 [00:00<00:00, 43.11it/s]\n"
     ]
    },
    {
     "name": "stdout",
     "output_type": "stream",
     "text": [
      "Train Loss: 0.515 | Train Accuracy: 73.809 | Test Loss: 0.506 | Test Accuracy: 74.531 | Balance Accuracy: 0.704 | Precision: 0.754 | Recall: 0.876\n",
      "Epoch : 22\n"
     ]
    },
    {
     "name": "stderr",
     "output_type": "stream",
     "text": [
      "100%|██████████| 25/25 [00:00<00:00, 37.71it/s]\n"
     ]
    },
    {
     "name": "stdout",
     "output_type": "stream",
     "text": [
      "Train Loss: 0.515 | Train Accuracy: 73.785 | Test Loss: 0.503 | Test Accuracy: 74.603 | Balance Accuracy: 0.704 | Precision: 0.753 | Recall: 0.878\n",
      "Epoch : 23\n"
     ]
    },
    {
     "name": "stderr",
     "output_type": "stream",
     "text": [
      "100%|██████████| 25/25 [00:00<00:00, 35.31it/s]\n"
     ]
    },
    {
     "name": "stdout",
     "output_type": "stream",
     "text": [
      "Train Loss: 0.514 | Train Accuracy: 73.721 | Test Loss: 0.504 | Test Accuracy: 74.639 | Balance Accuracy: 0.705 | Precision: 0.755 | Recall: 0.876\n",
      "Epoch : 24\n"
     ]
    },
    {
     "name": "stderr",
     "output_type": "stream",
     "text": [
      "100%|██████████| 25/25 [00:00<00:00, 34.22it/s]\n"
     ]
    },
    {
     "name": "stdout",
     "output_type": "stream",
     "text": [
      "Train Loss: 0.511 | Train Accuracy: 74.068 | Test Loss: 0.502 | Test Accuracy: 74.788 | Balance Accuracy: 0.706 | Precision: 0.755 | Recall: 0.879\n",
      "Epoch : 25\n"
     ]
    },
    {
     "name": "stderr",
     "output_type": "stream",
     "text": [
      "100%|██████████| 25/25 [00:00<00:00, 34.86it/s]\n"
     ]
    },
    {
     "name": "stdout",
     "output_type": "stream",
     "text": [
      "Train Loss: 0.510 | Train Accuracy: 74.040 | Test Loss: 0.502 | Test Accuracy: 74.872 | Balance Accuracy: 0.709 | Precision: 0.758 | Recall: 0.874\n",
      "Epoch : 26\n"
     ]
    },
    {
     "name": "stderr",
     "output_type": "stream",
     "text": [
      "100%|██████████| 25/25 [00:00<00:00, 37.74it/s]\n"
     ]
    },
    {
     "name": "stdout",
     "output_type": "stream",
     "text": [
      "Train Loss: 0.511 | Train Accuracy: 74.197 | Test Loss: 0.501 | Test Accuracy: 74.907 | Balance Accuracy: 0.706 | Precision: 0.755 | Recall: 0.883\n",
      "Epoch : 27\n"
     ]
    },
    {
     "name": "stderr",
     "output_type": "stream",
     "text": [
      "100%|██████████| 25/25 [00:00<00:00, 34.75it/s]\n"
     ]
    },
    {
     "name": "stdout",
     "output_type": "stream",
     "text": [
      "Train Loss: 0.510 | Train Accuracy: 74.064 | Test Loss: 0.504 | Test Accuracy: 74.890 | Balance Accuracy: 0.709 | Precision: 0.758 | Recall: 0.875\n",
      "Epoch : 28\n"
     ]
    },
    {
     "name": "stderr",
     "output_type": "stream",
     "text": [
      "100%|██████████| 25/25 [00:00<00:00, 31.09it/s]\n"
     ]
    },
    {
     "name": "stdout",
     "output_type": "stream",
     "text": [
      "Train Loss: 0.509 | Train Accuracy: 74.171 | Test Loss: 0.499 | Test Accuracy: 74.961 | Balance Accuracy: 0.708 | Precision: 0.756 | Recall: 0.881\n",
      "Epoch : 29\n"
     ]
    },
    {
     "name": "stderr",
     "output_type": "stream",
     "text": [
      "100%|██████████| 25/25 [00:00<00:00, 35.93it/s]\n"
     ]
    },
    {
     "name": "stdout",
     "output_type": "stream",
     "text": [
      "Train Loss: 0.507 | Train Accuracy: 74.418 | Test Loss: 0.501 | Test Accuracy: 75.027 | Balance Accuracy: 0.710 | Precision: 0.759 | Recall: 0.876\n",
      "Epoch : 30\n"
     ]
    },
    {
     "name": "stderr",
     "output_type": "stream",
     "text": [
      "100%|██████████| 25/25 [00:00<00:00, 37.57it/s]\n"
     ]
    },
    {
     "name": "stdout",
     "output_type": "stream",
     "text": [
      "Train Loss: 0.507 | Train Accuracy: 74.424 | Test Loss: 0.501 | Test Accuracy: 75.057 | Balance Accuracy: 0.709 | Precision: 0.757 | Recall: 0.881\n",
      "Epoch : 31\n"
     ]
    },
    {
     "name": "stderr",
     "output_type": "stream",
     "text": [
      "100%|██████████| 25/25 [00:00<00:00, 47.79it/s]\n"
     ]
    },
    {
     "name": "stdout",
     "output_type": "stream",
     "text": [
      "Train Loss: 0.506 | Train Accuracy: 74.322 | Test Loss: 0.499 | Test Accuracy: 75.140 | Balance Accuracy: 0.712 | Precision: 0.760 | Recall: 0.876\n",
      "Epoch : 32\n"
     ]
    },
    {
     "name": "stderr",
     "output_type": "stream",
     "text": [
      "100%|██████████| 25/25 [00:00<00:00, 46.69it/s]\n"
     ]
    },
    {
     "name": "stdout",
     "output_type": "stream",
     "text": [
      "Train Loss: 0.505 | Train Accuracy: 74.615 | Test Loss: 0.495 | Test Accuracy: 75.146 | Balance Accuracy: 0.711 | Precision: 0.760 | Recall: 0.877\n",
      "Epoch : 33\n"
     ]
    },
    {
     "name": "stderr",
     "output_type": "stream",
     "text": [
      "100%|██████████| 25/25 [00:00<00:00, 41.86it/s]\n"
     ]
    },
    {
     "name": "stdout",
     "output_type": "stream",
     "text": [
      "Train Loss: 0.503 | Train Accuracy: 74.559 | Test Loss: 0.498 | Test Accuracy: 75.158 | Balance Accuracy: 0.712 | Precision: 0.760 | Recall: 0.877\n",
      "Epoch : 34\n"
     ]
    },
    {
     "name": "stderr",
     "output_type": "stream",
     "text": [
      "100%|██████████| 25/25 [00:00<00:00, 35.21it/s]\n"
     ]
    },
    {
     "name": "stdout",
     "output_type": "stream",
     "text": [
      "Train Loss: 0.502 | Train Accuracy: 74.720 | Test Loss: 0.497 | Test Accuracy: 75.164 | Balance Accuracy: 0.712 | Precision: 0.761 | Recall: 0.876\n",
      "Epoch : 35\n"
     ]
    },
    {
     "name": "stderr",
     "output_type": "stream",
     "text": [
      "100%|██████████| 25/25 [00:00<00:00, 36.53it/s]\n"
     ]
    },
    {
     "name": "stdout",
     "output_type": "stream",
     "text": [
      "Train Loss: 0.501 | Train Accuracy: 74.629 | Test Loss: 0.494 | Test Accuracy: 75.337 | Balance Accuracy: 0.714 | Precision: 0.762 | Recall: 0.877\n",
      "Epoch : 36\n"
     ]
    },
    {
     "name": "stderr",
     "output_type": "stream",
     "text": [
      "100%|██████████| 25/25 [00:00<00:00, 36.60it/s]\n"
     ]
    },
    {
     "name": "stdout",
     "output_type": "stream",
     "text": [
      "Train Loss: 0.501 | Train Accuracy: 74.854 | Test Loss: 0.499 | Test Accuracy: 75.319 | Balance Accuracy: 0.715 | Precision: 0.763 | Recall: 0.875\n",
      "Epoch : 37\n"
     ]
    },
    {
     "name": "stderr",
     "output_type": "stream",
     "text": [
      "100%|██████████| 25/25 [00:00<00:00, 32.45it/s]\n"
     ]
    },
    {
     "name": "stdout",
     "output_type": "stream",
     "text": [
      "Train Loss: 0.500 | Train Accuracy: 74.901 | Test Loss: 0.498 | Test Accuracy: 75.355 | Balance Accuracy: 0.715 | Precision: 0.763 | Recall: 0.876\n",
      "Epoch : 38\n"
     ]
    },
    {
     "name": "stderr",
     "output_type": "stream",
     "text": [
      "100%|██████████| 25/25 [00:00<00:00, 33.17it/s]\n"
     ]
    },
    {
     "name": "stdout",
     "output_type": "stream",
     "text": [
      "Train Loss: 0.500 | Train Accuracy: 74.710 | Test Loss: 0.495 | Test Accuracy: 75.367 | Balance Accuracy: 0.715 | Precision: 0.762 | Recall: 0.876\n",
      "Epoch : 39\n"
     ]
    },
    {
     "name": "stderr",
     "output_type": "stream",
     "text": [
      "100%|██████████| 25/25 [00:00<00:00, 36.14it/s]\n"
     ]
    },
    {
     "name": "stdout",
     "output_type": "stream",
     "text": [
      "Train Loss: 0.499 | Train Accuracy: 74.687 | Test Loss: 0.494 | Test Accuracy: 75.284 | Balance Accuracy: 0.716 | Precision: 0.766 | Recall: 0.867\n",
      "Epoch : 40\n"
     ]
    },
    {
     "name": "stderr",
     "output_type": "stream",
     "text": [
      "100%|██████████| 25/25 [00:00<00:00, 32.27it/s]\n"
     ]
    },
    {
     "name": "stdout",
     "output_type": "stream",
     "text": [
      "Train Loss: 0.499 | Train Accuracy: 75.043 | Test Loss: 0.494 | Test Accuracy: 75.373 | Balance Accuracy: 0.716 | Precision: 0.765 | Recall: 0.871\n",
      "Epoch : 41\n"
     ]
    },
    {
     "name": "stderr",
     "output_type": "stream",
     "text": [
      "100%|██████████| 25/25 [00:00<00:00, 37.60it/s]\n"
     ]
    },
    {
     "name": "stdout",
     "output_type": "stream",
     "text": [
      "Train Loss: 0.498 | Train Accuracy: 75.067 | Test Loss: 0.497 | Test Accuracy: 75.415 | Balance Accuracy: 0.715 | Precision: 0.762 | Recall: 0.878\n",
      "Epoch : 42\n"
     ]
    },
    {
     "name": "stderr",
     "output_type": "stream",
     "text": [
      "100%|██████████| 25/25 [00:00<00:00, 43.50it/s]\n"
     ]
    },
    {
     "name": "stdout",
     "output_type": "stream",
     "text": [
      "Train Loss: 0.497 | Train Accuracy: 74.818 | Test Loss: 0.493 | Test Accuracy: 75.463 | Balance Accuracy: 0.717 | Precision: 0.766 | Recall: 0.871\n",
      "Epoch : 43\n"
     ]
    },
    {
     "name": "stderr",
     "output_type": "stream",
     "text": [
      "100%|██████████| 25/25 [00:00<00:00, 47.62it/s]\n"
     ]
    },
    {
     "name": "stdout",
     "output_type": "stream",
     "text": [
      "Train Loss: 0.497 | Train Accuracy: 75.192 | Test Loss: 0.493 | Test Accuracy: 75.487 | Balance Accuracy: 0.718 | Precision: 0.767 | Recall: 0.870\n",
      "Epoch : 44\n"
     ]
    },
    {
     "name": "stderr",
     "output_type": "stream",
     "text": [
      "100%|██████████| 25/25 [00:00<00:00, 47.47it/s]\n"
     ]
    },
    {
     "name": "stdout",
     "output_type": "stream",
     "text": [
      "Train Loss: 0.496 | Train Accuracy: 75.134 | Test Loss: 0.493 | Test Accuracy: 75.588 | Balance Accuracy: 0.717 | Precision: 0.764 | Recall: 0.877\n",
      "Epoch : 45\n"
     ]
    },
    {
     "name": "stderr",
     "output_type": "stream",
     "text": [
      "100%|██████████| 25/25 [00:00<00:00, 34.55it/s]\n"
     ]
    },
    {
     "name": "stdout",
     "output_type": "stream",
     "text": [
      "Train Loss: 0.497 | Train Accuracy: 75.023 | Test Loss: 0.493 | Test Accuracy: 75.642 | Balance Accuracy: 0.718 | Precision: 0.765 | Recall: 0.877\n",
      "Epoch : 46\n"
     ]
    },
    {
     "name": "stderr",
     "output_type": "stream",
     "text": [
      "100%|██████████| 25/25 [00:00<00:00, 36.15it/s]\n"
     ]
    },
    {
     "name": "stdout",
     "output_type": "stream",
     "text": [
      "Train Loss: 0.495 | Train Accuracy: 75.104 | Test Loss: 0.493 | Test Accuracy: 75.672 | Balance Accuracy: 0.718 | Precision: 0.764 | Recall: 0.879\n",
      "Epoch : 47\n"
     ]
    },
    {
     "name": "stderr",
     "output_type": "stream",
     "text": [
      "100%|██████████| 25/25 [00:00<00:00, 30.36it/s]\n"
     ]
    },
    {
     "name": "stdout",
     "output_type": "stream",
     "text": [
      "Train Loss: 0.493 | Train Accuracy: 75.475 | Test Loss: 0.492 | Test Accuracy: 75.696 | Balance Accuracy: 0.719 | Precision: 0.766 | Recall: 0.876\n",
      "Epoch : 48\n"
     ]
    },
    {
     "name": "stderr",
     "output_type": "stream",
     "text": [
      "100%|██████████| 25/25 [00:00<00:00, 37.44it/s]\n"
     ]
    },
    {
     "name": "stdout",
     "output_type": "stream",
     "text": [
      "Train Loss: 0.493 | Train Accuracy: 75.339 | Test Loss: 0.493 | Test Accuracy: 75.791 | Balance Accuracy: 0.718 | Precision: 0.765 | Recall: 0.882\n",
      "Epoch : 49\n"
     ]
    },
    {
     "name": "stderr",
     "output_type": "stream",
     "text": [
      "100%|██████████| 25/25 [00:00<00:00, 32.31it/s]\n"
     ]
    },
    {
     "name": "stdout",
     "output_type": "stream",
     "text": [
      "Train Loss: 0.492 | Train Accuracy: 75.429 | Test Loss: 0.497 | Test Accuracy: 75.731 | Balance Accuracy: 0.721 | Precision: 0.768 | Recall: 0.872\n",
      "Epoch : 50\n"
     ]
    },
    {
     "name": "stderr",
     "output_type": "stream",
     "text": [
      "100%|██████████| 25/25 [00:00<00:00, 36.71it/s]\n"
     ]
    },
    {
     "name": "stdout",
     "output_type": "stream",
     "text": [
      "Train Loss: 0.492 | Train Accuracy: 75.465 | Test Loss: 0.492 | Test Accuracy: 75.719 | Balance Accuracy: 0.720 | Precision: 0.767 | Recall: 0.875\n",
      "Epoch : 51\n"
     ]
    },
    {
     "name": "stderr",
     "output_type": "stream",
     "text": [
      "100%|██████████| 25/25 [00:00<00:00, 37.53it/s]\n"
     ]
    },
    {
     "name": "stdout",
     "output_type": "stream",
     "text": [
      "Train Loss: 0.491 | Train Accuracy: 75.459 | Test Loss: 0.493 | Test Accuracy: 75.707 | Balance Accuracy: 0.720 | Precision: 0.767 | Recall: 0.875\n",
      "Epoch : 52\n"
     ]
    },
    {
     "name": "stderr",
     "output_type": "stream",
     "text": [
      "100%|██████████| 25/25 [00:00<00:00, 35.45it/s]\n"
     ]
    },
    {
     "name": "stdout",
     "output_type": "stream",
     "text": [
      "Train Loss: 0.490 | Train Accuracy: 75.461 | Test Loss: 0.490 | Test Accuracy: 75.654 | Balance Accuracy: 0.720 | Precision: 0.768 | Recall: 0.870\n",
      "Epoch : 53\n"
     ]
    },
    {
     "name": "stderr",
     "output_type": "stream",
     "text": [
      "100%|██████████| 25/25 [00:00<00:00, 45.55it/s]\n"
     ]
    },
    {
     "name": "stdout",
     "output_type": "stream",
     "text": [
      "Train Loss: 0.490 | Train Accuracy: 75.632 | Test Loss: 0.497 | Test Accuracy: 75.594 | Balance Accuracy: 0.719 | Precision: 0.767 | Recall: 0.872\n",
      "Epoch : 54\n"
     ]
    },
    {
     "name": "stderr",
     "output_type": "stream",
     "text": [
      "100%|██████████| 25/25 [00:00<00:00, 47.30it/s]\n"
     ]
    },
    {
     "name": "stdout",
     "output_type": "stream",
     "text": [
      "Train Loss: 0.490 | Train Accuracy: 75.471 | Test Loss: 0.495 | Test Accuracy: 75.672 | Balance Accuracy: 0.720 | Precision: 0.767 | Recall: 0.873\n",
      "Epoch : 55\n"
     ]
    },
    {
     "name": "stderr",
     "output_type": "stream",
     "text": [
      "100%|██████████| 25/25 [00:00<00:00, 49.01it/s]\n"
     ]
    },
    {
     "name": "stdout",
     "output_type": "stream",
     "text": [
      "Train Loss: 0.489 | Train Accuracy: 75.723 | Test Loss: 0.489 | Test Accuracy: 75.618 | Balance Accuracy: 0.721 | Precision: 0.769 | Recall: 0.868\n",
      "Epoch : 56\n"
     ]
    },
    {
     "name": "stderr",
     "output_type": "stream",
     "text": [
      "100%|██████████| 25/25 [00:00<00:00, 35.91it/s]\n"
     ]
    },
    {
     "name": "stdout",
     "output_type": "stream",
     "text": [
      "Train Loss: 0.489 | Train Accuracy: 75.489 | Test Loss: 0.490 | Test Accuracy: 75.821 | Balance Accuracy: 0.721 | Precision: 0.768 | Recall: 0.876\n",
      "Epoch : 57\n"
     ]
    },
    {
     "name": "stderr",
     "output_type": "stream",
     "text": [
      "100%|██████████| 25/25 [00:00<00:00, 36.97it/s]\n"
     ]
    },
    {
     "name": "stdout",
     "output_type": "stream",
     "text": [
      "Train Loss: 0.488 | Train Accuracy: 75.582 | Test Loss: 0.493 | Test Accuracy: 75.558 | Balance Accuracy: 0.719 | Precision: 0.767 | Recall: 0.871\n",
      "Epoch : 58\n"
     ]
    },
    {
     "name": "stderr",
     "output_type": "stream",
     "text": [
      "100%|██████████| 25/25 [00:00<00:00, 37.56it/s]\n"
     ]
    },
    {
     "name": "stdout",
     "output_type": "stream",
     "text": [
      "Train Loss: 0.487 | Train Accuracy: 75.502 | Test Loss: 0.489 | Test Accuracy: 75.761 | Balance Accuracy: 0.719 | Precision: 0.766 | Recall: 0.879\n",
      "Epoch : 59\n"
     ]
    },
    {
     "name": "stderr",
     "output_type": "stream",
     "text": [
      "100%|██████████| 25/25 [00:00<00:00, 36.08it/s]\n"
     ]
    },
    {
     "name": "stdout",
     "output_type": "stream",
     "text": [
      "Train Loss: 0.487 | Train Accuracy: 75.485 | Test Loss: 0.491 | Test Accuracy: 75.731 | Balance Accuracy: 0.718 | Precision: 0.765 | Recall: 0.880\n",
      "Epoch : 60\n"
     ]
    },
    {
     "name": "stderr",
     "output_type": "stream",
     "text": [
      "100%|██████████| 25/25 [00:00<00:00, 30.13it/s]\n"
     ]
    },
    {
     "name": "stdout",
     "output_type": "stream",
     "text": [
      "Train Loss: 0.486 | Train Accuracy: 75.908 | Test Loss: 0.492 | Test Accuracy: 75.672 | Balance Accuracy: 0.721 | Precision: 0.770 | Recall: 0.868\n",
      "Epoch : 61\n"
     ]
    },
    {
     "name": "stderr",
     "output_type": "stream",
     "text": [
      "100%|██████████| 25/25 [00:00<00:00, 37.65it/s]\n"
     ]
    },
    {
     "name": "stdout",
     "output_type": "stream",
     "text": [
      "Train Loss: 0.486 | Train Accuracy: 75.680 | Test Loss: 0.493 | Test Accuracy: 75.737 | Balance Accuracy: 0.721 | Precision: 0.768 | Recall: 0.872\n",
      "Epoch : 62\n"
     ]
    },
    {
     "name": "stderr",
     "output_type": "stream",
     "text": [
      "100%|██████████| 25/25 [00:00<00:00, 37.28it/s]\n"
     ]
    },
    {
     "name": "stdout",
     "output_type": "stream",
     "text": [
      "Train Loss: 0.486 | Train Accuracy: 76.002 | Test Loss: 0.492 | Test Accuracy: 75.713 | Balance Accuracy: 0.720 | Precision: 0.768 | Recall: 0.873\n",
      "Epoch : 63\n"
     ]
    },
    {
     "name": "stderr",
     "output_type": "stream",
     "text": [
      "100%|██████████| 25/25 [00:00<00:00, 35.69it/s]\n"
     ]
    },
    {
     "name": "stdout",
     "output_type": "stream",
     "text": [
      "Train Loss: 0.485 | Train Accuracy: 75.831 | Test Loss: 0.492 | Test Accuracy: 75.672 | Balance Accuracy: 0.719 | Precision: 0.767 | Recall: 0.874\n",
      "Epoch : 64\n"
     ]
    },
    {
     "name": "stderr",
     "output_type": "stream",
     "text": [
      "100%|██████████| 25/25 [00:00<00:00, 38.01it/s]\n"
     ]
    },
    {
     "name": "stdout",
     "output_type": "stream",
     "text": [
      "Train Loss: 0.484 | Train Accuracy: 75.839 | Test Loss: 0.492 | Test Accuracy: 75.773 | Balance Accuracy: 0.720 | Precision: 0.767 | Recall: 0.875\n",
      "Epoch : 65\n"
     ]
    },
    {
     "name": "stderr",
     "output_type": "stream",
     "text": [
      "100%|██████████| 25/25 [00:00<00:00, 48.55it/s]\n"
     ]
    },
    {
     "name": "stdout",
     "output_type": "stream",
     "text": [
      "Train Loss: 0.484 | Train Accuracy: 75.932 | Test Loss: 0.491 | Test Accuracy: 75.809 | Balance Accuracy: 0.721 | Precision: 0.768 | Recall: 0.875\n",
      "Epoch : 66\n"
     ]
    },
    {
     "name": "stderr",
     "output_type": "stream",
     "text": [
      "100%|██████████| 25/25 [00:00<00:00, 42.38it/s]\n"
     ]
    },
    {
     "name": "stdout",
     "output_type": "stream",
     "text": [
      "Train Loss: 0.483 | Train Accuracy: 75.926 | Test Loss: 0.493 | Test Accuracy: 75.881 | Balance Accuracy: 0.721 | Precision: 0.768 | Recall: 0.876\n",
      "Epoch : 67\n"
     ]
    },
    {
     "name": "stderr",
     "output_type": "stream",
     "text": [
      "100%|██████████| 25/25 [00:00<00:00, 36.76it/s]\n"
     ]
    },
    {
     "name": "stdout",
     "output_type": "stream",
     "text": [
      "Train Loss: 0.484 | Train Accuracy: 75.813 | Test Loss: 0.494 | Test Accuracy: 75.737 | Balance Accuracy: 0.720 | Precision: 0.767 | Recall: 0.874\n",
      "Epoch : 68\n"
     ]
    },
    {
     "name": "stderr",
     "output_type": "stream",
     "text": [
      "100%|██████████| 25/25 [00:00<00:00, 37.41it/s]\n"
     ]
    },
    {
     "name": "stdout",
     "output_type": "stream",
     "text": [
      "Train Loss: 0.481 | Train Accuracy: 75.893 | Test Loss: 0.494 | Test Accuracy: 75.737 | Balance Accuracy: 0.722 | Precision: 0.771 | Recall: 0.867\n",
      "Epoch : 69\n"
     ]
    },
    {
     "name": "stderr",
     "output_type": "stream",
     "text": [
      "100%|██████████| 25/25 [00:00<00:00, 35.62it/s]\n"
     ]
    },
    {
     "name": "stdout",
     "output_type": "stream",
     "text": [
      "Train Loss: 0.481 | Train Accuracy: 75.994 | Test Loss: 0.494 | Test Accuracy: 75.809 | Balance Accuracy: 0.720 | Precision: 0.766 | Recall: 0.879\n",
      "Epoch : 70\n"
     ]
    },
    {
     "name": "stderr",
     "output_type": "stream",
     "text": [
      "100%|██████████| 25/25 [00:00<00:00, 33.47it/s]\n"
     ]
    },
    {
     "name": "stdout",
     "output_type": "stream",
     "text": [
      "Train Loss: 0.481 | Train Accuracy: 75.883 | Test Loss: 0.492 | Test Accuracy: 75.779 | Balance Accuracy: 0.722 | Precision: 0.770 | Recall: 0.869\n",
      "Epoch : 71\n"
     ]
    },
    {
     "name": "stderr",
     "output_type": "stream",
     "text": [
      "100%|██████████| 25/25 [00:00<00:00, 30.43it/s]\n"
     ]
    },
    {
     "name": "stdout",
     "output_type": "stream",
     "text": [
      "Train Loss: 0.479 | Train Accuracy: 76.012 | Test Loss: 0.493 | Test Accuracy: 75.887 | Balance Accuracy: 0.721 | Precision: 0.768 | Recall: 0.877\n",
      "Epoch : 72\n"
     ]
    },
    {
     "name": "stderr",
     "output_type": "stream",
     "text": [
      "100%|██████████| 25/25 [00:00<00:00, 34.86it/s]\n"
     ]
    },
    {
     "name": "stdout",
     "output_type": "stream",
     "text": [
      "Train Loss: 0.481 | Train Accuracy: 75.930 | Test Loss: 0.490 | Test Accuracy: 75.701 | Balance Accuracy: 0.723 | Precision: 0.772 | Recall: 0.863\n",
      "Epoch : 73\n"
     ]
    },
    {
     "name": "stderr",
     "output_type": "stream",
     "text": [
      "100%|██████████| 25/25 [00:00<00:00, 36.69it/s]\n"
     ]
    },
    {
     "name": "stdout",
     "output_type": "stream",
     "text": [
      "Train Loss: 0.479 | Train Accuracy: 76.139 | Test Loss: 0.487 | Test Accuracy: 75.809 | Balance Accuracy: 0.721 | Precision: 0.768 | Recall: 0.874\n",
      "Epoch : 74\n"
     ]
    },
    {
     "name": "stderr",
     "output_type": "stream",
     "text": [
      "100%|██████████| 25/25 [00:00<00:00, 37.02it/s]\n"
     ]
    },
    {
     "name": "stdout",
     "output_type": "stream",
     "text": [
      "Train Loss: 0.479 | Train Accuracy: 76.018 | Test Loss: 0.490 | Test Accuracy: 75.624 | Balance Accuracy: 0.720 | Precision: 0.769 | Recall: 0.869\n",
      "Epoch : 75\n"
     ]
    },
    {
     "name": "stderr",
     "output_type": "stream",
     "text": [
      "100%|██████████| 25/25 [00:00<00:00, 49.55it/s]\n"
     ]
    },
    {
     "name": "stdout",
     "output_type": "stream",
     "text": [
      "Train Loss: 0.479 | Train Accuracy: 76.094 | Test Loss: 0.495 | Test Accuracy: 75.863 | Balance Accuracy: 0.721 | Precision: 0.768 | Recall: 0.876\n",
      "Epoch : 76\n"
     ]
    },
    {
     "name": "stderr",
     "output_type": "stream",
     "text": [
      "100%|██████████| 25/25 [00:00<00:00, 47.56it/s]\n"
     ]
    },
    {
     "name": "stdout",
     "output_type": "stream",
     "text": [
      "Train Loss: 0.477 | Train Accuracy: 76.149 | Test Loss: 0.489 | Test Accuracy: 75.791 | Balance Accuracy: 0.722 | Precision: 0.769 | Recall: 0.872\n",
      "Epoch : 77\n"
     ]
    },
    {
     "name": "stderr",
     "output_type": "stream",
     "text": [
      "100%|██████████| 25/25 [00:00<00:00, 44.89it/s]\n"
     ]
    },
    {
     "name": "stdout",
     "output_type": "stream",
     "text": [
      "Train Loss: 0.479 | Train Accuracy: 76.103 | Test Loss: 0.488 | Test Accuracy: 75.773 | Balance Accuracy: 0.720 | Precision: 0.766 | Recall: 0.877\n",
      "Epoch : 78\n"
     ]
    },
    {
     "name": "stderr",
     "output_type": "stream",
     "text": [
      "100%|██████████| 25/25 [00:00<00:00, 35.40it/s]\n"
     ]
    },
    {
     "name": "stdout",
     "output_type": "stream",
     "text": [
      "Train Loss: 0.477 | Train Accuracy: 76.223 | Test Loss: 0.488 | Test Accuracy: 75.821 | Balance Accuracy: 0.723 | Precision: 0.771 | Recall: 0.869\n",
      "Epoch : 79\n"
     ]
    },
    {
     "name": "stderr",
     "output_type": "stream",
     "text": [
      "100%|██████████| 25/25 [00:00<00:00, 36.24it/s]\n"
     ]
    },
    {
     "name": "stdout",
     "output_type": "stream",
     "text": [
      "Train Loss: 0.476 | Train Accuracy: 76.237 | Test Loss: 0.483 | Test Accuracy: 75.887 | Balance Accuracy: 0.723 | Precision: 0.770 | Recall: 0.872\n",
      "Epoch : 80\n"
     ]
    },
    {
     "name": "stderr",
     "output_type": "stream",
     "text": [
      "100%|██████████| 25/25 [00:00<00:00, 38.58it/s]\n"
     ]
    },
    {
     "name": "stdout",
     "output_type": "stream",
     "text": [
      "Train Loss: 0.477 | Train Accuracy: 76.165 | Test Loss: 0.490 | Test Accuracy: 75.719 | Balance Accuracy: 0.721 | Precision: 0.769 | Recall: 0.870\n",
      "Epoch : 81\n"
     ]
    },
    {
     "name": "stderr",
     "output_type": "stream",
     "text": [
      "100%|██████████| 25/25 [00:00<00:00, 37.98it/s]\n"
     ]
    },
    {
     "name": "stdout",
     "output_type": "stream",
     "text": [
      "Train Loss: 0.476 | Train Accuracy: 76.211 | Test Loss: 0.487 | Test Accuracy: 75.893 | Balance Accuracy: 0.723 | Precision: 0.770 | Recall: 0.872\n",
      "Epoch : 82\n"
     ]
    },
    {
     "name": "stderr",
     "output_type": "stream",
     "text": [
      "100%|██████████| 25/25 [00:00<00:00, 38.52it/s]\n"
     ]
    },
    {
     "name": "stdout",
     "output_type": "stream",
     "text": [
      "Train Loss: 0.476 | Train Accuracy: 76.356 | Test Loss: 0.490 | Test Accuracy: 75.767 | Balance Accuracy: 0.718 | Precision: 0.764 | Recall: 0.882\n",
      "Epoch : 83\n"
     ]
    },
    {
     "name": "stderr",
     "output_type": "stream",
     "text": [
      "100%|██████████| 25/25 [00:00<00:00, 38.33it/s]\n"
     ]
    },
    {
     "name": "stdout",
     "output_type": "stream",
     "text": [
      "Train Loss: 0.474 | Train Accuracy: 76.289 | Test Loss: 0.490 | Test Accuracy: 75.893 | Balance Accuracy: 0.723 | Precision: 0.770 | Recall: 0.871\n",
      "Epoch : 84\n"
     ]
    },
    {
     "name": "stderr",
     "output_type": "stream",
     "text": [
      "100%|██████████| 25/25 [00:00<00:00, 33.77it/s]\n"
     ]
    },
    {
     "name": "stdout",
     "output_type": "stream",
     "text": [
      "Train Loss: 0.475 | Train Accuracy: 76.253 | Test Loss: 0.487 | Test Accuracy: 75.881 | Balance Accuracy: 0.724 | Precision: 0.771 | Recall: 0.869\n",
      "Epoch : 85\n"
     ]
    },
    {
     "name": "stderr",
     "output_type": "stream",
     "text": [
      "100%|██████████| 25/25 [00:00<00:00, 38.73it/s]\n"
     ]
    },
    {
     "name": "stdout",
     "output_type": "stream",
     "text": [
      "Train Loss: 0.474 | Train Accuracy: 76.326 | Test Loss: 0.486 | Test Accuracy: 75.869 | Balance Accuracy: 0.724 | Precision: 0.772 | Recall: 0.869\n",
      "Epoch : 86\n"
     ]
    },
    {
     "name": "stderr",
     "output_type": "stream",
     "text": [
      "100%|██████████| 25/25 [00:00<00:00, 49.16it/s]\n"
     ]
    },
    {
     "name": "stdout",
     "output_type": "stream",
     "text": [
      "Train Loss: 0.473 | Train Accuracy: 76.446 | Test Loss: 0.492 | Test Accuracy: 75.839 | Balance Accuracy: 0.725 | Precision: 0.774 | Recall: 0.863\n",
      "Epoch : 87\n"
     ]
    },
    {
     "name": "stderr",
     "output_type": "stream",
     "text": [
      "100%|██████████| 25/25 [00:00<00:00, 41.90it/s]\n"
     ]
    },
    {
     "name": "stdout",
     "output_type": "stream",
     "text": [
      "Train Loss: 0.473 | Train Accuracy: 76.456 | Test Loss: 0.488 | Test Accuracy: 75.839 | Balance Accuracy: 0.720 | Precision: 0.766 | Recall: 0.879\n",
      "Epoch : 88\n"
     ]
    },
    {
     "name": "stderr",
     "output_type": "stream",
     "text": [
      "100%|██████████| 25/25 [00:00<00:00, 43.10it/s]\n"
     ]
    },
    {
     "name": "stdout",
     "output_type": "stream",
     "text": [
      "Train Loss: 0.471 | Train Accuracy: 76.603 | Test Loss: 0.490 | Test Accuracy: 75.869 | Balance Accuracy: 0.724 | Precision: 0.772 | Recall: 0.868\n",
      "Epoch : 89\n"
     ]
    },
    {
     "name": "stderr",
     "output_type": "stream",
     "text": [
      "100%|██████████| 25/25 [00:00<00:00, 38.00it/s]\n"
     ]
    },
    {
     "name": "stdout",
     "output_type": "stream",
     "text": [
      "Train Loss: 0.473 | Train Accuracy: 76.460 | Test Loss: 0.492 | Test Accuracy: 75.899 | Balance Accuracy: 0.725 | Precision: 0.774 | Recall: 0.865\n",
      "Epoch : 90\n"
     ]
    },
    {
     "name": "stderr",
     "output_type": "stream",
     "text": [
      "100%|██████████| 25/25 [00:00<00:00, 33.25it/s]\n"
     ]
    },
    {
     "name": "stdout",
     "output_type": "stream",
     "text": [
      "Train Loss: 0.471 | Train Accuracy: 76.657 | Test Loss: 0.485 | Test Accuracy: 75.821 | Balance Accuracy: 0.723 | Precision: 0.772 | Recall: 0.867\n",
      "Epoch : 91\n"
     ]
    },
    {
     "name": "stderr",
     "output_type": "stream",
     "text": [
      "100%|██████████| 25/25 [00:00<00:00, 38.06it/s]\n"
     ]
    },
    {
     "name": "stdout",
     "output_type": "stream",
     "text": [
      "Train Loss: 0.470 | Train Accuracy: 76.535 | Test Loss: 0.493 | Test Accuracy: 75.809 | Balance Accuracy: 0.724 | Precision: 0.772 | Recall: 0.865\n",
      "Epoch : 92\n"
     ]
    },
    {
     "name": "stderr",
     "output_type": "stream",
     "text": [
      "100%|██████████| 25/25 [00:00<00:00, 39.14it/s]\n"
     ]
    },
    {
     "name": "stdout",
     "output_type": "stream",
     "text": [
      "Train Loss: 0.469 | Train Accuracy: 76.625 | Test Loss: 0.489 | Test Accuracy: 75.725 | Balance Accuracy: 0.723 | Precision: 0.772 | Recall: 0.864\n",
      "Epoch : 93\n"
     ]
    },
    {
     "name": "stderr",
     "output_type": "stream",
     "text": [
      "100%|██████████| 25/25 [00:00<00:00, 36.90it/s]\n"
     ]
    },
    {
     "name": "stdout",
     "output_type": "stream",
     "text": [
      "Train Loss: 0.471 | Train Accuracy: 76.454 | Test Loss: 0.492 | Test Accuracy: 75.845 | Balance Accuracy: 0.724 | Precision: 0.773 | Recall: 0.865\n",
      "Epoch : 94\n"
     ]
    },
    {
     "name": "stderr",
     "output_type": "stream",
     "text": [
      "100%|██████████| 25/25 [00:00<00:00, 38.56it/s]\n"
     ]
    },
    {
     "name": "stdout",
     "output_type": "stream",
     "text": [
      "Train Loss: 0.471 | Train Accuracy: 76.635 | Test Loss: 0.491 | Test Accuracy: 75.851 | Balance Accuracy: 0.722 | Precision: 0.769 | Recall: 0.873\n",
      "Epoch : 95\n"
     ]
    },
    {
     "name": "stderr",
     "output_type": "stream",
     "text": [
      "100%|██████████| 25/25 [00:00<00:00, 37.99it/s]\n"
     ]
    },
    {
     "name": "stdout",
     "output_type": "stream",
     "text": [
      "Train Loss: 0.470 | Train Accuracy: 76.651 | Test Loss: 0.491 | Test Accuracy: 75.809 | Balance Accuracy: 0.724 | Precision: 0.773 | Recall: 0.864\n",
      "Epoch : 96\n"
     ]
    },
    {
     "name": "stderr",
     "output_type": "stream",
     "text": [
      "100%|██████████| 25/25 [00:00<00:00, 37.76it/s]\n"
     ]
    },
    {
     "name": "stdout",
     "output_type": "stream",
     "text": [
      "Train Loss: 0.469 | Train Accuracy: 76.814 | Test Loss: 0.491 | Test Accuracy: 75.839 | Balance Accuracy: 0.724 | Precision: 0.772 | Recall: 0.866\n",
      "Epoch : 97\n"
     ]
    },
    {
     "name": "stderr",
     "output_type": "stream",
     "text": [
      "100%|██████████| 25/25 [00:00<00:00, 44.40it/s]\n"
     ]
    },
    {
     "name": "stdout",
     "output_type": "stream",
     "text": [
      "Train Loss: 0.469 | Train Accuracy: 76.742 | Test Loss: 0.493 | Test Accuracy: 75.767 | Balance Accuracy: 0.723 | Precision: 0.772 | Recall: 0.865\n",
      "Epoch : 98\n"
     ]
    },
    {
     "name": "stderr",
     "output_type": "stream",
     "text": [
      "100%|██████████| 25/25 [00:00<00:00, 38.55it/s]\n"
     ]
    },
    {
     "name": "stdout",
     "output_type": "stream",
     "text": [
      "Train Loss: 0.469 | Train Accuracy: 76.704 | Test Loss: 0.490 | Test Accuracy: 75.791 | Balance Accuracy: 0.722 | Precision: 0.770 | Recall: 0.869\n",
      "Epoch : 99\n"
     ]
    },
    {
     "name": "stderr",
     "output_type": "stream",
     "text": [
      "100%|██████████| 25/25 [00:00<00:00, 48.57it/s]\n"
     ]
    },
    {
     "name": "stdout",
     "output_type": "stream",
     "text": [
      "Train Loss: 0.468 | Train Accuracy: 76.756 | Test Loss: 0.487 | Test Accuracy: 75.678 | Balance Accuracy: 0.720 | Precision: 0.768 | Recall: 0.872\n",
      "Epoch : 100\n"
     ]
    },
    {
     "name": "stderr",
     "output_type": "stream",
     "text": [
      "100%|██████████| 25/25 [00:00<00:00, 34.91it/s]\n"
     ]
    },
    {
     "name": "stdout",
     "output_type": "stream",
     "text": [
      "Train Loss: 0.467 | Train Accuracy: 76.826 | Test Loss: 0.483 | Test Accuracy: 75.791 | Balance Accuracy: 0.723 | Precision: 0.771 | Recall: 0.869\n",
      "Epoch : 101\n"
     ]
    },
    {
     "name": "stderr",
     "output_type": "stream",
     "text": [
      "100%|██████████| 25/25 [00:00<00:00, 33.58it/s]\n"
     ]
    },
    {
     "name": "stdout",
     "output_type": "stream",
     "text": [
      "Train Loss: 0.468 | Train Accuracy: 76.818 | Test Loss: 0.487 | Test Accuracy: 75.863 | Balance Accuracy: 0.724 | Precision: 0.772 | Recall: 0.867\n",
      "Epoch : 102\n"
     ]
    },
    {
     "name": "stderr",
     "output_type": "stream",
     "text": [
      "100%|██████████| 25/25 [00:00<00:00, 37.23it/s]\n"
     ]
    },
    {
     "name": "stdout",
     "output_type": "stream",
     "text": [
      "Train Loss: 0.466 | Train Accuracy: 76.901 | Test Loss: 0.490 | Test Accuracy: 75.773 | Balance Accuracy: 0.723 | Precision: 0.771 | Recall: 0.867\n",
      "Epoch : 103\n"
     ]
    },
    {
     "name": "stderr",
     "output_type": "stream",
     "text": [
      "100%|██████████| 25/25 [00:00<00:00, 37.70it/s]\n"
     ]
    },
    {
     "name": "stdout",
     "output_type": "stream",
     "text": [
      "Train Loss: 0.464 | Train Accuracy: 76.999 | Test Loss: 0.489 | Test Accuracy: 75.893 | Balance Accuracy: 0.726 | Precision: 0.775 | Recall: 0.862\n",
      "Epoch : 104\n"
     ]
    },
    {
     "name": "stderr",
     "output_type": "stream",
     "text": [
      "100%|██████████| 25/25 [00:00<00:00, 35.69it/s]\n"
     ]
    },
    {
     "name": "stdout",
     "output_type": "stream",
     "text": [
      "Train Loss: 0.466 | Train Accuracy: 76.931 | Test Loss: 0.487 | Test Accuracy: 75.839 | Balance Accuracy: 0.723 | Precision: 0.771 | Recall: 0.870\n",
      "Epoch : 105\n"
     ]
    },
    {
     "name": "stderr",
     "output_type": "stream",
     "text": [
      "100%|██████████| 25/25 [00:00<00:00, 30.67it/s]\n"
     ]
    },
    {
     "name": "stdout",
     "output_type": "stream",
     "text": [
      "Train Loss: 0.464 | Train Accuracy: 77.071 | Test Loss: 0.490 | Test Accuracy: 75.648 | Balance Accuracy: 0.724 | Precision: 0.774 | Recall: 0.858\n",
      "Epoch : 106\n"
     ]
    },
    {
     "name": "stderr",
     "output_type": "stream",
     "text": [
      "100%|██████████| 25/25 [00:00<00:00, 37.59it/s]\n"
     ]
    },
    {
     "name": "stdout",
     "output_type": "stream",
     "text": [
      "Train Loss: 0.464 | Train Accuracy: 76.939 | Test Loss: 0.487 | Test Accuracy: 75.916 | Balance Accuracy: 0.726 | Precision: 0.775 | Recall: 0.862\n",
      "Epoch : 107\n"
     ]
    },
    {
     "name": "stderr",
     "output_type": "stream",
     "text": [
      "100%|██████████| 25/25 [00:00<00:00, 35.42it/s]\n"
     ]
    },
    {
     "name": "stdout",
     "output_type": "stream",
     "text": [
      "Train Loss: 0.464 | Train Accuracy: 77.053 | Test Loss: 0.488 | Test Accuracy: 75.857 | Balance Accuracy: 0.726 | Precision: 0.776 | Recall: 0.860\n",
      "Epoch : 108\n"
     ]
    },
    {
     "name": "stderr",
     "output_type": "stream",
     "text": [
      "100%|██████████| 25/25 [00:00<00:00, 43.00it/s]\n"
     ]
    },
    {
     "name": "stdout",
     "output_type": "stream",
     "text": [
      "Train Loss: 0.464 | Train Accuracy: 76.919 | Test Loss: 0.493 | Test Accuracy: 75.725 | Balance Accuracy: 0.722 | Precision: 0.770 | Recall: 0.868\n",
      "Epoch : 109\n"
     ]
    },
    {
     "name": "stderr",
     "output_type": "stream",
     "text": [
      "100%|██████████| 25/25 [00:00<00:00, 49.04it/s]\n"
     ]
    },
    {
     "name": "stdout",
     "output_type": "stream",
     "text": [
      "Train Loss: 0.464 | Train Accuracy: 77.110 | Test Loss: 0.491 | Test Accuracy: 76.030 | Balance Accuracy: 0.726 | Precision: 0.773 | Recall: 0.869\n",
      "Epoch : 110\n"
     ]
    },
    {
     "name": "stderr",
     "output_type": "stream",
     "text": [
      "100%|██████████| 25/25 [00:00<00:00, 46.73it/s]\n"
     ]
    },
    {
     "name": "stdout",
     "output_type": "stream",
     "text": [
      "Train Loss: 0.462 | Train Accuracy: 77.095 | Test Loss: 0.490 | Test Accuracy: 75.725 | Balance Accuracy: 0.724 | Precision: 0.773 | Recall: 0.861\n",
      "Epoch : 111\n"
     ]
    },
    {
     "name": "stderr",
     "output_type": "stream",
     "text": [
      "100%|██████████| 25/25 [00:00<00:00, 36.29it/s]\n"
     ]
    },
    {
     "name": "stdout",
     "output_type": "stream",
     "text": [
      "Train Loss: 0.461 | Train Accuracy: 77.152 | Test Loss: 0.496 | Test Accuracy: 75.821 | Balance Accuracy: 0.722 | Precision: 0.770 | Recall: 0.870\n",
      "Epoch : 112\n"
     ]
    },
    {
     "name": "stderr",
     "output_type": "stream",
     "text": [
      "100%|██████████| 25/25 [00:00<00:00, 31.10it/s]\n"
     ]
    },
    {
     "name": "stdout",
     "output_type": "stream",
     "text": [
      "Train Loss: 0.461 | Train Accuracy: 77.216 | Test Loss: 0.490 | Test Accuracy: 75.678 | Balance Accuracy: 0.724 | Precision: 0.773 | Recall: 0.861\n",
      "Epoch : 113\n"
     ]
    },
    {
     "name": "stderr",
     "output_type": "stream",
     "text": [
      "100%|██████████| 25/25 [00:00<00:00, 34.12it/s]\n"
     ]
    },
    {
     "name": "stdout",
     "output_type": "stream",
     "text": [
      "Train Loss: 0.461 | Train Accuracy: 77.126 | Test Loss: 0.486 | Test Accuracy: 75.684 | Balance Accuracy: 0.724 | Precision: 0.773 | Recall: 0.861\n",
      "Epoch : 114\n"
     ]
    },
    {
     "name": "stderr",
     "output_type": "stream",
     "text": [
      "100%|██████████| 25/25 [00:00<00:00, 37.74it/s]\n"
     ]
    },
    {
     "name": "stdout",
     "output_type": "stream",
     "text": [
      "Train Loss: 0.461 | Train Accuracy: 77.264 | Test Loss: 0.491 | Test Accuracy: 75.791 | Balance Accuracy: 0.725 | Precision: 0.774 | Recall: 0.862\n",
      "Epoch : 115\n"
     ]
    },
    {
     "name": "stderr",
     "output_type": "stream",
     "text": [
      "100%|██████████| 25/25 [00:00<00:00, 32.85it/s]\n"
     ]
    },
    {
     "name": "stdout",
     "output_type": "stream",
     "text": [
      "Train Loss: 0.464 | Train Accuracy: 77.114 | Test Loss: 0.493 | Test Accuracy: 75.797 | Balance Accuracy: 0.725 | Precision: 0.774 | Recall: 0.862\n",
      "Epoch : 116\n"
     ]
    },
    {
     "name": "stderr",
     "output_type": "stream",
     "text": [
      "100%|██████████| 25/25 [00:00<00:00, 36.71it/s]\n"
     ]
    },
    {
     "name": "stdout",
     "output_type": "stream",
     "text": [
      "Train Loss: 0.460 | Train Accuracy: 77.294 | Test Loss: 0.488 | Test Accuracy: 75.696 | Balance Accuracy: 0.726 | Precision: 0.776 | Recall: 0.855\n",
      "Epoch : 117\n"
     ]
    },
    {
     "name": "stderr",
     "output_type": "stream",
     "text": [
      "100%|██████████| 25/25 [00:00<00:00, 36.17it/s]\n"
     ]
    },
    {
     "name": "stdout",
     "output_type": "stream",
     "text": [
      "Train Loss: 0.461 | Train Accuracy: 76.965 | Test Loss: 0.484 | Test Accuracy: 75.803 | Balance Accuracy: 0.724 | Precision: 0.773 | Recall: 0.864\n",
      "Epoch : 118\n"
     ]
    },
    {
     "name": "stderr",
     "output_type": "stream",
     "text": [
      "100%|██████████| 25/25 [00:00<00:00, 32.77it/s]\n"
     ]
    },
    {
     "name": "stdout",
     "output_type": "stream",
     "text": [
      "Train Loss: 0.459 | Train Accuracy: 77.473 | Test Loss: 0.492 | Test Accuracy: 75.881 | Balance Accuracy: 0.726 | Precision: 0.775 | Recall: 0.862\n",
      "Epoch : 119\n"
     ]
    },
    {
     "name": "stderr",
     "output_type": "stream",
     "text": [
      "100%|██████████| 25/25 [00:00<00:00, 49.59it/s]\n"
     ]
    },
    {
     "name": "stdout",
     "output_type": "stream",
     "text": [
      "Train Loss: 0.459 | Train Accuracy: 77.359 | Test Loss: 0.491 | Test Accuracy: 75.845 | Balance Accuracy: 0.725 | Precision: 0.774 | Recall: 0.863\n",
      "Epoch : 120\n"
     ]
    },
    {
     "name": "stderr",
     "output_type": "stream",
     "text": [
      "100%|██████████| 25/25 [00:00<00:00, 48.09it/s]\n"
     ]
    },
    {
     "name": "stdout",
     "output_type": "stream",
     "text": [
      "Train Loss: 0.460 | Train Accuracy: 77.174 | Test Loss: 0.492 | Test Accuracy: 75.785 | Balance Accuracy: 0.725 | Precision: 0.774 | Recall: 0.862\n",
      "Epoch : 121\n"
     ]
    },
    {
     "name": "stderr",
     "output_type": "stream",
     "text": [
      "100%|██████████| 25/25 [00:00<00:00, 40.81it/s]\n"
     ]
    },
    {
     "name": "stdout",
     "output_type": "stream",
     "text": [
      "Train Loss: 0.460 | Train Accuracy: 77.425 | Test Loss: 0.491 | Test Accuracy: 75.934 | Balance Accuracy: 0.724 | Precision: 0.771 | Recall: 0.870\n",
      "Epoch : 122\n"
     ]
    },
    {
     "name": "stderr",
     "output_type": "stream",
     "text": [
      "100%|██████████| 25/25 [00:00<00:00, 36.29it/s]\n"
     ]
    },
    {
     "name": "stdout",
     "output_type": "stream",
     "text": [
      "Train Loss: 0.460 | Train Accuracy: 77.321 | Test Loss: 0.490 | Test Accuracy: 75.887 | Balance Accuracy: 0.729 | Precision: 0.779 | Recall: 0.854\n",
      "Epoch : 123\n"
     ]
    },
    {
     "name": "stderr",
     "output_type": "stream",
     "text": [
      "100%|██████████| 25/25 [00:00<00:00, 37.78it/s]\n"
     ]
    },
    {
     "name": "stdout",
     "output_type": "stream",
     "text": [
      "Train Loss: 0.458 | Train Accuracy: 77.363 | Test Loss: 0.490 | Test Accuracy: 75.893 | Balance Accuracy: 0.724 | Precision: 0.772 | Recall: 0.868\n",
      "Epoch : 124\n"
     ]
    },
    {
     "name": "stderr",
     "output_type": "stream",
     "text": [
      "100%|██████████| 25/25 [00:00<00:00, 37.60it/s]\n"
     ]
    },
    {
     "name": "stdout",
     "output_type": "stream",
     "text": [
      "Train Loss: 0.456 | Train Accuracy: 77.628 | Test Loss: 0.488 | Test Accuracy: 75.803 | Balance Accuracy: 0.726 | Precision: 0.775 | Recall: 0.859\n",
      "Epoch : 125\n"
     ]
    },
    {
     "name": "stderr",
     "output_type": "stream",
     "text": [
      "100%|██████████| 25/25 [00:00<00:00, 31.65it/s]\n"
     ]
    },
    {
     "name": "stdout",
     "output_type": "stream",
     "text": [
      "Train Loss: 0.455 | Train Accuracy: 77.604 | Test Loss: 0.489 | Test Accuracy: 75.737 | Balance Accuracy: 0.723 | Precision: 0.772 | Recall: 0.865\n",
      "Epoch : 126\n"
     ]
    },
    {
     "name": "stderr",
     "output_type": "stream",
     "text": [
      "100%|██████████| 25/25 [00:00<00:00, 38.35it/s]\n"
     ]
    },
    {
     "name": "stdout",
     "output_type": "stream",
     "text": [
      "Train Loss: 0.456 | Train Accuracy: 77.479 | Test Loss: 0.491 | Test Accuracy: 75.672 | Balance Accuracy: 0.723 | Precision: 0.772 | Recall: 0.863\n",
      "Epoch : 127\n"
     ]
    },
    {
     "name": "stderr",
     "output_type": "stream",
     "text": [
      "100%|██████████| 25/25 [00:00<00:00, 38.12it/s]\n"
     ]
    },
    {
     "name": "stdout",
     "output_type": "stream",
     "text": [
      "Train Loss: 0.458 | Train Accuracy: 77.112 | Test Loss: 0.490 | Test Accuracy: 75.678 | Balance Accuracy: 0.726 | Precision: 0.777 | Recall: 0.852\n",
      "Epoch : 128\n"
     ]
    },
    {
     "name": "stderr",
     "output_type": "stream",
     "text": [
      "100%|██████████| 25/25 [00:00<00:00, 37.78it/s]\n"
     ]
    },
    {
     "name": "stdout",
     "output_type": "stream",
     "text": [
      "Train Loss: 0.455 | Train Accuracy: 77.522 | Test Loss: 0.491 | Test Accuracy: 75.642 | Balance Accuracy: 0.726 | Precision: 0.777 | Recall: 0.853\n",
      "Epoch : 129\n"
     ]
    },
    {
     "name": "stderr",
     "output_type": "stream",
     "text": [
      "100%|██████████| 25/25 [00:00<00:00, 37.34it/s]\n"
     ]
    },
    {
     "name": "stdout",
     "output_type": "stream",
     "text": [
      "Train Loss: 0.456 | Train Accuracy: 77.504 | Test Loss: 0.489 | Test Accuracy: 75.737 | Balance Accuracy: 0.722 | Precision: 0.770 | Recall: 0.868\n",
      "Epoch : 130\n"
     ]
    },
    {
     "name": "stderr",
     "output_type": "stream",
     "text": [
      "100%|██████████| 25/25 [00:00<00:00, 39.57it/s]\n"
     ]
    },
    {
     "name": "stdout",
     "output_type": "stream",
     "text": [
      "Train Loss: 0.457 | Train Accuracy: 77.487 | Test Loss: 0.490 | Test Accuracy: 75.857 | Balance Accuracy: 0.724 | Precision: 0.772 | Recall: 0.868\n",
      "Epoch : 131\n"
     ]
    },
    {
     "name": "stderr",
     "output_type": "stream",
     "text": [
      "100%|██████████| 25/25 [00:00<00:00, 50.69it/s]\n"
     ]
    },
    {
     "name": "stdout",
     "output_type": "stream",
     "text": [
      "Train Loss: 0.453 | Train Accuracy: 77.666 | Test Loss: 0.487 | Test Accuracy: 75.707 | Balance Accuracy: 0.725 | Precision: 0.775 | Recall: 0.858\n",
      "Epoch : 132\n"
     ]
    },
    {
     "name": "stderr",
     "output_type": "stream",
     "text": [
      "100%|██████████| 25/25 [00:00<00:00, 47.94it/s]\n"
     ]
    },
    {
     "name": "stdout",
     "output_type": "stream",
     "text": [
      "Train Loss: 0.454 | Train Accuracy: 77.379 | Test Loss: 0.495 | Test Accuracy: 75.773 | Balance Accuracy: 0.725 | Precision: 0.774 | Recall: 0.861\n",
      "Epoch : 133\n"
     ]
    },
    {
     "name": "stderr",
     "output_type": "stream",
     "text": [
      "100%|██████████| 25/25 [00:00<00:00, 31.79it/s]\n"
     ]
    },
    {
     "name": "stdout",
     "output_type": "stream",
     "text": [
      "Train Loss: 0.451 | Train Accuracy: 77.616 | Test Loss: 0.488 | Test Accuracy: 75.618 | Balance Accuracy: 0.725 | Precision: 0.776 | Recall: 0.854\n",
      "Epoch : 134\n"
     ]
    },
    {
     "name": "stderr",
     "output_type": "stream",
     "text": [
      "100%|██████████| 25/25 [00:00<00:00, 38.03it/s]\n"
     ]
    },
    {
     "name": "stdout",
     "output_type": "stream",
     "text": [
      "Train Loss: 0.454 | Train Accuracy: 77.574 | Test Loss: 0.489 | Test Accuracy: 75.857 | Balance Accuracy: 0.723 | Precision: 0.771 | Recall: 0.870\n",
      "Epoch : 135\n"
     ]
    },
    {
     "name": "stderr",
     "output_type": "stream",
     "text": [
      "100%|██████████| 25/25 [00:00<00:00, 37.45it/s]\n"
     ]
    },
    {
     "name": "stdout",
     "output_type": "stream",
     "text": [
      "Train Loss: 0.453 | Train Accuracy: 77.747 | Test Loss: 0.492 | Test Accuracy: 75.666 | Balance Accuracy: 0.728 | Precision: 0.781 | Recall: 0.845\n",
      "Epoch : 136\n"
     ]
    },
    {
     "name": "stderr",
     "output_type": "stream",
     "text": [
      "100%|██████████| 25/25 [00:00<00:00, 35.59it/s]\n"
     ]
    },
    {
     "name": "stdout",
     "output_type": "stream",
     "text": [
      "Train Loss: 0.452 | Train Accuracy: 77.713 | Test Loss: 0.491 | Test Accuracy: 75.731 | Balance Accuracy: 0.724 | Precision: 0.773 | Recall: 0.862\n",
      "Epoch : 137\n"
     ]
    },
    {
     "name": "stderr",
     "output_type": "stream",
     "text": [
      "100%|██████████| 25/25 [00:00<00:00, 32.90it/s]\n"
     ]
    },
    {
     "name": "stdout",
     "output_type": "stream",
     "text": [
      "Train Loss: 0.451 | Train Accuracy: 77.853 | Test Loss: 0.488 | Test Accuracy: 75.809 | Balance Accuracy: 0.726 | Precision: 0.775 | Recall: 0.860\n",
      "Epoch : 138\n"
     ]
    },
    {
     "name": "stderr",
     "output_type": "stream",
     "text": [
      "100%|██████████| 25/25 [00:00<00:00, 37.33it/s]\n"
     ]
    },
    {
     "name": "stdout",
     "output_type": "stream",
     "text": [
      "Train Loss: 0.452 | Train Accuracy: 77.725 | Test Loss: 0.493 | Test Accuracy: 75.713 | Balance Accuracy: 0.728 | Precision: 0.780 | Recall: 0.848\n",
      "Epoch : 139\n"
     ]
    },
    {
     "name": "stderr",
     "output_type": "stream",
     "text": [
      "100%|██████████| 25/25 [00:00<00:00, 37.13it/s]\n"
     ]
    },
    {
     "name": "stdout",
     "output_type": "stream",
     "text": [
      "Train Loss: 0.451 | Train Accuracy: 77.713 | Test Loss: 0.493 | Test Accuracy: 75.899 | Balance Accuracy: 0.720 | Precision: 0.766 | Recall: 0.881\n",
      "Epoch : 140\n"
     ]
    },
    {
     "name": "stderr",
     "output_type": "stream",
     "text": [
      "100%|██████████| 25/25 [00:00<00:00, 37.71it/s]\n"
     ]
    },
    {
     "name": "stdout",
     "output_type": "stream",
     "text": [
      "Train Loss: 0.452 | Train Accuracy: 77.717 | Test Loss: 0.492 | Test Accuracy: 75.707 | Balance Accuracy: 0.727 | Precision: 0.779 | Recall: 0.850\n",
      "Epoch : 141\n"
     ]
    },
    {
     "name": "stderr",
     "output_type": "stream",
     "text": [
      "100%|██████████| 25/25 [00:00<00:00, 48.79it/s]\n"
     ]
    },
    {
     "name": "stdout",
     "output_type": "stream",
     "text": [
      "Train Loss: 0.451 | Train Accuracy: 77.887 | Test Loss: 0.493 | Test Accuracy: 75.761 | Balance Accuracy: 0.726 | Precision: 0.777 | Recall: 0.856\n",
      "Epoch : 142\n"
     ]
    },
    {
     "name": "stderr",
     "output_type": "stream",
     "text": [
      "100%|██████████| 25/25 [00:00<00:00, 38.35it/s]\n"
     ]
    },
    {
     "name": "stdout",
     "output_type": "stream",
     "text": [
      "Train Loss: 0.452 | Train Accuracy: 77.789 | Test Loss: 0.493 | Test Accuracy: 75.922 | Balance Accuracy: 0.727 | Precision: 0.776 | Recall: 0.861\n",
      "Epoch : 143\n"
     ]
    },
    {
     "name": "stderr",
     "output_type": "stream",
     "text": [
      "100%|██████████| 25/25 [00:00<00:00, 47.44it/s]\n"
     ]
    },
    {
     "name": "stdout",
     "output_type": "stream",
     "text": [
      "Train Loss: 0.448 | Train Accuracy: 77.885 | Test Loss: 0.491 | Test Accuracy: 75.827 | Balance Accuracy: 0.723 | Precision: 0.771 | Recall: 0.868\n",
      "Epoch : 144\n"
     ]
    },
    {
     "name": "stderr",
     "output_type": "stream",
     "text": [
      "100%|██████████| 25/25 [00:00<00:00, 35.87it/s]\n"
     ]
    },
    {
     "name": "stdout",
     "output_type": "stream",
     "text": [
      "Train Loss: 0.448 | Train Accuracy: 77.885 | Test Loss: 0.493 | Test Accuracy: 75.755 | Balance Accuracy: 0.728 | Precision: 0.779 | Recall: 0.852\n",
      "Epoch : 145\n"
     ]
    },
    {
     "name": "stderr",
     "output_type": "stream",
     "text": [
      "100%|██████████| 25/25 [00:00<00:00, 33.60it/s]\n"
     ]
    },
    {
     "name": "stdout",
     "output_type": "stream",
     "text": [
      "Train Loss: 0.449 | Train Accuracy: 77.970 | Test Loss: 0.493 | Test Accuracy: 75.803 | Balance Accuracy: 0.727 | Precision: 0.777 | Recall: 0.857\n",
      "Epoch : 146\n"
     ]
    },
    {
     "name": "stderr",
     "output_type": "stream",
     "text": [
      "100%|██████████| 25/25 [00:00<00:00, 38.24it/s]\n"
     ]
    },
    {
     "name": "stdout",
     "output_type": "stream",
     "text": [
      "Train Loss: 0.449 | Train Accuracy: 77.680 | Test Loss: 0.488 | Test Accuracy: 75.743 | Balance Accuracy: 0.727 | Precision: 0.778 | Recall: 0.853\n",
      "Epoch : 147\n"
     ]
    },
    {
     "name": "stderr",
     "output_type": "stream",
     "text": [
      "100%|██████████| 25/25 [00:00<00:00, 37.72it/s]\n"
     ]
    },
    {
     "name": "stdout",
     "output_type": "stream",
     "text": [
      "Train Loss: 0.447 | Train Accuracy: 77.930 | Test Loss: 0.491 | Test Accuracy: 75.803 | Balance Accuracy: 0.727 | Precision: 0.777 | Recall: 0.856\n",
      "Epoch : 148\n"
     ]
    },
    {
     "name": "stderr",
     "output_type": "stream",
     "text": [
      "100%|██████████| 25/25 [00:00<00:00, 31.78it/s]\n"
     ]
    },
    {
     "name": "stdout",
     "output_type": "stream",
     "text": [
      "Train Loss: 0.450 | Train Accuracy: 77.847 | Test Loss: 0.487 | Test Accuracy: 75.755 | Balance Accuracy: 0.726 | Precision: 0.776 | Recall: 0.856\n",
      "Epoch : 149\n"
     ]
    },
    {
     "name": "stderr",
     "output_type": "stream",
     "text": [
      "100%|██████████| 25/25 [00:00<00:00, 33.94it/s]\n"
     ]
    },
    {
     "name": "stdout",
     "output_type": "stream",
     "text": [
      "Train Loss: 0.447 | Train Accuracy: 78.014 | Test Loss: 0.494 | Test Accuracy: 75.893 | Balance Accuracy: 0.727 | Precision: 0.777 | Recall: 0.858\n",
      "Epoch : 150\n"
     ]
    },
    {
     "name": "stderr",
     "output_type": "stream",
     "text": [
      "100%|██████████| 25/25 [00:00<00:00, 38.85it/s]\n"
     ]
    },
    {
     "name": "stdout",
     "output_type": "stream",
     "text": [
      "Train Loss: 0.448 | Train Accuracy: 78.135 | Test Loss: 0.494 | Test Accuracy: 75.719 | Balance Accuracy: 0.727 | Precision: 0.778 | Recall: 0.852\n"
     ]
    },
    {
     "name": "stderr",
     "output_type": "stream",
     "text": [
      "100%|██████████| 9/9 [00:00<00:00, 32.51it/s]"
     ]
    },
    {
     "name": "stdout",
     "output_type": "stream",
     "text": [
      "Test Loss: 0.494 | Accuracy: 75.719\n"
     ]
    },
    {
     "name": "stderr",
     "output_type": "stream",
     "text": [
      "\n"
     ]
    }
   ],
   "source": [
    "process_target(df, 'RCAST', Net3(43))"
   ]
  },
  {
   "cell_type": "code",
   "execution_count": 71,
   "metadata": {},
   "outputs": [
    {
     "data": {
      "image/png": "[encoded data removed]",
      "text/plain": [
       "<Figure size 2500x400 with 5 Axes>"
      ]
     },
     "metadata": {},
     "output_type": "display_data"
    }
   ],
   "source": [
    "# plot the loss and accuracy and\n",
    "metrics = {\n",
    "    'train_losses': train_losses,\n",
    "    'train_accu': train_accu,\n",
    "    'eval_losses': eval_losses,\n",
    "    'eval_accu': eval_accu,\n",
    "    'balance_accuracy_list': balance_accuracy_list,\n",
    "    'precision_list': precision_list,\n",
    "    'recall_list': recall_list\n",
    "}\n",
    "plot_metrics(metrics, ['loss', 'accuracy', 'balance_accuracy', 'recall', 'precision'])"
   ]
  },
  {
   "cell_type": "code",
   "execution_count": 72,
   "metadata": {},
   "outputs": [],
   "source": [
    "accuracy, precision, recall, balance_accuracy = test_model('models/FeedForwardNet/saved_model.pth', 'RCAST')"
   ]
  },
  {
   "cell_type": "code",
   "execution_count": 73,
   "metadata": {},
   "outputs": [
    {
     "name": "stdout",
     "output_type": "stream",
     "text": [
      "Accuracy: 0.757 | Precision: 0.778 | Recall: 0.852 | Balance Accuracy: 0.727\n"
     ]
    }
   ],
   "source": [
    "print(f'Accuracy: {accuracy:.3f} | Precision: {precision:.3f} | Recall: {recall:.3f} | Balance Accuracy: {balance_accuracy:.3f}')"
   ]
  }
 ],
 "metadata": {
  "kernelspec": {
   "display_name": "mlenv",
   "language": "python",
   "name": "python3"
  },
  "language_info": {
   "codemirror_mode": {
    "name": "ipython",
    "version": 3
   },
   "file_extension": ".py",
   "mimetype": "text/x-python",
   "name": "python",
   "nbconvert_exporter": "python",
   "pygments_lexer": "ipython3",
   "version": "3.11.4"
  },
  "orig_nbformat": 4
 },
 "nbformat": 4,
 "nbformat_minor": 2
}
