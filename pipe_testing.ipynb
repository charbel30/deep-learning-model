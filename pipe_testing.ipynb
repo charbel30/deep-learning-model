{
 "cells": [
  {
   "cell_type": "code",
   "execution_count": 1,
   "metadata": {},
   "outputs": [],
   "source": [
    "import pandas as pd\n",
    "import numpy as np\n",
    "import torch\n",
    "from torch import nn\n",
    "from torch.utils.data import TensorDataset, DataLoader\n",
    "from sklearn.impute import SimpleImputer\n",
    "import seaborn as sns\n",
    "from sklearn.metrics import  precision_score, recall_score, f1_score,balanced_accuracy_score\n",
    "import seaborn as sns\n",
    "from tqdm import tqdm\n",
    "from utils.Preprocessing_utils import output_selection_prepro\n",
    "from utils.heatmap_plots import plot_heat_map, plot_metrics\n",
    "from predict_model import test_model\n",
    "from sklearn.model_selection import train_test_split\n",
    "from sklearn.preprocessing import StandardScaler\n",
    "from models.FeedForwardNet.model import Net as Net\n",
    "from models.FeedForwardNet.model_3 import Net as Net3\n",
    "from torchvision import models"
   ]
  },
  {
   "cell_type": "code",
   "execution_count": 2,
   "metadata": {},
   "outputs": [],
   "source": [
    "df = pd.read_csv('data/raw/dukecathr.csv')\n",
    "device = torch.device(\"cuda:0\" if torch.cuda.is_available() else \"cpu\")"
   ]
  },
  {
   "cell_type": "code",
   "execution_count": 3,
   "metadata": {},
   "outputs": [],
   "source": [
    "\n",
    "train_losses=[]\n",
    "train_accu=[]\n",
    "eval_losses=[]\n",
    "eval_accu=[]\n",
    "balance_accuracy_list = []\n",
    "precision_list = []\n",
    "recall_list = []"
   ]
  },
  {
   "cell_type": "code",
   "execution_count": null,
   "metadata": {},
   "outputs": [],
   "source": []
  },
  {
   "cell_type": "code",
   "execution_count": 4,
   "metadata": {},
   "outputs": [],
   "source": [
    "def train_epoch(model, dataloader, criterion, optimizer):\n",
    "    model.train()\n",
    "    running_loss = 0\n",
    "    correct = 0\n",
    "    total = 0\n",
    "    for data in tqdm(dataloader):\n",
    "        inputs, labels = data[0].to(device), data[1].to(device)\n",
    "        optimizer.zero_grad()\n",
    "        pred = model(inputs)\n",
    "        predicted = torch.round(pred)  # Round the output probabilities to get binary predictions\n",
    "        total += labels.size(0)\n",
    "        correct += predicted.eq(labels).sum().item()\n",
    "        loss = criterion(pred, labels)\n",
    "        loss.backward()\n",
    "        optimizer.step()\n",
    "        running_loss += loss.item()\n",
    "    train_loss=running_loss/len(dataloader)\n",
    "    accu=100.*correct/total\n",
    "    return train_loss, accu"
   ]
  },
  {
   "cell_type": "code",
   "execution_count": 5,
   "metadata": {},
   "outputs": [],
   "source": [
    "def evaluate_epoch(model, dataloader, criterion):\n",
    "    model.eval()\n",
    "    running_loss = 0\n",
    "    correct = 0\n",
    "    total = 0\n",
    "    all_labels = []\n",
    "    all_preds = []\n",
    "    for data in dataloader:\n",
    "        inputs, labels = data[0].to(device), data[1].to(device)\n",
    "        outputs = model(inputs)\n",
    "        predicted = torch.round(outputs)  # Round the output probabilities to get binary predictions\n",
    "        total += labels.size(0)\n",
    "        correct += predicted.eq(labels).sum().item()\n",
    "        loss = criterion(outputs, labels)\n",
    "        running_loss += loss.item()\n",
    "\n",
    "        # Store all labels and predictions for metric calculation\n",
    "        all_labels.extend(labels.cpu().numpy())\n",
    "        all_preds.extend(predicted.detach().cpu().numpy())  # Detach the tensor before converting to numpy\n",
    "            \n",
    "    test_loss=running_loss/len(dataloader)\n",
    "    test_accu=100.*correct/total\n",
    "\n",
    "    # Calculate metrics\n",
    "    balance_acc = balanced_accuracy_score(all_labels, all_preds)\n",
    "    precision = precision_score(all_labels, all_preds)\n",
    "    recall = recall_score(all_labels, all_preds)\n",
    "\n",
    "    return test_loss, test_accu, balance_acc, precision, recall"
   ]
  },
  {
   "cell_type": "code",
   "execution_count": 6,
   "metadata": {},
   "outputs": [],
   "source": [
    "def train_model(model, train_dataloader, test_dataloader, criterion, optimizer, num_epochs=25, model_path='models/FeedForwardNet/saved_model.pth'):\n",
    "    model = model.to(device)  # Move the model to the GPU\n",
    "    \n",
    "    for epoch in range(num_epochs):\n",
    "        print(f'Epoch : {epoch+1}')\n",
    "        \n",
    "        train_loss, accu = train_epoch(model, train_dataloader, criterion, optimizer)\n",
    "        train_accu.append(accu)\n",
    "        train_losses.append(train_loss)\n",
    "\n",
    "        test_loss, test_accu, balance_acc, precision, recall = evaluate_epoch(model, test_dataloader, criterion)\n",
    "        eval_losses.append(test_loss)\n",
    "        eval_accu.append(test_accu)\n",
    "\n",
    "        # Append the metrics to the lists\n",
    "        balance_accuracy_list.append(balance_acc)\n",
    "        precision_list.append(precision)\n",
    "        recall_list.append(recall)\n",
    "\n",
    "        print(f'Train Loss: {train_loss:.3f} | Train Accuracy: {accu:.3f} | Test Loss: {test_loss:.3f} | Test Accuracy: {test_accu:.3f} | Balance Accuracy: {balance_acc:.3f} | Precision: {precision:.3f} | Recall: {recall:.3f}')\n",
    "\n",
    "    # Compute the average of the metrics over all epochs\n",
    "    avg_balance_acc = sum(balance_accuracy_list) / len(balance_accuracy_list)\n",
    "    avg_precision = sum(precision_list) / len(precision_list)\n",
    "    avg_recall = sum(recall_list) / len(recall_list)\n",
    "    torch.save(model.state_dict(), model_path)\n",
    "     \n",
    "     \n",
    "\n",
    "    # Store the averages in a list\n",
    "    averages = [avg_balance_acc, avg_precision, avg_recall]\n",
    "\n",
    "    return averages"
   ]
  },
  {
   "cell_type": "code",
   "execution_count": 7,
   "metadata": {},
   "outputs": [],
   "source": [
    "def evaluate_model(model, dataloader, criterion):\n",
    "    model = model.to(device)  # Move the model to the GPU\n",
    "    model.eval()  # Set model to evaluate mode\n",
    "    running_loss=0\n",
    "    correct=0\n",
    "    total=0\n",
    "    all_labels = []\n",
    "    all_preds = []\n",
    "    with torch.no_grad():\n",
    "        for data in tqdm(dataloader):\n",
    "            images,labels=data[0].to(device),data[1].to(device)\n",
    "            outputs=model(images)\n",
    "            loss= criterion(outputs,labels)\n",
    "            running_loss+=loss.item()\n",
    "            predicted = torch.round(outputs)  # Round the output probabilities to get binary predictions\n",
    "            total += labels.size(0)\n",
    "            correct += predicted.eq(labels).sum().item()\n",
    "            \n",
    "            # Store all labels and predictions for metric calculation\n",
    "            all_labels.extend(labels.cpu().numpy())\n",
    "            all_preds.extend(predicted.cpu().numpy())\n",
    "            \n",
    "    test_loss=running_loss/len(dataloader)\n",
    "    accu=100.*correct/total\n",
    "    eval_losses.append(test_loss)\n",
    "    eval_accu.append(accu)\n",
    "    \n",
    "    # Calculate metrics\n",
    "    balance_acc = balanced_accuracy_score(all_labels, all_preds)\n",
    "    precision = precision_score(all_labels, all_preds)\n",
    "    recall = recall_score(all_labels, all_preds)\n",
    "\n",
    "    # Append the metrics to the lists\n",
    "    balance_accuracy_list.append(balance_acc)\n",
    "    precision_list.append(precision)\n",
    "    recall_list.append(recall)\n",
    "\n",
    "    print(f'Test Loss: {test_loss:.3f} | Accuracy: {accu:.3f}')"
   ]
  },
  {
   "cell_type": "code",
   "execution_count": 8,
   "metadata": {},
   "outputs": [],
   "source": [
    "def process_target(df, target, model):\n",
    "   # Step 1: Preprocess the data\n",
    "   X, y, num_cols, cat_cols = output_selection_prepro(df, target)\n",
    "\n",
    "   # Split the data into train and test sets\n",
    "   X_train, X_test, y_train, y_test = train_test_split(X, y, test_size=0.25, random_state=465)\n",
    "   \n",
    "   Scaler = StandardScaler( )\n",
    "   X_train = Scaler.fit_transform(X_train)\n",
    "   X_test = Scaler.transform(X_test)\n",
    "   \n",
    "   \n",
    "   # Convert features and labels to tensors\n",
    "   X_train_tensor = torch.tensor(X_train.astype(np.float32))\n",
    "   X_test_tensor = torch.tensor(X_test.astype(np.float32))\n",
    "   y_train_tensor = torch.tensor(y_train.values).float().unsqueeze(1)\n",
    "   y_test_tensor = torch.tensor(y_test.values).float().unsqueeze(1)\n",
    "\n",
    "   # Convert the data into PyTorch tensors and load them into a DataLoader\n",
    "   train_data = TensorDataset(X_train_tensor, y_train_tensor)\n",
    "   test_data = TensorDataset(X_test_tensor, y_test_tensor)\n",
    "   #save test data\n",
    "   torch.save(test_data, f'data/processed/{target}/test_data.pth')\n",
    "\n",
    "   batch_size = 2048\n",
    "   train_loader = DataLoader(train_data, shuffle=True, batch_size=batch_size)\n",
    "   test_loader = DataLoader(test_data, shuffle=True, batch_size=batch_size)\n",
    "\n",
    "   # Define the model, loss function, and optimizer\n",
    "   model = model\n",
    "   criterion = nn.BCELoss()\n",
    "   optimizer = torch.optim.Adam(model.parameters(), lr=0.00009)\n",
    "\n",
    "   # Train the model\n",
    "   average = train_model(model, train_loader, test_loader, criterion, optimizer, num_epochs=200)\n",
    "   \n",
    "   \n",
    "   print(f'\\nAverage Balanced Accuracy: {average[0]:.3f} | Average Precision: {average[1]:.3f} | Average Recall: {average[2]:.3f}')\n",
    "   evaluate_model(model, test_loader, criterion)"
   ]
  },
  {
   "cell_type": "code",
   "execution_count": 9,
   "metadata": {},
   "outputs": [
    {
     "name": "stdout",
     "output_type": "stream",
     "text": [
      "Loading data from data/processed/RCAST/imputed_data_RCAST.csv...\n",
      "No missing values found.\n",
      "Final X columns: ['RDAYSFROMINDEX', 'RSEQCATHNUM', 'RSUBJID', 'YRCATH_G', 'AGE_G', 'GENDER', 'RACE_G', 'DPCABG', 'DPMI', 'DPPCI', 'HXANGINA', 'HXCEREB', 'HXCHF', 'HXCOPD', 'HXDIAB', 'HXHTN', 'HXHYL', 'HXMI', 'HXSMOKE', 'NUMPRMI', 'DIASBP_R', 'PULSE_R', 'SYSBP_R', 'CBRUITS', 'HEIGHT_R', 'S3', 'WEIGHT_R', 'CREATININE_R', 'HDL_R', 'LDL_R', 'TOTCHOL_R', 'CATHAPPR', 'DIAGCATH', 'INTVCATH', 'CORDOM', 'GRAFTST', 'LVEF_R', 'DAYS2LKA', 'DSCABG', 'DSMI', 'DSPCI', 'DSSTROKE', 'FUPROTCL']\n",
      "Epoch : 1\n"
     ]
    },
    {
     "name": "stderr",
     "output_type": "stream",
     "text": [
      "100%|██████████| 25/25 [00:01<00:00, 22.78it/s]\n"
     ]
    },
    {
     "name": "stdout",
     "output_type": "stream",
     "text": [
      "Train Loss: 0.649 | Train Accuracy: 63.367 | Test Loss: 0.625 | Test Accuracy: 69.397 | Balance Accuracy: 0.611 | Precision: 0.681 | Recall: 0.955\n",
      "Epoch : 2\n"
     ]
    },
    {
     "name": "stderr",
     "output_type": "stream",
     "text": [
      "100%|██████████| 25/25 [00:00<00:00, 32.21it/s]\n"
     ]
    },
    {
     "name": "stdout",
     "output_type": "stream",
     "text": [
      "Train Loss: 0.603 | Train Accuracy: 68.392 | Test Loss: 0.569 | Test Accuracy: 71.087 | Balance Accuracy: 0.650 | Precision: 0.711 | Recall: 0.901\n",
      "Epoch : 3\n"
     ]
    },
    {
     "name": "stderr",
     "output_type": "stream",
     "text": [
      "100%|██████████| 25/25 [00:00<00:00, 38.46it/s]\n"
     ]
    },
    {
     "name": "stdout",
     "output_type": "stream",
     "text": [
      "Train Loss: 0.574 | Train Accuracy: 70.141 | Test Loss: 0.551 | Test Accuracy: 71.976 | Balance Accuracy: 0.657 | Precision: 0.713 | Recall: 0.918\n",
      "Epoch : 4\n"
     ]
    },
    {
     "name": "stderr",
     "output_type": "stream",
     "text": [
      "100%|██████████| 25/25 [00:00<00:00, 37.47it/s]\n"
     ]
    },
    {
     "name": "stdout",
     "output_type": "stream",
     "text": [
      "Train Loss: 0.562 | Train Accuracy: 70.569 | Test Loss: 0.539 | Test Accuracy: 72.263 | Balance Accuracy: 0.661 | Precision: 0.717 | Recall: 0.915\n",
      "Epoch : 5\n"
     ]
    },
    {
     "name": "stderr",
     "output_type": "stream",
     "text": [
      "100%|██████████| 25/25 [00:00<00:00, 37.14it/s]\n"
     ]
    },
    {
     "name": "stdout",
     "output_type": "stream",
     "text": [
      "Train Loss: 0.553 | Train Accuracy: 71.311 | Test Loss: 0.533 | Test Accuracy: 72.442 | Balance Accuracy: 0.664 | Precision: 0.718 | Recall: 0.915\n",
      "Epoch : 6\n"
     ]
    },
    {
     "name": "stderr",
     "output_type": "stream",
     "text": [
      "100%|██████████| 25/25 [00:00<00:00, 36.20it/s]\n"
     ]
    },
    {
     "name": "stdout",
     "output_type": "stream",
     "text": [
      "Train Loss: 0.545 | Train Accuracy: 71.648 | Test Loss: 0.530 | Test Accuracy: 72.657 | Balance Accuracy: 0.666 | Precision: 0.720 | Recall: 0.917\n",
      "Epoch : 7\n"
     ]
    },
    {
     "name": "stderr",
     "output_type": "stream",
     "text": [
      "100%|██████████| 25/25 [00:00<00:00, 38.83it/s]\n"
     ]
    },
    {
     "name": "stdout",
     "output_type": "stream",
     "text": [
      "Train Loss: 0.542 | Train Accuracy: 71.974 | Test Loss: 0.523 | Test Accuracy: 72.818 | Balance Accuracy: 0.669 | Precision: 0.722 | Recall: 0.914\n",
      "Epoch : 8\n"
     ]
    },
    {
     "name": "stderr",
     "output_type": "stream",
     "text": [
      "100%|██████████| 25/25 [00:00<00:00, 39.31it/s]\n"
     ]
    },
    {
     "name": "stdout",
     "output_type": "stream",
     "text": [
      "Train Loss: 0.538 | Train Accuracy: 72.094 | Test Loss: 0.521 | Test Accuracy: 73.027 | Balance Accuracy: 0.671 | Precision: 0.724 | Recall: 0.915\n",
      "Epoch : 9\n"
     ]
    },
    {
     "name": "stderr",
     "output_type": "stream",
     "text": [
      "100%|██████████| 25/25 [00:00<00:00, 33.36it/s]\n"
     ]
    },
    {
     "name": "stdout",
     "output_type": "stream",
     "text": [
      "Train Loss: 0.534 | Train Accuracy: 72.591 | Test Loss: 0.520 | Test Accuracy: 73.212 | Balance Accuracy: 0.674 | Precision: 0.725 | Recall: 0.915\n",
      "Epoch : 10\n"
     ]
    },
    {
     "name": "stderr",
     "output_type": "stream",
     "text": [
      "100%|██████████| 25/25 [00:00<00:00, 39.30it/s]\n"
     ]
    },
    {
     "name": "stdout",
     "output_type": "stream",
     "text": [
      "Train Loss: 0.531 | Train Accuracy: 72.549 | Test Loss: 0.517 | Test Accuracy: 73.433 | Balance Accuracy: 0.680 | Precision: 0.731 | Recall: 0.906\n",
      "Epoch : 11\n"
     ]
    },
    {
     "name": "stderr",
     "output_type": "stream",
     "text": [
      "100%|██████████| 25/25 [00:00<00:00, 38.02it/s]\n"
     ]
    },
    {
     "name": "stdout",
     "output_type": "stream",
     "text": [
      "Train Loss: 0.530 | Train Accuracy: 72.836 | Test Loss: 0.517 | Test Accuracy: 73.648 | Balance Accuracy: 0.682 | Precision: 0.733 | Recall: 0.906\n",
      "Epoch : 12\n"
     ]
    },
    {
     "name": "stderr",
     "output_type": "stream",
     "text": [
      "100%|██████████| 25/25 [00:00<00:00, 34.86it/s]\n"
     ]
    },
    {
     "name": "stdout",
     "output_type": "stream",
     "text": [
      "Train Loss: 0.526 | Train Accuracy: 73.031 | Test Loss: 0.515 | Test Accuracy: 73.761 | Balance Accuracy: 0.683 | Precision: 0.733 | Recall: 0.909\n",
      "Epoch : 13\n"
     ]
    },
    {
     "name": "stderr",
     "output_type": "stream",
     "text": [
      "100%|██████████| 25/25 [00:00<00:00, 36.78it/s]\n"
     ]
    },
    {
     "name": "stdout",
     "output_type": "stream",
     "text": [
      "Train Loss: 0.525 | Train Accuracy: 73.166 | Test Loss: 0.514 | Test Accuracy: 73.785 | Balance Accuracy: 0.685 | Precision: 0.735 | Recall: 0.904\n",
      "Epoch : 14\n"
     ]
    },
    {
     "name": "stderr",
     "output_type": "stream",
     "text": [
      "100%|██████████| 25/25 [00:00<00:00, 37.06it/s]\n"
     ]
    },
    {
     "name": "stdout",
     "output_type": "stream",
     "text": [
      "Train Loss: 0.523 | Train Accuracy: 73.335 | Test Loss: 0.512 | Test Accuracy: 73.994 | Balance Accuracy: 0.687 | Precision: 0.736 | Recall: 0.905\n",
      "Epoch : 15\n"
     ]
    },
    {
     "name": "stderr",
     "output_type": "stream",
     "text": [
      "100%|██████████| 25/25 [00:00<00:00, 32.49it/s]\n"
     ]
    },
    {
     "name": "stdout",
     "output_type": "stream",
     "text": [
      "Train Loss: 0.521 | Train Accuracy: 73.397 | Test Loss: 0.512 | Test Accuracy: 73.976 | Balance Accuracy: 0.687 | Precision: 0.736 | Recall: 0.906\n",
      "Epoch : 16\n"
     ]
    },
    {
     "name": "stderr",
     "output_type": "stream",
     "text": [
      "100%|██████████| 25/25 [00:00<00:00, 38.08it/s]\n"
     ]
    },
    {
     "name": "stdout",
     "output_type": "stream",
     "text": [
      "Train Loss: 0.519 | Train Accuracy: 73.546 | Test Loss: 0.506 | Test Accuracy: 74.131 | Balance Accuracy: 0.692 | Precision: 0.741 | Recall: 0.897\n",
      "Epoch : 17\n"
     ]
    },
    {
     "name": "stderr",
     "output_type": "stream",
     "text": [
      "100%|██████████| 25/25 [00:00<00:00, 32.45it/s]\n"
     ]
    },
    {
     "name": "stdout",
     "output_type": "stream",
     "text": [
      "Train Loss: 0.518 | Train Accuracy: 73.678 | Test Loss: 0.508 | Test Accuracy: 74.310 | Balance Accuracy: 0.691 | Precision: 0.739 | Recall: 0.905\n",
      "Epoch : 18\n"
     ]
    },
    {
     "name": "stderr",
     "output_type": "stream",
     "text": [
      "100%|██████████| 25/25 [00:01<00:00, 17.10it/s]\n"
     ]
    },
    {
     "name": "stdout",
     "output_type": "stream",
     "text": [
      "Train Loss: 0.515 | Train Accuracy: 73.700 | Test Loss: 0.507 | Test Accuracy: 74.507 | Balance Accuracy: 0.694 | Precision: 0.741 | Recall: 0.907\n",
      "Epoch : 19\n"
     ]
    },
    {
     "name": "stderr",
     "output_type": "stream",
     "text": [
      "100%|██████████| 25/25 [00:00<00:00, 33.61it/s]\n"
     ]
    },
    {
     "name": "stdout",
     "output_type": "stream",
     "text": [
      "Train Loss: 0.514 | Train Accuracy: 73.801 | Test Loss: 0.501 | Test Accuracy: 74.472 | Balance Accuracy: 0.695 | Precision: 0.743 | Recall: 0.900\n",
      "Epoch : 20\n"
     ]
    },
    {
     "name": "stderr",
     "output_type": "stream",
     "text": [
      "100%|██████████| 25/25 [00:00<00:00, 26.29it/s]\n"
     ]
    },
    {
     "name": "stdout",
     "output_type": "stream",
     "text": [
      "Train Loss: 0.514 | Train Accuracy: 73.918 | Test Loss: 0.503 | Test Accuracy: 74.597 | Balance Accuracy: 0.696 | Precision: 0.743 | Recall: 0.903\n",
      "Epoch : 21\n"
     ]
    },
    {
     "name": "stderr",
     "output_type": "stream",
     "text": [
      "100%|██████████| 25/25 [00:00<00:00, 36.74it/s]\n"
     ]
    },
    {
     "name": "stdout",
     "output_type": "stream",
     "text": [
      "Train Loss: 0.513 | Train Accuracy: 74.028 | Test Loss: 0.506 | Test Accuracy: 74.621 | Balance Accuracy: 0.696 | Precision: 0.743 | Recall: 0.904\n",
      "Epoch : 22\n"
     ]
    },
    {
     "name": "stderr",
     "output_type": "stream",
     "text": [
      "100%|██████████| 25/25 [00:00<00:00, 39.09it/s]\n"
     ]
    },
    {
     "name": "stdout",
     "output_type": "stream",
     "text": [
      "Train Loss: 0.511 | Train Accuracy: 74.056 | Test Loss: 0.503 | Test Accuracy: 74.627 | Balance Accuracy: 0.699 | Precision: 0.746 | Recall: 0.896\n",
      "Epoch : 23\n"
     ]
    },
    {
     "name": "stderr",
     "output_type": "stream",
     "text": [
      "100%|██████████| 25/25 [00:00<00:00, 36.34it/s]\n"
     ]
    },
    {
     "name": "stdout",
     "output_type": "stream",
     "text": [
      "Train Loss: 0.511 | Train Accuracy: 74.217 | Test Loss: 0.501 | Test Accuracy: 74.710 | Balance Accuracy: 0.698 | Precision: 0.746 | Recall: 0.900\n",
      "Epoch : 24\n"
     ]
    },
    {
     "name": "stderr",
     "output_type": "stream",
     "text": [
      "100%|██████████| 25/25 [00:00<00:00, 35.78it/s]\n"
     ]
    },
    {
     "name": "stdout",
     "output_type": "stream",
     "text": [
      "Train Loss: 0.508 | Train Accuracy: 74.342 | Test Loss: 0.498 | Test Accuracy: 74.746 | Balance Accuracy: 0.700 | Precision: 0.747 | Recall: 0.896\n",
      "Epoch : 25\n"
     ]
    },
    {
     "name": "stderr",
     "output_type": "stream",
     "text": [
      "100%|██████████| 25/25 [00:00<00:00, 34.16it/s]\n"
     ]
    },
    {
     "name": "stdout",
     "output_type": "stream",
     "text": [
      "Train Loss: 0.509 | Train Accuracy: 74.326 | Test Loss: 0.499 | Test Accuracy: 74.812 | Balance Accuracy: 0.701 | Precision: 0.748 | Recall: 0.897\n",
      "Epoch : 26\n"
     ]
    },
    {
     "name": "stderr",
     "output_type": "stream",
     "text": [
      "100%|██████████| 25/25 [00:00<00:00, 33.97it/s]\n"
     ]
    },
    {
     "name": "stdout",
     "output_type": "stream",
     "text": [
      "Train Loss: 0.507 | Train Accuracy: 74.488 | Test Loss: 0.500 | Test Accuracy: 74.896 | Balance Accuracy: 0.701 | Precision: 0.748 | Recall: 0.899\n",
      "Epoch : 27\n"
     ]
    },
    {
     "name": "stderr",
     "output_type": "stream",
     "text": [
      "100%|██████████| 25/25 [00:00<00:00, 34.43it/s]\n"
     ]
    },
    {
     "name": "stdout",
     "output_type": "stream",
     "text": [
      "Train Loss: 0.507 | Train Accuracy: 74.368 | Test Loss: 0.502 | Test Accuracy: 74.973 | Balance Accuracy: 0.704 | Precision: 0.751 | Recall: 0.894\n",
      "Epoch : 28\n"
     ]
    },
    {
     "name": "stderr",
     "output_type": "stream",
     "text": [
      "100%|██████████| 25/25 [00:00<00:00, 30.09it/s]\n"
     ]
    },
    {
     "name": "stdout",
     "output_type": "stream",
     "text": [
      "Train Loss: 0.506 | Train Accuracy: 74.559 | Test Loss: 0.502 | Test Accuracy: 75.027 | Balance Accuracy: 0.702 | Precision: 0.748 | Recall: 0.901\n",
      "Epoch : 29\n"
     ]
    },
    {
     "name": "stderr",
     "output_type": "stream",
     "text": [
      "100%|██████████| 25/25 [00:00<00:00, 33.85it/s]\n"
     ]
    },
    {
     "name": "stdout",
     "output_type": "stream",
     "text": [
      "Train Loss: 0.506 | Train Accuracy: 74.603 | Test Loss: 0.497 | Test Accuracy: 75.039 | Balance Accuracy: 0.707 | Precision: 0.754 | Recall: 0.888\n",
      "Epoch : 30\n"
     ]
    },
    {
     "name": "stderr",
     "output_type": "stream",
     "text": [
      "100%|██████████| 25/25 [00:00<00:00, 36.58it/s]\n"
     ]
    },
    {
     "name": "stdout",
     "output_type": "stream",
     "text": [
      "Train Loss: 0.503 | Train Accuracy: 74.683 | Test Loss: 0.501 | Test Accuracy: 74.931 | Balance Accuracy: 0.703 | Precision: 0.749 | Recall: 0.896\n",
      "Epoch : 31\n"
     ]
    },
    {
     "name": "stderr",
     "output_type": "stream",
     "text": [
      "100%|██████████| 25/25 [00:00<00:00, 36.28it/s]\n"
     ]
    },
    {
     "name": "stdout",
     "output_type": "stream",
     "text": [
      "Train Loss: 0.503 | Train Accuracy: 74.788 | Test Loss: 0.496 | Test Accuracy: 75.158 | Balance Accuracy: 0.708 | Precision: 0.754 | Recall: 0.890\n",
      "Epoch : 32\n"
     ]
    },
    {
     "name": "stderr",
     "output_type": "stream",
     "text": [
      "100%|██████████| 25/25 [00:00<00:00, 36.11it/s]\n"
     ]
    },
    {
     "name": "stdout",
     "output_type": "stream",
     "text": [
      "Train Loss: 0.503 | Train Accuracy: 74.712 | Test Loss: 0.498 | Test Accuracy: 75.104 | Balance Accuracy: 0.706 | Precision: 0.753 | Recall: 0.892\n",
      "Epoch : 33\n"
     ]
    },
    {
     "name": "stderr",
     "output_type": "stream",
     "text": [
      "100%|██████████| 25/25 [00:00<00:00, 35.03it/s]\n"
     ]
    },
    {
     "name": "stdout",
     "output_type": "stream",
     "text": [
      "Train Loss: 0.501 | Train Accuracy: 74.854 | Test Loss: 0.500 | Test Accuracy: 75.140 | Balance Accuracy: 0.707 | Precision: 0.753 | Recall: 0.891\n",
      "Epoch : 34\n"
     ]
    },
    {
     "name": "stderr",
     "output_type": "stream",
     "text": [
      "100%|██████████| 25/25 [00:00<00:00, 34.80it/s]\n"
     ]
    },
    {
     "name": "stdout",
     "output_type": "stream",
     "text": [
      "Train Loss: 0.500 | Train Accuracy: 74.886 | Test Loss: 0.498 | Test Accuracy: 75.152 | Balance Accuracy: 0.705 | Precision: 0.751 | Recall: 0.896\n",
      "Epoch : 35\n"
     ]
    },
    {
     "name": "stderr",
     "output_type": "stream",
     "text": [
      "100%|██████████| 25/25 [00:00<00:00, 35.80it/s]\n"
     ]
    },
    {
     "name": "stdout",
     "output_type": "stream",
     "text": [
      "Train Loss: 0.500 | Train Accuracy: 74.907 | Test Loss: 0.495 | Test Accuracy: 75.152 | Balance Accuracy: 0.708 | Precision: 0.755 | Recall: 0.888\n",
      "Epoch : 36\n"
     ]
    },
    {
     "name": "stderr",
     "output_type": "stream",
     "text": [
      "100%|██████████| 25/25 [00:00<00:00, 34.15it/s]\n"
     ]
    },
    {
     "name": "stdout",
     "output_type": "stream",
     "text": [
      "Train Loss: 0.500 | Train Accuracy: 74.913 | Test Loss: 0.496 | Test Accuracy: 75.164 | Balance Accuracy: 0.709 | Precision: 0.756 | Recall: 0.886\n",
      "Epoch : 37\n"
     ]
    },
    {
     "name": "stderr",
     "output_type": "stream",
     "text": [
      "100%|██████████| 25/25 [00:00<00:00, 36.62it/s]\n"
     ]
    },
    {
     "name": "stdout",
     "output_type": "stream",
     "text": [
      "Train Loss: 0.499 | Train Accuracy: 74.945 | Test Loss: 0.495 | Test Accuracy: 75.290 | Balance Accuracy: 0.708 | Precision: 0.754 | Recall: 0.893\n",
      "Epoch : 38\n"
     ]
    },
    {
     "name": "stderr",
     "output_type": "stream",
     "text": [
      "100%|██████████| 25/25 [00:00<00:00, 35.61it/s]\n"
     ]
    },
    {
     "name": "stdout",
     "output_type": "stream",
     "text": [
      "Train Loss: 0.498 | Train Accuracy: 75.100 | Test Loss: 0.494 | Test Accuracy: 75.164 | Balance Accuracy: 0.705 | Precision: 0.751 | Recall: 0.897\n",
      "Epoch : 39\n"
     ]
    },
    {
     "name": "stderr",
     "output_type": "stream",
     "text": [
      "100%|██████████| 25/25 [00:00<00:00, 36.48it/s]\n"
     ]
    },
    {
     "name": "stdout",
     "output_type": "stream",
     "text": [
      "Train Loss: 0.498 | Train Accuracy: 74.969 | Test Loss: 0.494 | Test Accuracy: 75.194 | Balance Accuracy: 0.708 | Precision: 0.755 | Recall: 0.889\n",
      "Epoch : 40\n"
     ]
    },
    {
     "name": "stderr",
     "output_type": "stream",
     "text": [
      "100%|██████████| 25/25 [00:00<00:00, 36.56it/s]\n"
     ]
    },
    {
     "name": "stdout",
     "output_type": "stream",
     "text": [
      "Train Loss: 0.495 | Train Accuracy: 75.142 | Test Loss: 0.498 | Test Accuracy: 75.170 | Balance Accuracy: 0.708 | Precision: 0.755 | Recall: 0.889\n",
      "Epoch : 41\n"
     ]
    },
    {
     "name": "stderr",
     "output_type": "stream",
     "text": [
      "100%|██████████| 25/25 [00:00<00:00, 37.19it/s]\n"
     ]
    },
    {
     "name": "stdout",
     "output_type": "stream",
     "text": [
      "Train Loss: 0.496 | Train Accuracy: 75.077 | Test Loss: 0.489 | Test Accuracy: 75.278 | Balance Accuracy: 0.710 | Precision: 0.757 | Recall: 0.887\n",
      "Epoch : 42\n"
     ]
    },
    {
     "name": "stderr",
     "output_type": "stream",
     "text": [
      "100%|██████████| 25/25 [00:00<00:00, 36.79it/s]\n"
     ]
    },
    {
     "name": "stdout",
     "output_type": "stream",
     "text": [
      "Train Loss: 0.495 | Train Accuracy: 75.176 | Test Loss: 0.494 | Test Accuracy: 75.218 | Balance Accuracy: 0.710 | Precision: 0.757 | Recall: 0.885\n",
      "Epoch : 43\n"
     ]
    },
    {
     "name": "stderr",
     "output_type": "stream",
     "text": [
      "100%|██████████| 25/25 [00:00<00:00, 37.47it/s]\n"
     ]
    },
    {
     "name": "stdout",
     "output_type": "stream",
     "text": [
      "Train Loss: 0.495 | Train Accuracy: 75.258 | Test Loss: 0.494 | Test Accuracy: 75.242 | Balance Accuracy: 0.710 | Precision: 0.757 | Recall: 0.886\n",
      "Epoch : 44\n"
     ]
    },
    {
     "name": "stderr",
     "output_type": "stream",
     "text": [
      "100%|██████████| 25/25 [00:00<00:00, 35.26it/s]\n"
     ]
    },
    {
     "name": "stdout",
     "output_type": "stream",
     "text": [
      "Train Loss: 0.495 | Train Accuracy: 75.216 | Test Loss: 0.493 | Test Accuracy: 75.403 | Balance Accuracy: 0.712 | Precision: 0.758 | Recall: 0.887\n",
      "Epoch : 45\n"
     ]
    },
    {
     "name": "stderr",
     "output_type": "stream",
     "text": [
      "100%|██████████| 25/25 [00:00<00:00, 38.20it/s]\n"
     ]
    },
    {
     "name": "stdout",
     "output_type": "stream",
     "text": [
      "Train Loss: 0.494 | Train Accuracy: 75.254 | Test Loss: 0.496 | Test Accuracy: 75.325 | Balance Accuracy: 0.710 | Precision: 0.757 | Recall: 0.888\n",
      "Epoch : 46\n"
     ]
    },
    {
     "name": "stderr",
     "output_type": "stream",
     "text": [
      "100%|██████████| 25/25 [00:00<00:00, 36.14it/s]\n"
     ]
    },
    {
     "name": "stdout",
     "output_type": "stream",
     "text": [
      "Train Loss: 0.494 | Train Accuracy: 75.441 | Test Loss: 0.493 | Test Accuracy: 75.385 | Balance Accuracy: 0.709 | Precision: 0.755 | Recall: 0.893\n",
      "Epoch : 47\n"
     ]
    },
    {
     "name": "stderr",
     "output_type": "stream",
     "text": [
      "100%|██████████| 25/25 [00:00<00:00, 35.42it/s]\n"
     ]
    },
    {
     "name": "stdout",
     "output_type": "stream",
     "text": [
      "Train Loss: 0.493 | Train Accuracy: 75.242 | Test Loss: 0.494 | Test Accuracy: 75.403 | Balance Accuracy: 0.713 | Precision: 0.759 | Recall: 0.884\n",
      "Epoch : 48\n"
     ]
    },
    {
     "name": "stderr",
     "output_type": "stream",
     "text": [
      "100%|██████████| 25/25 [00:00<00:00, 36.41it/s]\n"
     ]
    },
    {
     "name": "stdout",
     "output_type": "stream",
     "text": [
      "Train Loss: 0.491 | Train Accuracy: 75.554 | Test Loss: 0.494 | Test Accuracy: 75.510 | Balance Accuracy: 0.712 | Precision: 0.758 | Recall: 0.890\n",
      "Epoch : 49\n"
     ]
    },
    {
     "name": "stderr",
     "output_type": "stream",
     "text": [
      "100%|██████████| 25/25 [00:00<00:00, 36.52it/s]\n"
     ]
    },
    {
     "name": "stdout",
     "output_type": "stream",
     "text": [
      "Train Loss: 0.492 | Train Accuracy: 75.301 | Test Loss: 0.487 | Test Accuracy: 75.713 | Balance Accuracy: 0.714 | Precision: 0.759 | Recall: 0.892\n",
      "Epoch : 50\n"
     ]
    },
    {
     "name": "stderr",
     "output_type": "stream",
     "text": [
      "100%|██████████| 25/25 [00:00<00:00, 36.34it/s]\n"
     ]
    },
    {
     "name": "stdout",
     "output_type": "stream",
     "text": [
      "Train Loss: 0.490 | Train Accuracy: 75.664 | Test Loss: 0.490 | Test Accuracy: 75.469 | Balance Accuracy: 0.713 | Precision: 0.759 | Recall: 0.886\n",
      "Epoch : 51\n"
     ]
    },
    {
     "name": "stderr",
     "output_type": "stream",
     "text": [
      "100%|██████████| 25/25 [00:00<00:00, 36.61it/s]\n"
     ]
    },
    {
     "name": "stdout",
     "output_type": "stream",
     "text": [
      "Train Loss: 0.490 | Train Accuracy: 75.477 | Test Loss: 0.491 | Test Accuracy: 75.534 | Balance Accuracy: 0.714 | Precision: 0.760 | Recall: 0.886\n",
      "Epoch : 52\n"
     ]
    },
    {
     "name": "stderr",
     "output_type": "stream",
     "text": [
      "100%|██████████| 25/25 [00:00<00:00, 36.47it/s]\n"
     ]
    },
    {
     "name": "stdout",
     "output_type": "stream",
     "text": [
      "Train Loss: 0.490 | Train Accuracy: 75.303 | Test Loss: 0.493 | Test Accuracy: 75.504 | Balance Accuracy: 0.710 | Precision: 0.756 | Recall: 0.895\n",
      "Epoch : 53\n"
     ]
    },
    {
     "name": "stderr",
     "output_type": "stream",
     "text": [
      "100%|██████████| 25/25 [00:00<00:00, 36.15it/s]\n"
     ]
    },
    {
     "name": "stdout",
     "output_type": "stream",
     "text": [
      "Train Loss: 0.488 | Train Accuracy: 75.705 | Test Loss: 0.494 | Test Accuracy: 75.522 | Balance Accuracy: 0.717 | Precision: 0.764 | Recall: 0.876\n",
      "Epoch : 54\n"
     ]
    },
    {
     "name": "stderr",
     "output_type": "stream",
     "text": [
      "100%|██████████| 25/25 [00:00<00:00, 36.74it/s]\n"
     ]
    },
    {
     "name": "stdout",
     "output_type": "stream",
     "text": [
      "Train Loss: 0.489 | Train Accuracy: 75.793 | Test Loss: 0.492 | Test Accuracy: 75.672 | Balance Accuracy: 0.713 | Precision: 0.757 | Recall: 0.895\n",
      "Epoch : 55\n"
     ]
    },
    {
     "name": "stderr",
     "output_type": "stream",
     "text": [
      "100%|██████████| 25/25 [00:00<00:00, 36.08it/s]\n"
     ]
    },
    {
     "name": "stdout",
     "output_type": "stream",
     "text": [
      "Train Loss: 0.486 | Train Accuracy: 75.801 | Test Loss: 0.490 | Test Accuracy: 75.707 | Balance Accuracy: 0.715 | Precision: 0.761 | Recall: 0.888\n",
      "Epoch : 56\n"
     ]
    },
    {
     "name": "stderr",
     "output_type": "stream",
     "text": [
      "100%|██████████| 25/25 [00:00<00:00, 35.00it/s]\n"
     ]
    },
    {
     "name": "stdout",
     "output_type": "stream",
     "text": [
      "Train Loss: 0.487 | Train Accuracy: 75.672 | Test Loss: 0.493 | Test Accuracy: 75.606 | Balance Accuracy: 0.716 | Precision: 0.763 | Recall: 0.882\n",
      "Epoch : 57\n"
     ]
    },
    {
     "name": "stderr",
     "output_type": "stream",
     "text": [
      "100%|██████████| 25/25 [00:00<00:00, 36.56it/s]\n"
     ]
    },
    {
     "name": "stdout",
     "output_type": "stream",
     "text": [
      "Train Loss: 0.487 | Train Accuracy: 75.731 | Test Loss: 0.495 | Test Accuracy: 75.582 | Balance Accuracy: 0.714 | Precision: 0.760 | Recall: 0.888\n",
      "Epoch : 58\n"
     ]
    },
    {
     "name": "stderr",
     "output_type": "stream",
     "text": [
      "100%|██████████| 25/25 [00:00<00:00, 34.95it/s]\n"
     ]
    },
    {
     "name": "stdout",
     "output_type": "stream",
     "text": [
      "Train Loss: 0.486 | Train Accuracy: 75.779 | Test Loss: 0.488 | Test Accuracy: 75.558 | Balance Accuracy: 0.715 | Precision: 0.761 | Recall: 0.884\n",
      "Epoch : 59\n"
     ]
    },
    {
     "name": "stderr",
     "output_type": "stream",
     "text": [
      "100%|██████████| 25/25 [00:00<00:00, 35.74it/s]\n"
     ]
    },
    {
     "name": "stdout",
     "output_type": "stream",
     "text": [
      "Train Loss: 0.484 | Train Accuracy: 75.839 | Test Loss: 0.495 | Test Accuracy: 75.630 | Balance Accuracy: 0.714 | Precision: 0.759 | Recall: 0.890\n",
      "Epoch : 60\n"
     ]
    },
    {
     "name": "stderr",
     "output_type": "stream",
     "text": [
      "100%|██████████| 25/25 [00:00<00:00, 37.17it/s]\n"
     ]
    },
    {
     "name": "stdout",
     "output_type": "stream",
     "text": [
      "Train Loss: 0.485 | Train Accuracy: 75.811 | Test Loss: 0.490 | Test Accuracy: 75.534 | Balance Accuracy: 0.714 | Precision: 0.760 | Recall: 0.887\n",
      "Epoch : 61\n"
     ]
    },
    {
     "name": "stderr",
     "output_type": "stream",
     "text": [
      "100%|██████████| 25/25 [00:00<00:00, 36.25it/s]\n"
     ]
    },
    {
     "name": "stdout",
     "output_type": "stream",
     "text": [
      "Train Loss: 0.484 | Train Accuracy: 75.873 | Test Loss: 0.492 | Test Accuracy: 75.690 | Balance Accuracy: 0.716 | Precision: 0.762 | Recall: 0.886\n",
      "Epoch : 62\n"
     ]
    },
    {
     "name": "stderr",
     "output_type": "stream",
     "text": [
      "100%|██████████| 25/25 [00:00<00:00, 36.79it/s]\n"
     ]
    },
    {
     "name": "stdout",
     "output_type": "stream",
     "text": [
      "Train Loss: 0.485 | Train Accuracy: 76.032 | Test Loss: 0.489 | Test Accuracy: 75.731 | Balance Accuracy: 0.714 | Precision: 0.759 | Recall: 0.893\n",
      "Epoch : 63\n"
     ]
    },
    {
     "name": "stderr",
     "output_type": "stream",
     "text": [
      "100%|██████████| 25/25 [00:00<00:00, 36.68it/s]\n"
     ]
    },
    {
     "name": "stdout",
     "output_type": "stream",
     "text": [
      "Train Loss: 0.484 | Train Accuracy: 75.839 | Test Loss: 0.493 | Test Accuracy: 75.737 | Balance Accuracy: 0.716 | Precision: 0.761 | Recall: 0.888\n",
      "Epoch : 64\n"
     ]
    },
    {
     "name": "stderr",
     "output_type": "stream",
     "text": [
      "100%|██████████| 25/25 [00:00<00:00, 38.40it/s]\n"
     ]
    },
    {
     "name": "stdout",
     "output_type": "stream",
     "text": [
      "Train Loss: 0.483 | Train Accuracy: 75.984 | Test Loss: 0.488 | Test Accuracy: 75.660 | Balance Accuracy: 0.715 | Precision: 0.761 | Recall: 0.887\n",
      "Epoch : 65\n"
     ]
    },
    {
     "name": "stderr",
     "output_type": "stream",
     "text": [
      "100%|██████████| 25/25 [00:00<00:00, 36.57it/s]\n"
     ]
    },
    {
     "name": "stdout",
     "output_type": "stream",
     "text": [
      "Train Loss: 0.481 | Train Accuracy: 76.117 | Test Loss: 0.486 | Test Accuracy: 75.696 | Balance Accuracy: 0.717 | Precision: 0.763 | Recall: 0.882\n",
      "Epoch : 66\n"
     ]
    },
    {
     "name": "stderr",
     "output_type": "stream",
     "text": [
      "100%|██████████| 25/25 [00:00<00:00, 37.99it/s]\n"
     ]
    },
    {
     "name": "stdout",
     "output_type": "stream",
     "text": [
      "Train Loss: 0.481 | Train Accuracy: 76.167 | Test Loss: 0.490 | Test Accuracy: 75.684 | Balance Accuracy: 0.716 | Precision: 0.762 | Recall: 0.885\n",
      "Epoch : 67\n"
     ]
    },
    {
     "name": "stderr",
     "output_type": "stream",
     "text": [
      "100%|██████████| 25/25 [00:00<00:00, 36.35it/s]\n"
     ]
    },
    {
     "name": "stdout",
     "output_type": "stream",
     "text": [
      "Train Loss: 0.482 | Train Accuracy: 75.958 | Test Loss: 0.492 | Test Accuracy: 75.648 | Balance Accuracy: 0.714 | Precision: 0.759 | Recall: 0.891\n",
      "Epoch : 68\n"
     ]
    },
    {
     "name": "stderr",
     "output_type": "stream",
     "text": [
      "100%|██████████| 25/25 [00:00<00:00, 32.06it/s]\n"
     ]
    },
    {
     "name": "stdout",
     "output_type": "stream",
     "text": [
      "Train Loss: 0.479 | Train Accuracy: 76.151 | Test Loss: 0.492 | Test Accuracy: 75.719 | Balance Accuracy: 0.719 | Precision: 0.765 | Recall: 0.878\n",
      "Epoch : 69\n"
     ]
    },
    {
     "name": "stderr",
     "output_type": "stream",
     "text": [
      "100%|██████████| 25/25 [00:00<00:00, 38.26it/s]\n"
     ]
    },
    {
     "name": "stdout",
     "output_type": "stream",
     "text": [
      "Train Loss: 0.480 | Train Accuracy: 76.181 | Test Loss: 0.487 | Test Accuracy: 75.672 | Balance Accuracy: 0.718 | Precision: 0.765 | Recall: 0.877\n",
      "Epoch : 70\n"
     ]
    },
    {
     "name": "stderr",
     "output_type": "stream",
     "text": [
      "100%|██████████| 25/25 [00:00<00:00, 37.25it/s]\n"
     ]
    },
    {
     "name": "stdout",
     "output_type": "stream",
     "text": [
      "Train Loss: 0.480 | Train Accuracy: 75.918 | Test Loss: 0.490 | Test Accuracy: 75.707 | Balance Accuracy: 0.714 | Precision: 0.759 | Recall: 0.891\n",
      "Epoch : 71\n"
     ]
    },
    {
     "name": "stderr",
     "output_type": "stream",
     "text": [
      "100%|██████████| 25/25 [00:00<00:00, 39.01it/s]\n"
     ]
    },
    {
     "name": "stdout",
     "output_type": "stream",
     "text": [
      "Train Loss: 0.479 | Train Accuracy: 76.299 | Test Loss: 0.495 | Test Accuracy: 75.719 | Balance Accuracy: 0.717 | Precision: 0.763 | Recall: 0.884\n",
      "Epoch : 72\n"
     ]
    },
    {
     "name": "stderr",
     "output_type": "stream",
     "text": [
      "100%|██████████| 25/25 [00:00<00:00, 31.53it/s]\n"
     ]
    },
    {
     "name": "stdout",
     "output_type": "stream",
     "text": [
      "Train Loss: 0.479 | Train Accuracy: 76.227 | Test Loss: 0.486 | Test Accuracy: 75.875 | Balance Accuracy: 0.719 | Precision: 0.765 | Recall: 0.883\n",
      "Epoch : 73\n"
     ]
    },
    {
     "name": "stderr",
     "output_type": "stream",
     "text": [
      "100%|██████████| 25/25 [00:00<00:00, 35.58it/s]\n"
     ]
    },
    {
     "name": "stdout",
     "output_type": "stream",
     "text": [
      "Train Loss: 0.476 | Train Accuracy: 76.442 | Test Loss: 0.493 | Test Accuracy: 75.833 | Balance Accuracy: 0.716 | Precision: 0.761 | Recall: 0.891\n",
      "Epoch : 74\n"
     ]
    },
    {
     "name": "stderr",
     "output_type": "stream",
     "text": [
      "100%|██████████| 25/25 [00:00<00:00, 38.33it/s]\n"
     ]
    },
    {
     "name": "stdout",
     "output_type": "stream",
     "text": [
      "Train Loss: 0.477 | Train Accuracy: 76.121 | Test Loss: 0.490 | Test Accuracy: 75.839 | Balance Accuracy: 0.716 | Precision: 0.761 | Recall: 0.890\n",
      "Epoch : 75\n"
     ]
    },
    {
     "name": "stderr",
     "output_type": "stream",
     "text": [
      "100%|██████████| 25/25 [00:00<00:00, 37.56it/s]\n"
     ]
    },
    {
     "name": "stdout",
     "output_type": "stream",
     "text": [
      "Train Loss: 0.477 | Train Accuracy: 76.308 | Test Loss: 0.493 | Test Accuracy: 75.881 | Balance Accuracy: 0.717 | Precision: 0.762 | Recall: 0.890\n",
      "Epoch : 76\n"
     ]
    },
    {
     "name": "stderr",
     "output_type": "stream",
     "text": [
      "100%|██████████| 25/25 [00:00<00:00, 37.82it/s]\n"
     ]
    },
    {
     "name": "stdout",
     "output_type": "stream",
     "text": [
      "Train Loss: 0.477 | Train Accuracy: 76.448 | Test Loss: 0.489 | Test Accuracy: 75.875 | Balance Accuracy: 0.719 | Precision: 0.764 | Recall: 0.884\n",
      "Epoch : 77\n"
     ]
    },
    {
     "name": "stderr",
     "output_type": "stream",
     "text": [
      "100%|██████████| 25/25 [00:00<00:00, 37.74it/s]\n"
     ]
    },
    {
     "name": "stdout",
     "output_type": "stream",
     "text": [
      "Train Loss: 0.476 | Train Accuracy: 76.312 | Test Loss: 0.491 | Test Accuracy: 75.827 | Balance Accuracy: 0.719 | Precision: 0.765 | Recall: 0.882\n",
      "Epoch : 78\n"
     ]
    },
    {
     "name": "stderr",
     "output_type": "stream",
     "text": [
      "100%|██████████| 25/25 [00:00<00:00, 35.94it/s]\n"
     ]
    },
    {
     "name": "stdout",
     "output_type": "stream",
     "text": [
      "Train Loss: 0.475 | Train Accuracy: 76.320 | Test Loss: 0.488 | Test Accuracy: 75.839 | Balance Accuracy: 0.717 | Precision: 0.762 | Recall: 0.888\n",
      "Epoch : 79\n"
     ]
    },
    {
     "name": "stderr",
     "output_type": "stream",
     "text": [
      "100%|██████████| 25/25 [00:00<00:00, 37.03it/s]\n"
     ]
    },
    {
     "name": "stdout",
     "output_type": "stream",
     "text": [
      "Train Loss: 0.476 | Train Accuracy: 76.398 | Test Loss: 0.489 | Test Accuracy: 75.904 | Balance Accuracy: 0.719 | Precision: 0.765 | Recall: 0.883\n",
      "Epoch : 80\n"
     ]
    },
    {
     "name": "stderr",
     "output_type": "stream",
     "text": [
      "100%|██████████| 25/25 [00:00<00:00, 37.18it/s]\n"
     ]
    },
    {
     "name": "stdout",
     "output_type": "stream",
     "text": [
      "Train Loss: 0.475 | Train Accuracy: 76.370 | Test Loss: 0.491 | Test Accuracy: 75.869 | Balance Accuracy: 0.718 | Precision: 0.764 | Recall: 0.885\n",
      "Epoch : 81\n"
     ]
    },
    {
     "name": "stderr",
     "output_type": "stream",
     "text": [
      "100%|██████████| 25/25 [00:00<00:00, 35.29it/s]\n"
     ]
    },
    {
     "name": "stdout",
     "output_type": "stream",
     "text": [
      "Train Loss: 0.476 | Train Accuracy: 76.488 | Test Loss: 0.490 | Test Accuracy: 75.916 | Balance Accuracy: 0.723 | Precision: 0.770 | Recall: 0.872\n",
      "Epoch : 82\n"
     ]
    },
    {
     "name": "stderr",
     "output_type": "stream",
     "text": [
      "100%|██████████| 25/25 [00:00<00:00, 36.52it/s]\n"
     ]
    },
    {
     "name": "stdout",
     "output_type": "stream",
     "text": [
      "Train Loss: 0.475 | Train Accuracy: 76.583 | Test Loss: 0.490 | Test Accuracy: 75.851 | Balance Accuracy: 0.717 | Precision: 0.762 | Recall: 0.890\n",
      "Epoch : 83\n"
     ]
    },
    {
     "name": "stderr",
     "output_type": "stream",
     "text": [
      "100%|██████████| 25/25 [00:00<00:00, 37.95it/s]\n"
     ]
    },
    {
     "name": "stdout",
     "output_type": "stream",
     "text": [
      "Train Loss: 0.473 | Train Accuracy: 76.603 | Test Loss: 0.486 | Test Accuracy: 75.940 | Balance Accuracy: 0.723 | Precision: 0.770 | Recall: 0.873\n",
      "Epoch : 84\n"
     ]
    },
    {
     "name": "stderr",
     "output_type": "stream",
     "text": [
      "100%|██████████| 25/25 [00:00<00:00, 35.73it/s]\n"
     ]
    },
    {
     "name": "stdout",
     "output_type": "stream",
     "text": [
      "Train Loss: 0.473 | Train Accuracy: 76.629 | Test Loss: 0.489 | Test Accuracy: 75.899 | Balance Accuracy: 0.716 | Precision: 0.760 | Recall: 0.894\n",
      "Epoch : 85\n"
     ]
    },
    {
     "name": "stderr",
     "output_type": "stream",
     "text": [
      "100%|██████████| 25/25 [00:00<00:00, 36.02it/s]\n"
     ]
    },
    {
     "name": "stdout",
     "output_type": "stream",
     "text": [
      "Train Loss: 0.474 | Train Accuracy: 76.500 | Test Loss: 0.484 | Test Accuracy: 75.869 | Balance Accuracy: 0.719 | Precision: 0.764 | Recall: 0.884\n",
      "Epoch : 86\n"
     ]
    },
    {
     "name": "stderr",
     "output_type": "stream",
     "text": [
      "100%|██████████| 25/25 [00:00<00:00, 36.09it/s]\n"
     ]
    },
    {
     "name": "stdout",
     "output_type": "stream",
     "text": [
      "Train Loss: 0.472 | Train Accuracy: 76.474 | Test Loss: 0.493 | Test Accuracy: 75.910 | Balance Accuracy: 0.719 | Precision: 0.764 | Recall: 0.886\n",
      "Epoch : 87\n"
     ]
    },
    {
     "name": "stderr",
     "output_type": "stream",
     "text": [
      "100%|██████████| 25/25 [00:00<00:00, 34.01it/s]\n"
     ]
    },
    {
     "name": "stdout",
     "output_type": "stream",
     "text": [
      "Train Loss: 0.472 | Train Accuracy: 76.774 | Test Loss: 0.489 | Test Accuracy: 75.899 | Balance Accuracy: 0.718 | Precision: 0.763 | Recall: 0.887\n",
      "Epoch : 88\n"
     ]
    },
    {
     "name": "stderr",
     "output_type": "stream",
     "text": [
      "100%|██████████| 25/25 [00:00<00:00, 36.33it/s]\n"
     ]
    },
    {
     "name": "stdout",
     "output_type": "stream",
     "text": [
      "Train Loss: 0.469 | Train Accuracy: 76.768 | Test Loss: 0.491 | Test Accuracy: 75.970 | Balance Accuracy: 0.717 | Precision: 0.762 | Recall: 0.892\n",
      "Epoch : 89\n"
     ]
    },
    {
     "name": "stderr",
     "output_type": "stream",
     "text": [
      "100%|██████████| 25/25 [00:00<00:00, 34.24it/s]\n"
     ]
    },
    {
     "name": "stdout",
     "output_type": "stream",
     "text": [
      "Train Loss: 0.472 | Train Accuracy: 76.561 | Test Loss: 0.490 | Test Accuracy: 76.000 | Balance Accuracy: 0.721 | Precision: 0.766 | Recall: 0.882\n",
      "Epoch : 90\n"
     ]
    },
    {
     "name": "stderr",
     "output_type": "stream",
     "text": [
      "100%|██████████| 25/25 [00:00<00:00, 37.02it/s]\n"
     ]
    },
    {
     "name": "stdout",
     "output_type": "stream",
     "text": [
      "Train Loss: 0.470 | Train Accuracy: 76.776 | Test Loss: 0.489 | Test Accuracy: 75.928 | Balance Accuracy: 0.720 | Precision: 0.766 | Recall: 0.881\n",
      "Epoch : 91\n"
     ]
    },
    {
     "name": "stderr",
     "output_type": "stream",
     "text": [
      "100%|██████████| 25/25 [00:00<00:00, 36.28it/s]\n"
     ]
    },
    {
     "name": "stdout",
     "output_type": "stream",
     "text": [
      "Train Loss: 0.470 | Train Accuracy: 76.724 | Test Loss: 0.490 | Test Accuracy: 76.012 | Balance Accuracy: 0.719 | Precision: 0.763 | Recall: 0.889\n",
      "Epoch : 92\n"
     ]
    },
    {
     "name": "stderr",
     "output_type": "stream",
     "text": [
      "100%|██████████| 25/25 [00:00<00:00, 36.10it/s]\n"
     ]
    },
    {
     "name": "stdout",
     "output_type": "stream",
     "text": [
      "Train Loss: 0.472 | Train Accuracy: 76.720 | Test Loss: 0.494 | Test Accuracy: 75.922 | Balance Accuracy: 0.722 | Precision: 0.769 | Recall: 0.876\n",
      "Epoch : 93\n"
     ]
    },
    {
     "name": "stderr",
     "output_type": "stream",
     "text": [
      "100%|██████████| 25/25 [00:00<00:00, 35.66it/s]\n"
     ]
    },
    {
     "name": "stdout",
     "output_type": "stream",
     "text": [
      "Train Loss: 0.470 | Train Accuracy: 76.794 | Test Loss: 0.489 | Test Accuracy: 75.958 | Balance Accuracy: 0.720 | Precision: 0.765 | Recall: 0.884\n",
      "Epoch : 94\n"
     ]
    },
    {
     "name": "stderr",
     "output_type": "stream",
     "text": [
      "100%|██████████| 25/25 [00:00<00:00, 36.54it/s]\n"
     ]
    },
    {
     "name": "stdout",
     "output_type": "stream",
     "text": [
      "Train Loss: 0.470 | Train Accuracy: 76.699 | Test Loss: 0.492 | Test Accuracy: 75.940 | Balance Accuracy: 0.722 | Precision: 0.768 | Recall: 0.878\n",
      "Epoch : 95\n"
     ]
    },
    {
     "name": "stderr",
     "output_type": "stream",
     "text": [
      "100%|██████████| 25/25 [00:00<00:00, 37.05it/s]\n"
     ]
    },
    {
     "name": "stdout",
     "output_type": "stream",
     "text": [
      "Train Loss: 0.467 | Train Accuracy: 76.973 | Test Loss: 0.491 | Test Accuracy: 75.875 | Balance Accuracy: 0.721 | Precision: 0.768 | Recall: 0.876\n",
      "Epoch : 96\n"
     ]
    },
    {
     "name": "stderr",
     "output_type": "stream",
     "text": [
      "100%|██████████| 25/25 [00:00<00:00, 35.23it/s]\n"
     ]
    },
    {
     "name": "stdout",
     "output_type": "stream",
     "text": [
      "Train Loss: 0.468 | Train Accuracy: 76.840 | Test Loss: 0.489 | Test Accuracy: 75.928 | Balance Accuracy: 0.719 | Precision: 0.765 | Recall: 0.884\n",
      "Epoch : 97\n"
     ]
    },
    {
     "name": "stderr",
     "output_type": "stream",
     "text": [
      "100%|██████████| 25/25 [00:00<00:00, 36.08it/s]\n"
     ]
    },
    {
     "name": "stdout",
     "output_type": "stream",
     "text": [
      "Train Loss: 0.468 | Train Accuracy: 77.122 | Test Loss: 0.491 | Test Accuracy: 75.922 | Balance Accuracy: 0.721 | Precision: 0.767 | Recall: 0.880\n",
      "Epoch : 98\n"
     ]
    },
    {
     "name": "stderr",
     "output_type": "stream",
     "text": [
      "100%|██████████| 25/25 [00:00<00:00, 36.40it/s]\n"
     ]
    },
    {
     "name": "stdout",
     "output_type": "stream",
     "text": [
      "Train Loss: 0.467 | Train Accuracy: 76.917 | Test Loss: 0.492 | Test Accuracy: 75.970 | Balance Accuracy: 0.721 | Precision: 0.767 | Recall: 0.881\n",
      "Epoch : 99\n"
     ]
    },
    {
     "name": "stderr",
     "output_type": "stream",
     "text": [
      "100%|██████████| 25/25 [00:00<00:00, 37.64it/s]\n"
     ]
    },
    {
     "name": "stdout",
     "output_type": "stream",
     "text": [
      "Train Loss: 0.466 | Train Accuracy: 76.816 | Test Loss: 0.486 | Test Accuracy: 75.928 | Balance Accuracy: 0.721 | Precision: 0.767 | Recall: 0.879\n",
      "Epoch : 100\n"
     ]
    },
    {
     "name": "stderr",
     "output_type": "stream",
     "text": [
      "100%|██████████| 25/25 [00:00<00:00, 35.46it/s]\n"
     ]
    },
    {
     "name": "stdout",
     "output_type": "stream",
     "text": [
      "Train Loss: 0.466 | Train Accuracy: 76.790 | Test Loss: 0.489 | Test Accuracy: 75.916 | Balance Accuracy: 0.722 | Precision: 0.768 | Recall: 0.877\n",
      "Epoch : 101\n"
     ]
    },
    {
     "name": "stderr",
     "output_type": "stream",
     "text": [
      "100%|██████████| 25/25 [00:00<00:00, 34.62it/s]\n"
     ]
    },
    {
     "name": "stdout",
     "output_type": "stream",
     "text": [
      "Train Loss: 0.466 | Train Accuracy: 76.985 | Test Loss: 0.490 | Test Accuracy: 75.916 | Balance Accuracy: 0.720 | Precision: 0.766 | Recall: 0.881\n",
      "Epoch : 102\n"
     ]
    },
    {
     "name": "stderr",
     "output_type": "stream",
     "text": [
      "100%|██████████| 25/25 [00:00<00:00, 36.61it/s]\n"
     ]
    },
    {
     "name": "stdout",
     "output_type": "stream",
     "text": [
      "Train Loss: 0.466 | Train Accuracy: 76.808 | Test Loss: 0.490 | Test Accuracy: 75.976 | Balance Accuracy: 0.719 | Precision: 0.763 | Recall: 0.888\n",
      "Epoch : 103\n"
     ]
    },
    {
     "name": "stderr",
     "output_type": "stream",
     "text": [
      "100%|██████████| 25/25 [00:00<00:00, 36.47it/s]\n"
     ]
    },
    {
     "name": "stdout",
     "output_type": "stream",
     "text": [
      "Train Loss: 0.465 | Train Accuracy: 77.100 | Test Loss: 0.486 | Test Accuracy: 76.060 | Balance Accuracy: 0.722 | Precision: 0.767 | Recall: 0.882\n",
      "Epoch : 104\n"
     ]
    },
    {
     "name": "stderr",
     "output_type": "stream",
     "text": [
      "100%|██████████| 25/25 [00:00<00:00, 36.78it/s]\n"
     ]
    },
    {
     "name": "stdout",
     "output_type": "stream",
     "text": [
      "Train Loss: 0.463 | Train Accuracy: 77.029 | Test Loss: 0.486 | Test Accuracy: 75.970 | Balance Accuracy: 0.721 | Precision: 0.767 | Recall: 0.880\n",
      "Epoch : 105\n"
     ]
    },
    {
     "name": "stderr",
     "output_type": "stream",
     "text": [
      "100%|██████████| 25/25 [00:00<00:00, 36.04it/s]\n"
     ]
    },
    {
     "name": "stdout",
     "output_type": "stream",
     "text": [
      "Train Loss: 0.464 | Train Accuracy: 77.019 | Test Loss: 0.494 | Test Accuracy: 76.036 | Balance Accuracy: 0.721 | Precision: 0.766 | Recall: 0.884\n",
      "Epoch : 106\n"
     ]
    },
    {
     "name": "stderr",
     "output_type": "stream",
     "text": [
      "100%|██████████| 25/25 [00:00<00:00, 36.43it/s]\n"
     ]
    },
    {
     "name": "stdout",
     "output_type": "stream",
     "text": [
      "Train Loss: 0.463 | Train Accuracy: 77.104 | Test Loss: 0.486 | Test Accuracy: 76.072 | Balance Accuracy: 0.723 | Precision: 0.769 | Recall: 0.878\n",
      "Epoch : 107\n"
     ]
    },
    {
     "name": "stderr",
     "output_type": "stream",
     "text": [
      "100%|██████████| 25/25 [00:00<00:00, 36.33it/s]\n"
     ]
    },
    {
     "name": "stdout",
     "output_type": "stream",
     "text": [
      "Train Loss: 0.463 | Train Accuracy: 77.182 | Test Loss: 0.487 | Test Accuracy: 76.149 | Balance Accuracy: 0.721 | Precision: 0.766 | Recall: 0.887\n",
      "Epoch : 108\n"
     ]
    },
    {
     "name": "stderr",
     "output_type": "stream",
     "text": [
      "100%|██████████| 25/25 [00:00<00:00, 35.99it/s]\n"
     ]
    },
    {
     "name": "stdout",
     "output_type": "stream",
     "text": [
      "Train Loss: 0.463 | Train Accuracy: 77.138 | Test Loss: 0.489 | Test Accuracy: 76.048 | Balance Accuracy: 0.722 | Precision: 0.767 | Recall: 0.883\n",
      "Epoch : 109\n"
     ]
    },
    {
     "name": "stderr",
     "output_type": "stream",
     "text": [
      "100%|██████████| 25/25 [00:00<00:00, 35.30it/s]\n"
     ]
    },
    {
     "name": "stdout",
     "output_type": "stream",
     "text": [
      "Train Loss: 0.463 | Train Accuracy: 77.146 | Test Loss: 0.487 | Test Accuracy: 75.934 | Balance Accuracy: 0.722 | Precision: 0.768 | Recall: 0.876\n",
      "Epoch : 110\n"
     ]
    },
    {
     "name": "stderr",
     "output_type": "stream",
     "text": [
      "100%|██████████| 25/25 [00:00<00:00, 36.41it/s]\n"
     ]
    },
    {
     "name": "stdout",
     "output_type": "stream",
     "text": [
      "Train Loss: 0.463 | Train Accuracy: 77.100 | Test Loss: 0.484 | Test Accuracy: 76.036 | Balance Accuracy: 0.721 | Precision: 0.767 | Recall: 0.883\n",
      "Epoch : 111\n"
     ]
    },
    {
     "name": "stderr",
     "output_type": "stream",
     "text": [
      "100%|██████████| 25/25 [00:00<00:00, 35.37it/s]\n"
     ]
    },
    {
     "name": "stdout",
     "output_type": "stream",
     "text": [
      "Train Loss: 0.462 | Train Accuracy: 76.999 | Test Loss: 0.486 | Test Accuracy: 76.125 | Balance Accuracy: 0.720 | Precision: 0.764 | Recall: 0.890\n",
      "Epoch : 112\n"
     ]
    },
    {
     "name": "stderr",
     "output_type": "stream",
     "text": [
      "100%|██████████| 25/25 [00:00<00:00, 35.66it/s]\n"
     ]
    },
    {
     "name": "stdout",
     "output_type": "stream",
     "text": [
      "Train Loss: 0.462 | Train Accuracy: 77.200 | Test Loss: 0.489 | Test Accuracy: 76.000 | Balance Accuracy: 0.723 | Precision: 0.769 | Recall: 0.876\n",
      "Epoch : 113\n"
     ]
    },
    {
     "name": "stderr",
     "output_type": "stream",
     "text": [
      "100%|██████████| 25/25 [00:00<00:00, 37.21it/s]\n"
     ]
    },
    {
     "name": "stdout",
     "output_type": "stream",
     "text": [
      "Train Loss: 0.462 | Train Accuracy: 77.238 | Test Loss: 0.488 | Test Accuracy: 76.090 | Balance Accuracy: 0.719 | Precision: 0.763 | Recall: 0.892\n",
      "Epoch : 114\n"
     ]
    },
    {
     "name": "stderr",
     "output_type": "stream",
     "text": [
      "100%|██████████| 25/25 [00:00<00:00, 37.19it/s]\n"
     ]
    },
    {
     "name": "stdout",
     "output_type": "stream",
     "text": [
      "Train Loss: 0.460 | Train Accuracy: 77.198 | Test Loss: 0.492 | Test Accuracy: 76.084 | Balance Accuracy: 0.725 | Precision: 0.772 | Recall: 0.873\n",
      "Epoch : 115\n"
     ]
    },
    {
     "name": "stderr",
     "output_type": "stream",
     "text": [
      "100%|██████████| 25/25 [00:00<00:00, 36.98it/s]\n"
     ]
    },
    {
     "name": "stdout",
     "output_type": "stream",
     "text": [
      "Train Loss: 0.459 | Train Accuracy: 77.491 | Test Loss: 0.488 | Test Accuracy: 76.048 | Balance Accuracy: 0.723 | Precision: 0.770 | Recall: 0.877\n",
      "Epoch : 116\n"
     ]
    },
    {
     "name": "stderr",
     "output_type": "stream",
     "text": [
      "100%|██████████| 25/25 [00:00<00:00, 36.05it/s]\n"
     ]
    },
    {
     "name": "stdout",
     "output_type": "stream",
     "text": [
      "Train Loss: 0.460 | Train Accuracy: 77.499 | Test Loss: 0.491 | Test Accuracy: 76.084 | Balance Accuracy: 0.723 | Precision: 0.768 | Recall: 0.880\n",
      "Epoch : 117\n"
     ]
    },
    {
     "name": "stderr",
     "output_type": "stream",
     "text": [
      "100%|██████████| 25/25 [00:00<00:00, 37.01it/s]\n"
     ]
    },
    {
     "name": "stdout",
     "output_type": "stream",
     "text": [
      "Train Loss: 0.459 | Train Accuracy: 77.357 | Test Loss: 0.490 | Test Accuracy: 76.096 | Balance Accuracy: 0.723 | Precision: 0.768 | Recall: 0.880\n",
      "Epoch : 118\n"
     ]
    },
    {
     "name": "stderr",
     "output_type": "stream",
     "text": [
      "100%|██████████| 25/25 [00:00<00:00, 37.13it/s]\n"
     ]
    },
    {
     "name": "stdout",
     "output_type": "stream",
     "text": [
      "Train Loss: 0.459 | Train Accuracy: 77.477 | Test Loss: 0.490 | Test Accuracy: 76.060 | Balance Accuracy: 0.718 | Precision: 0.762 | Recall: 0.894\n",
      "Epoch : 119\n"
     ]
    },
    {
     "name": "stderr",
     "output_type": "stream",
     "text": [
      "100%|██████████| 25/25 [00:00<00:00, 36.21it/s]\n"
     ]
    },
    {
     "name": "stdout",
     "output_type": "stream",
     "text": [
      "Train Loss: 0.458 | Train Accuracy: 77.425 | Test Loss: 0.487 | Test Accuracy: 76.149 | Balance Accuracy: 0.722 | Precision: 0.766 | Recall: 0.886\n",
      "Epoch : 120\n"
     ]
    },
    {
     "name": "stderr",
     "output_type": "stream",
     "text": [
      "100%|██████████| 25/25 [00:00<00:00, 37.03it/s]\n"
     ]
    },
    {
     "name": "stdout",
     "output_type": "stream",
     "text": [
      "Train Loss: 0.459 | Train Accuracy: 77.395 | Test Loss: 0.493 | Test Accuracy: 76.084 | Balance Accuracy: 0.726 | Precision: 0.774 | Recall: 0.869\n",
      "Epoch : 121\n"
     ]
    },
    {
     "name": "stderr",
     "output_type": "stream",
     "text": [
      "100%|██████████| 25/25 [00:00<00:00, 34.49it/s]\n"
     ]
    },
    {
     "name": "stdout",
     "output_type": "stream",
     "text": [
      "Train Loss: 0.458 | Train Accuracy: 77.371 | Test Loss: 0.493 | Test Accuracy: 76.012 | Balance Accuracy: 0.720 | Precision: 0.765 | Recall: 0.885\n",
      "Epoch : 122\n"
     ]
    },
    {
     "name": "stderr",
     "output_type": "stream",
     "text": [
      "100%|██████████| 25/25 [00:00<00:00, 35.74it/s]\n"
     ]
    },
    {
     "name": "stdout",
     "output_type": "stream",
     "text": [
      "Train Loss: 0.456 | Train Accuracy: 77.548 | Test Loss: 0.490 | Test Accuracy: 76.072 | Balance Accuracy: 0.723 | Precision: 0.769 | Recall: 0.879\n",
      "Epoch : 123\n"
     ]
    },
    {
     "name": "stderr",
     "output_type": "stream",
     "text": [
      "100%|██████████| 25/25 [00:00<00:00, 35.61it/s]\n"
     ]
    },
    {
     "name": "stdout",
     "output_type": "stream",
     "text": [
      "Train Loss: 0.458 | Train Accuracy: 77.477 | Test Loss: 0.489 | Test Accuracy: 75.940 | Balance Accuracy: 0.724 | Precision: 0.772 | Recall: 0.870\n",
      "Epoch : 124\n"
     ]
    },
    {
     "name": "stderr",
     "output_type": "stream",
     "text": [
      "100%|██████████| 25/25 [00:00<00:00, 35.32it/s]\n"
     ]
    },
    {
     "name": "stdout",
     "output_type": "stream",
     "text": [
      "Train Loss: 0.457 | Train Accuracy: 77.540 | Test Loss: 0.489 | Test Accuracy: 76.036 | Balance Accuracy: 0.723 | Precision: 0.769 | Recall: 0.879\n",
      "Epoch : 125\n"
     ]
    },
    {
     "name": "stderr",
     "output_type": "stream",
     "text": [
      "100%|██████████| 25/25 [00:00<00:00, 37.03it/s]\n"
     ]
    },
    {
     "name": "stdout",
     "output_type": "stream",
     "text": [
      "Train Loss: 0.458 | Train Accuracy: 77.349 | Test Loss: 0.491 | Test Accuracy: 76.161 | Balance Accuracy: 0.722 | Precision: 0.766 | Recall: 0.887\n",
      "Epoch : 126\n"
     ]
    },
    {
     "name": "stderr",
     "output_type": "stream",
     "text": [
      "100%|██████████| 25/25 [00:00<00:00, 35.91it/s]\n"
     ]
    },
    {
     "name": "stdout",
     "output_type": "stream",
     "text": [
      "Train Loss: 0.456 | Train Accuracy: 77.608 | Test Loss: 0.490 | Test Accuracy: 76.113 | Balance Accuracy: 0.724 | Precision: 0.770 | Recall: 0.877\n",
      "Epoch : 127\n"
     ]
    },
    {
     "name": "stderr",
     "output_type": "stream",
     "text": [
      "100%|██████████| 25/25 [00:00<00:00, 35.09it/s]\n"
     ]
    },
    {
     "name": "stdout",
     "output_type": "stream",
     "text": [
      "Train Loss: 0.456 | Train Accuracy: 77.532 | Test Loss: 0.489 | Test Accuracy: 76.036 | Balance Accuracy: 0.722 | Precision: 0.768 | Recall: 0.880\n",
      "Epoch : 128\n"
     ]
    },
    {
     "name": "stderr",
     "output_type": "stream",
     "text": [
      "100%|██████████| 25/25 [00:00<00:00, 35.97it/s]\n"
     ]
    },
    {
     "name": "stdout",
     "output_type": "stream",
     "text": [
      "Train Loss: 0.454 | Train Accuracy: 77.759 | Test Loss: 0.489 | Test Accuracy: 76.018 | Balance Accuracy: 0.720 | Precision: 0.765 | Recall: 0.885\n",
      "Epoch : 129\n"
     ]
    },
    {
     "name": "stderr",
     "output_type": "stream",
     "text": [
      "100%|██████████| 25/25 [00:00<00:00, 36.05it/s]\n"
     ]
    },
    {
     "name": "stdout",
     "output_type": "stream",
     "text": [
      "Train Loss: 0.455 | Train Accuracy: 77.532 | Test Loss: 0.489 | Test Accuracy: 76.078 | Balance Accuracy: 0.721 | Precision: 0.766 | Recall: 0.885\n",
      "Epoch : 130\n"
     ]
    },
    {
     "name": "stderr",
     "output_type": "stream",
     "text": [
      "100%|██████████| 25/25 [00:00<00:00, 35.20it/s]\n"
     ]
    },
    {
     "name": "stdout",
     "output_type": "stream",
     "text": [
      "Train Loss: 0.453 | Train Accuracy: 77.648 | Test Loss: 0.491 | Test Accuracy: 76.036 | Balance Accuracy: 0.723 | Precision: 0.770 | Recall: 0.876\n",
      "Epoch : 131\n"
     ]
    },
    {
     "name": "stderr",
     "output_type": "stream",
     "text": [
      "100%|██████████| 25/25 [00:00<00:00, 35.30it/s]\n"
     ]
    },
    {
     "name": "stdout",
     "output_type": "stream",
     "text": [
      "Train Loss: 0.455 | Train Accuracy: 77.620 | Test Loss: 0.487 | Test Accuracy: 75.988 | Balance Accuracy: 0.722 | Precision: 0.768 | Recall: 0.878\n",
      "Epoch : 132\n"
     ]
    },
    {
     "name": "stderr",
     "output_type": "stream",
     "text": [
      "100%|██████████| 25/25 [00:00<00:00, 35.09it/s]\n"
     ]
    },
    {
     "name": "stdout",
     "output_type": "stream",
     "text": [
      "Train Loss: 0.451 | Train Accuracy: 77.709 | Test Loss: 0.490 | Test Accuracy: 75.994 | Balance Accuracy: 0.723 | Precision: 0.770 | Recall: 0.875\n",
      "Epoch : 133\n"
     ]
    },
    {
     "name": "stderr",
     "output_type": "stream",
     "text": [
      "100%|██████████| 25/25 [00:00<00:00, 36.75it/s]\n"
     ]
    },
    {
     "name": "stdout",
     "output_type": "stream",
     "text": [
      "Train Loss: 0.453 | Train Accuracy: 77.556 | Test Loss: 0.489 | Test Accuracy: 76.215 | Balance Accuracy: 0.725 | Precision: 0.770 | Recall: 0.879\n",
      "Epoch : 134\n"
     ]
    },
    {
     "name": "stderr",
     "output_type": "stream",
     "text": [
      "100%|██████████| 25/25 [00:00<00:00, 35.91it/s]\n"
     ]
    },
    {
     "name": "stdout",
     "output_type": "stream",
     "text": [
      "Train Loss: 0.452 | Train Accuracy: 77.773 | Test Loss: 0.496 | Test Accuracy: 76.131 | Balance Accuracy: 0.723 | Precision: 0.768 | Recall: 0.881\n",
      "Epoch : 135\n"
     ]
    },
    {
     "name": "stderr",
     "output_type": "stream",
     "text": [
      "100%|██████████| 25/25 [00:00<00:00, 34.36it/s]\n"
     ]
    },
    {
     "name": "stdout",
     "output_type": "stream",
     "text": [
      "Train Loss: 0.453 | Train Accuracy: 77.618 | Test Loss: 0.493 | Test Accuracy: 76.018 | Balance Accuracy: 0.723 | Precision: 0.769 | Recall: 0.877\n",
      "Epoch : 136\n"
     ]
    },
    {
     "name": "stderr",
     "output_type": "stream",
     "text": [
      "100%|██████████| 25/25 [00:00<00:00, 36.12it/s]\n"
     ]
    },
    {
     "name": "stdout",
     "output_type": "stream",
     "text": [
      "Train Loss: 0.452 | Train Accuracy: 77.873 | Test Loss: 0.493 | Test Accuracy: 76.060 | Balance Accuracy: 0.721 | Precision: 0.766 | Recall: 0.885\n",
      "Epoch : 137\n"
     ]
    },
    {
     "name": "stderr",
     "output_type": "stream",
     "text": [
      "100%|██████████| 25/25 [00:00<00:00, 36.13it/s]\n"
     ]
    },
    {
     "name": "stdout",
     "output_type": "stream",
     "text": [
      "Train Loss: 0.450 | Train Accuracy: 77.932 | Test Loss: 0.496 | Test Accuracy: 76.012 | Balance Accuracy: 0.723 | Precision: 0.769 | Recall: 0.876\n",
      "Epoch : 138\n"
     ]
    },
    {
     "name": "stderr",
     "output_type": "stream",
     "text": [
      "100%|██████████| 25/25 [00:00<00:00, 35.26it/s]\n"
     ]
    },
    {
     "name": "stdout",
     "output_type": "stream",
     "text": [
      "Train Loss: 0.450 | Train Accuracy: 78.060 | Test Loss: 0.492 | Test Accuracy: 76.042 | Balance Accuracy: 0.721 | Precision: 0.765 | Recall: 0.885\n",
      "Epoch : 139\n"
     ]
    },
    {
     "name": "stderr",
     "output_type": "stream",
     "text": [
      "100%|██████████| 25/25 [00:00<00:00, 34.97it/s]\n"
     ]
    },
    {
     "name": "stdout",
     "output_type": "stream",
     "text": [
      "Train Loss: 0.451 | Train Accuracy: 77.877 | Test Loss: 0.488 | Test Accuracy: 75.982 | Balance Accuracy: 0.722 | Precision: 0.767 | Recall: 0.880\n",
      "Epoch : 140\n"
     ]
    },
    {
     "name": "stderr",
     "output_type": "stream",
     "text": [
      "100%|██████████| 25/25 [00:00<00:00, 33.63it/s]\n"
     ]
    },
    {
     "name": "stdout",
     "output_type": "stream",
     "text": [
      "Train Loss: 0.449 | Train Accuracy: 77.899 | Test Loss: 0.491 | Test Accuracy: 76.137 | Balance Accuracy: 0.721 | Precision: 0.765 | Recall: 0.889\n",
      "Epoch : 141\n"
     ]
    },
    {
     "name": "stderr",
     "output_type": "stream",
     "text": [
      "100%|██████████| 25/25 [00:00<00:00, 37.02it/s]\n"
     ]
    },
    {
     "name": "stdout",
     "output_type": "stream",
     "text": [
      "Train Loss: 0.450 | Train Accuracy: 78.109 | Test Loss: 0.492 | Test Accuracy: 76.048 | Balance Accuracy: 0.724 | Precision: 0.770 | Recall: 0.876\n",
      "Epoch : 142\n"
     ]
    },
    {
     "name": "stderr",
     "output_type": "stream",
     "text": [
      "100%|██████████| 25/25 [00:00<00:00, 35.32it/s]\n"
     ]
    },
    {
     "name": "stdout",
     "output_type": "stream",
     "text": [
      "Train Loss: 0.448 | Train Accuracy: 78.086 | Test Loss: 0.495 | Test Accuracy: 76.024 | Balance Accuracy: 0.719 | Precision: 0.764 | Recall: 0.889\n",
      "Epoch : 143\n"
     ]
    },
    {
     "name": "stderr",
     "output_type": "stream",
     "text": [
      "100%|██████████| 25/25 [00:00<00:00, 36.05it/s]\n"
     ]
    },
    {
     "name": "stdout",
     "output_type": "stream",
     "text": [
      "Train Loss: 0.448 | Train Accuracy: 78.086 | Test Loss: 0.490 | Test Accuracy: 76.072 | Balance Accuracy: 0.723 | Precision: 0.769 | Recall: 0.878\n",
      "Epoch : 144\n"
     ]
    },
    {
     "name": "stderr",
     "output_type": "stream",
     "text": [
      "100%|██████████| 25/25 [00:00<00:00, 34.46it/s]\n"
     ]
    },
    {
     "name": "stdout",
     "output_type": "stream",
     "text": [
      "Train Loss: 0.449 | Train Accuracy: 77.807 | Test Loss: 0.493 | Test Accuracy: 76.006 | Balance Accuracy: 0.722 | Precision: 0.767 | Recall: 0.881\n",
      "Epoch : 145\n"
     ]
    },
    {
     "name": "stderr",
     "output_type": "stream",
     "text": [
      "100%|██████████| 25/25 [00:00<00:00, 35.48it/s]\n"
     ]
    },
    {
     "name": "stdout",
     "output_type": "stream",
     "text": [
      "Train Loss: 0.447 | Train Accuracy: 78.076 | Test Loss: 0.494 | Test Accuracy: 75.940 | Balance Accuracy: 0.725 | Precision: 0.772 | Recall: 0.868\n",
      "Epoch : 146\n"
     ]
    },
    {
     "name": "stderr",
     "output_type": "stream",
     "text": [
      "100%|██████████| 25/25 [00:00<00:00, 36.24it/s]\n"
     ]
    },
    {
     "name": "stdout",
     "output_type": "stream",
     "text": [
      "Train Loss: 0.448 | Train Accuracy: 78.030 | Test Loss: 0.495 | Test Accuracy: 76.137 | Balance Accuracy: 0.722 | Precision: 0.767 | Recall: 0.885\n",
      "Epoch : 147\n"
     ]
    },
    {
     "name": "stderr",
     "output_type": "stream",
     "text": [
      "100%|██████████| 25/25 [00:00<00:00, 35.80it/s]\n"
     ]
    },
    {
     "name": "stdout",
     "output_type": "stream",
     "text": [
      "Train Loss: 0.449 | Train Accuracy: 77.912 | Test Loss: 0.490 | Test Accuracy: 76.209 | Balance Accuracy: 0.723 | Precision: 0.768 | Recall: 0.883\n",
      "Epoch : 148\n"
     ]
    },
    {
     "name": "stderr",
     "output_type": "stream",
     "text": [
      "100%|██████████| 25/25 [00:00<00:00, 36.35it/s]\n"
     ]
    },
    {
     "name": "stdout",
     "output_type": "stream",
     "text": [
      "Train Loss: 0.447 | Train Accuracy: 78.105 | Test Loss: 0.492 | Test Accuracy: 76.161 | Balance Accuracy: 0.724 | Precision: 0.769 | Recall: 0.881\n",
      "Epoch : 149\n"
     ]
    },
    {
     "name": "stderr",
     "output_type": "stream",
     "text": [
      "100%|██████████| 25/25 [00:00<00:00, 36.27it/s]\n"
     ]
    },
    {
     "name": "stdout",
     "output_type": "stream",
     "text": [
      "Train Loss: 0.446 | Train Accuracy: 78.247 | Test Loss: 0.494 | Test Accuracy: 76.191 | Balance Accuracy: 0.721 | Precision: 0.765 | Recall: 0.890\n",
      "Epoch : 150\n"
     ]
    },
    {
     "name": "stderr",
     "output_type": "stream",
     "text": [
      "100%|██████████| 25/25 [00:00<00:00, 34.97it/s]\n"
     ]
    },
    {
     "name": "stdout",
     "output_type": "stream",
     "text": [
      "Train Loss: 0.446 | Train Accuracy: 78.153 | Test Loss: 0.493 | Test Accuracy: 75.988 | Balance Accuracy: 0.727 | Precision: 0.776 | Recall: 0.862\n",
      "Epoch : 151\n"
     ]
    },
    {
     "name": "stderr",
     "output_type": "stream",
     "text": [
      "100%|██████████| 25/25 [00:00<00:00, 36.21it/s]\n"
     ]
    },
    {
     "name": "stdout",
     "output_type": "stream",
     "text": [
      "Train Loss: 0.446 | Train Accuracy: 78.105 | Test Loss: 0.497 | Test Accuracy: 76.137 | Balance Accuracy: 0.722 | Precision: 0.767 | Recall: 0.885\n",
      "Epoch : 152\n"
     ]
    },
    {
     "name": "stderr",
     "output_type": "stream",
     "text": [
      "100%|██████████| 25/25 [00:00<00:00, 35.25it/s]\n"
     ]
    },
    {
     "name": "stdout",
     "output_type": "stream",
     "text": [
      "Train Loss: 0.446 | Train Accuracy: 78.078 | Test Loss: 0.490 | Test Accuracy: 76.191 | Balance Accuracy: 0.724 | Precision: 0.769 | Recall: 0.881\n",
      "Epoch : 153\n"
     ]
    },
    {
     "name": "stderr",
     "output_type": "stream",
     "text": [
      "100%|██████████| 25/25 [00:00<00:00, 35.88it/s]\n"
     ]
    },
    {
     "name": "stdout",
     "output_type": "stream",
     "text": [
      "Train Loss: 0.444 | Train Accuracy: 78.215 | Test Loss: 0.496 | Test Accuracy: 76.084 | Balance Accuracy: 0.724 | Precision: 0.770 | Recall: 0.876\n",
      "Epoch : 154\n"
     ]
    },
    {
     "name": "stderr",
     "output_type": "stream",
     "text": [
      "100%|██████████| 25/25 [00:00<00:00, 35.19it/s]\n"
     ]
    },
    {
     "name": "stdout",
     "output_type": "stream",
     "text": [
      "Train Loss: 0.446 | Train Accuracy: 78.147 | Test Loss: 0.493 | Test Accuracy: 76.018 | Balance Accuracy: 0.725 | Precision: 0.772 | Recall: 0.871\n",
      "Epoch : 155\n"
     ]
    },
    {
     "name": "stderr",
     "output_type": "stream",
     "text": [
      "100%|██████████| 25/25 [00:00<00:00, 35.02it/s]\n"
     ]
    },
    {
     "name": "stdout",
     "output_type": "stream",
     "text": [
      "Train Loss: 0.445 | Train Accuracy: 78.376 | Test Loss: 0.493 | Test Accuracy: 75.916 | Balance Accuracy: 0.723 | Precision: 0.770 | Recall: 0.873\n",
      "Epoch : 156\n"
     ]
    },
    {
     "name": "stderr",
     "output_type": "stream",
     "text": [
      "100%|██████████| 25/25 [00:00<00:00, 35.52it/s]\n"
     ]
    },
    {
     "name": "stdout",
     "output_type": "stream",
     "text": [
      "Train Loss: 0.443 | Train Accuracy: 78.452 | Test Loss: 0.494 | Test Accuracy: 76.078 | Balance Accuracy: 0.722 | Precision: 0.767 | Recall: 0.882\n",
      "Epoch : 157\n"
     ]
    },
    {
     "name": "stderr",
     "output_type": "stream",
     "text": [
      "100%|██████████| 25/25 [00:00<00:00, 35.01it/s]\n"
     ]
    },
    {
     "name": "stdout",
     "output_type": "stream",
     "text": [
      "Train Loss: 0.445 | Train Accuracy: 78.131 | Test Loss: 0.490 | Test Accuracy: 76.048 | Balance Accuracy: 0.722 | Precision: 0.767 | Recall: 0.882\n",
      "Epoch : 158\n"
     ]
    },
    {
     "name": "stderr",
     "output_type": "stream",
     "text": [
      "100%|██████████| 25/25 [00:00<00:00, 34.63it/s]\n"
     ]
    },
    {
     "name": "stdout",
     "output_type": "stream",
     "text": [
      "Train Loss: 0.443 | Train Accuracy: 78.360 | Test Loss: 0.493 | Test Accuracy: 75.851 | Balance Accuracy: 0.725 | Precision: 0.773 | Recall: 0.865\n",
      "Epoch : 159\n"
     ]
    },
    {
     "name": "stderr",
     "output_type": "stream",
     "text": [
      "100%|██████████| 25/25 [00:00<00:00, 34.95it/s]\n"
     ]
    },
    {
     "name": "stdout",
     "output_type": "stream",
     "text": [
      "Train Loss: 0.442 | Train Accuracy: 78.460 | Test Loss: 0.497 | Test Accuracy: 76.006 | Balance Accuracy: 0.722 | Precision: 0.767 | Recall: 0.881\n",
      "Epoch : 160\n"
     ]
    },
    {
     "name": "stderr",
     "output_type": "stream",
     "text": [
      "100%|██████████| 25/25 [00:00<00:00, 35.59it/s]\n"
     ]
    },
    {
     "name": "stdout",
     "output_type": "stream",
     "text": [
      "Train Loss: 0.443 | Train Accuracy: 78.287 | Test Loss: 0.496 | Test Accuracy: 75.863 | Balance Accuracy: 0.723 | Precision: 0.771 | Recall: 0.869\n",
      "Epoch : 161\n"
     ]
    },
    {
     "name": "stderr",
     "output_type": "stream",
     "text": [
      "100%|██████████| 25/25 [00:00<00:00, 35.62it/s]\n"
     ]
    },
    {
     "name": "stdout",
     "output_type": "stream",
     "text": [
      "Train Loss: 0.442 | Train Accuracy: 78.342 | Test Loss: 0.494 | Test Accuracy: 75.976 | Balance Accuracy: 0.724 | Precision: 0.771 | Recall: 0.872\n",
      "Epoch : 162\n"
     ]
    },
    {
     "name": "stderr",
     "output_type": "stream",
     "text": [
      "100%|██████████| 25/25 [00:00<00:00, 34.97it/s]\n"
     ]
    },
    {
     "name": "stdout",
     "output_type": "stream",
     "text": [
      "Train Loss: 0.440 | Train Accuracy: 78.545 | Test Loss: 0.490 | Test Accuracy: 75.940 | Balance Accuracy: 0.725 | Precision: 0.773 | Recall: 0.867\n",
      "Epoch : 163\n"
     ]
    },
    {
     "name": "stderr",
     "output_type": "stream",
     "text": [
      "100%|██████████| 25/25 [00:00<00:00, 36.05it/s]\n"
     ]
    },
    {
     "name": "stdout",
     "output_type": "stream",
     "text": [
      "Train Loss: 0.444 | Train Accuracy: 78.147 | Test Loss: 0.497 | Test Accuracy: 76.006 | Balance Accuracy: 0.723 | Precision: 0.769 | Recall: 0.877\n",
      "Epoch : 164\n"
     ]
    },
    {
     "name": "stderr",
     "output_type": "stream",
     "text": [
      "100%|██████████| 25/25 [00:00<00:00, 35.37it/s]\n"
     ]
    },
    {
     "name": "stdout",
     "output_type": "stream",
     "text": [
      "Train Loss: 0.443 | Train Accuracy: 78.320 | Test Loss: 0.492 | Test Accuracy: 75.934 | Balance Accuracy: 0.724 | Precision: 0.771 | Recall: 0.870\n",
      "Epoch : 165\n"
     ]
    },
    {
     "name": "stderr",
     "output_type": "stream",
     "text": [
      "100%|██████████| 25/25 [00:00<00:00, 35.13it/s]\n"
     ]
    },
    {
     "name": "stdout",
     "output_type": "stream",
     "text": [
      "Train Loss: 0.441 | Train Accuracy: 78.312 | Test Loss: 0.496 | Test Accuracy: 75.952 | Balance Accuracy: 0.720 | Precision: 0.765 | Recall: 0.884\n",
      "Epoch : 166\n"
     ]
    },
    {
     "name": "stderr",
     "output_type": "stream",
     "text": [
      "100%|██████████| 25/25 [00:00<00:00, 37.09it/s]\n"
     ]
    },
    {
     "name": "stdout",
     "output_type": "stream",
     "text": [
      "Train Loss: 0.441 | Train Accuracy: 78.547 | Test Loss: 0.493 | Test Accuracy: 75.952 | Balance Accuracy: 0.722 | Precision: 0.768 | Recall: 0.877\n",
      "Epoch : 167\n"
     ]
    },
    {
     "name": "stderr",
     "output_type": "stream",
     "text": [
      "100%|██████████| 25/25 [00:00<00:00, 35.46it/s]\n"
     ]
    },
    {
     "name": "stdout",
     "output_type": "stream",
     "text": [
      "Train Loss: 0.441 | Train Accuracy: 78.460 | Test Loss: 0.492 | Test Accuracy: 75.952 | Balance Accuracy: 0.722 | Precision: 0.769 | Recall: 0.877\n",
      "Epoch : 168\n"
     ]
    },
    {
     "name": "stderr",
     "output_type": "stream",
     "text": [
      "100%|██████████| 25/25 [00:00<00:00, 34.46it/s]\n"
     ]
    },
    {
     "name": "stdout",
     "output_type": "stream",
     "text": [
      "Train Loss: 0.441 | Train Accuracy: 78.472 | Test Loss: 0.496 | Test Accuracy: 76.107 | Balance Accuracy: 0.724 | Precision: 0.770 | Recall: 0.878\n",
      "Epoch : 169\n"
     ]
    },
    {
     "name": "stderr",
     "output_type": "stream",
     "text": [
      "100%|██████████| 25/25 [00:00<00:00, 35.80it/s]\n"
     ]
    },
    {
     "name": "stdout",
     "output_type": "stream",
     "text": [
      "Train Loss: 0.440 | Train Accuracy: 78.440 | Test Loss: 0.494 | Test Accuracy: 76.113 | Balance Accuracy: 0.722 | Precision: 0.767 | Recall: 0.883\n",
      "Epoch : 170\n"
     ]
    },
    {
     "name": "stderr",
     "output_type": "stream",
     "text": [
      "100%|██████████| 25/25 [00:00<00:00, 36.79it/s]\n"
     ]
    },
    {
     "name": "stdout",
     "output_type": "stream",
     "text": [
      "Train Loss: 0.439 | Train Accuracy: 78.500 | Test Loss: 0.494 | Test Accuracy: 75.976 | Balance Accuracy: 0.726 | Precision: 0.774 | Recall: 0.865\n",
      "Epoch : 171\n"
     ]
    },
    {
     "name": "stderr",
     "output_type": "stream",
     "text": [
      "100%|██████████| 25/25 [00:00<00:00, 34.81it/s]\n"
     ]
    },
    {
     "name": "stdout",
     "output_type": "stream",
     "text": [
      "Train Loss: 0.437 | Train Accuracy: 78.708 | Test Loss: 0.495 | Test Accuracy: 76.066 | Balance Accuracy: 0.726 | Precision: 0.773 | Recall: 0.870\n",
      "Epoch : 172\n"
     ]
    },
    {
     "name": "stderr",
     "output_type": "stream",
     "text": [
      "100%|██████████| 25/25 [00:00<00:00, 35.06it/s]\n"
     ]
    },
    {
     "name": "stdout",
     "output_type": "stream",
     "text": [
      "Train Loss: 0.438 | Train Accuracy: 78.545 | Test Loss: 0.492 | Test Accuracy: 76.066 | Balance Accuracy: 0.723 | Precision: 0.769 | Recall: 0.879\n",
      "Epoch : 173\n"
     ]
    },
    {
     "name": "stderr",
     "output_type": "stream",
     "text": [
      "100%|██████████| 25/25 [00:00<00:00, 35.49it/s]\n"
     ]
    },
    {
     "name": "stdout",
     "output_type": "stream",
     "text": [
      "Train Loss: 0.438 | Train Accuracy: 78.539 | Test Loss: 0.494 | Test Accuracy: 76.119 | Balance Accuracy: 0.723 | Precision: 0.769 | Recall: 0.880\n",
      "Epoch : 174\n"
     ]
    },
    {
     "name": "stderr",
     "output_type": "stream",
     "text": [
      "100%|██████████| 25/25 [00:00<00:00, 36.87it/s]\n"
     ]
    },
    {
     "name": "stdout",
     "output_type": "stream",
     "text": [
      "Train Loss: 0.438 | Train Accuracy: 78.693 | Test Loss: 0.494 | Test Accuracy: 76.072 | Balance Accuracy: 0.726 | Precision: 0.773 | Recall: 0.870\n",
      "Epoch : 175\n"
     ]
    },
    {
     "name": "stderr",
     "output_type": "stream",
     "text": [
      "100%|██████████| 25/25 [00:00<00:00, 36.08it/s]\n"
     ]
    },
    {
     "name": "stdout",
     "output_type": "stream",
     "text": [
      "Train Loss: 0.438 | Train Accuracy: 78.695 | Test Loss: 0.500 | Test Accuracy: 76.066 | Balance Accuracy: 0.725 | Precision: 0.771 | Recall: 0.873\n",
      "Epoch : 176\n"
     ]
    },
    {
     "name": "stderr",
     "output_type": "stream",
     "text": [
      "100%|██████████| 25/25 [00:00<00:00, 37.78it/s]\n"
     ]
    },
    {
     "name": "stdout",
     "output_type": "stream",
     "text": [
      "Train Loss: 0.435 | Train Accuracy: 78.649 | Test Loss: 0.494 | Test Accuracy: 76.090 | Balance Accuracy: 0.726 | Precision: 0.773 | Recall: 0.870\n",
      "Epoch : 177\n"
     ]
    },
    {
     "name": "stderr",
     "output_type": "stream",
     "text": [
      "100%|██████████| 25/25 [00:00<00:00, 38.00it/s]\n"
     ]
    },
    {
     "name": "stdout",
     "output_type": "stream",
     "text": [
      "Train Loss: 0.435 | Train Accuracy: 78.812 | Test Loss: 0.494 | Test Accuracy: 76.090 | Balance Accuracy: 0.724 | Precision: 0.770 | Recall: 0.877\n",
      "Epoch : 178\n"
     ]
    },
    {
     "name": "stderr",
     "output_type": "stream",
     "text": [
      "100%|██████████| 25/25 [00:00<00:00, 35.97it/s]\n"
     ]
    },
    {
     "name": "stdout",
     "output_type": "stream",
     "text": [
      "Train Loss: 0.436 | Train Accuracy: 78.710 | Test Loss: 0.496 | Test Accuracy: 75.970 | Balance Accuracy: 0.724 | Precision: 0.772 | Recall: 0.870\n",
      "Epoch : 179\n"
     ]
    },
    {
     "name": "stderr",
     "output_type": "stream",
     "text": [
      "100%|██████████| 25/25 [00:00<00:00, 35.13it/s]\n"
     ]
    },
    {
     "name": "stdout",
     "output_type": "stream",
     "text": [
      "Train Loss: 0.437 | Train Accuracy: 78.641 | Test Loss: 0.493 | Test Accuracy: 75.994 | Balance Accuracy: 0.726 | Precision: 0.774 | Recall: 0.866\n",
      "Epoch : 180\n"
     ]
    },
    {
     "name": "stderr",
     "output_type": "stream",
     "text": [
      "100%|██████████| 25/25 [00:00<00:00, 35.97it/s]\n"
     ]
    },
    {
     "name": "stdout",
     "output_type": "stream",
     "text": [
      "Train Loss: 0.436 | Train Accuracy: 78.808 | Test Loss: 0.501 | Test Accuracy: 75.875 | Balance Accuracy: 0.721 | Precision: 0.768 | Recall: 0.876\n",
      "Epoch : 181\n"
     ]
    },
    {
     "name": "stderr",
     "output_type": "stream",
     "text": [
      "100%|██████████| 25/25 [00:00<00:00, 36.14it/s]\n"
     ]
    },
    {
     "name": "stdout",
     "output_type": "stream",
     "text": [
      "Train Loss: 0.436 | Train Accuracy: 78.778 | Test Loss: 0.496 | Test Accuracy: 76.000 | Balance Accuracy: 0.726 | Precision: 0.773 | Recall: 0.868\n",
      "Epoch : 182\n"
     ]
    },
    {
     "name": "stderr",
     "output_type": "stream",
     "text": [
      "100%|██████████| 25/25 [00:00<00:00, 34.80it/s]\n"
     ]
    },
    {
     "name": "stdout",
     "output_type": "stream",
     "text": [
      "Train Loss: 0.435 | Train Accuracy: 78.748 | Test Loss: 0.498 | Test Accuracy: 76.018 | Balance Accuracy: 0.727 | Precision: 0.775 | Recall: 0.865\n",
      "Epoch : 183\n"
     ]
    },
    {
     "name": "stderr",
     "output_type": "stream",
     "text": [
      "100%|██████████| 25/25 [00:00<00:00, 36.99it/s]\n"
     ]
    },
    {
     "name": "stdout",
     "output_type": "stream",
     "text": [
      "Train Loss: 0.435 | Train Accuracy: 78.957 | Test Loss: 0.493 | Test Accuracy: 75.994 | Balance Accuracy: 0.725 | Precision: 0.772 | Recall: 0.871\n",
      "Epoch : 184\n"
     ]
    },
    {
     "name": "stderr",
     "output_type": "stream",
     "text": [
      "100%|██████████| 25/25 [00:00<00:00, 35.12it/s]\n"
     ]
    },
    {
     "name": "stdout",
     "output_type": "stream",
     "text": [
      "Train Loss: 0.433 | Train Accuracy: 79.041 | Test Loss: 0.498 | Test Accuracy: 75.863 | Balance Accuracy: 0.726 | Precision: 0.775 | Recall: 0.860\n",
      "Epoch : 185\n"
     ]
    },
    {
     "name": "stderr",
     "output_type": "stream",
     "text": [
      "100%|██████████| 25/25 [00:00<00:00, 35.90it/s]\n"
     ]
    },
    {
     "name": "stdout",
     "output_type": "stream",
     "text": [
      "Train Loss: 0.434 | Train Accuracy: 78.812 | Test Loss: 0.497 | Test Accuracy: 75.875 | Balance Accuracy: 0.723 | Precision: 0.771 | Recall: 0.870\n",
      "Epoch : 186\n"
     ]
    },
    {
     "name": "stderr",
     "output_type": "stream",
     "text": [
      "100%|██████████| 25/25 [00:00<00:00, 33.67it/s]\n"
     ]
    },
    {
     "name": "stdout",
     "output_type": "stream",
     "text": [
      "Train Loss: 0.434 | Train Accuracy: 78.901 | Test Loss: 0.496 | Test Accuracy: 76.000 | Balance Accuracy: 0.721 | Precision: 0.767 | Recall: 0.881\n",
      "Epoch : 187\n"
     ]
    },
    {
     "name": "stderr",
     "output_type": "stream",
     "text": [
      "100%|██████████| 25/25 [00:00<00:00, 36.06it/s]\n"
     ]
    },
    {
     "name": "stdout",
     "output_type": "stream",
     "text": [
      "Train Loss: 0.432 | Train Accuracy: 79.029 | Test Loss: 0.498 | Test Accuracy: 75.791 | Balance Accuracy: 0.728 | Precision: 0.779 | Recall: 0.851\n",
      "Epoch : 188\n"
     ]
    },
    {
     "name": "stderr",
     "output_type": "stream",
     "text": [
      "100%|██████████| 25/25 [00:00<00:00, 35.13it/s]\n"
     ]
    },
    {
     "name": "stdout",
     "output_type": "stream",
     "text": [
      "Train Loss: 0.433 | Train Accuracy: 78.848 | Test Loss: 0.499 | Test Accuracy: 75.887 | Balance Accuracy: 0.723 | Precision: 0.771 | Recall: 0.871\n",
      "Epoch : 189\n"
     ]
    },
    {
     "name": "stderr",
     "output_type": "stream",
     "text": [
      "100%|██████████| 25/25 [00:00<00:00, 36.27it/s]\n"
     ]
    },
    {
     "name": "stdout",
     "output_type": "stream",
     "text": [
      "Train Loss: 0.432 | Train Accuracy: 78.909 | Test Loss: 0.498 | Test Accuracy: 76.030 | Balance Accuracy: 0.726 | Precision: 0.774 | Recall: 0.867\n",
      "Epoch : 190\n"
     ]
    },
    {
     "name": "stderr",
     "output_type": "stream",
     "text": [
      "100%|██████████| 25/25 [00:00<00:00, 36.02it/s]\n"
     ]
    },
    {
     "name": "stdout",
     "output_type": "stream",
     "text": [
      "Train Loss: 0.432 | Train Accuracy: 78.937 | Test Loss: 0.499 | Test Accuracy: 75.994 | Balance Accuracy: 0.725 | Precision: 0.772 | Recall: 0.870\n",
      "Epoch : 191\n"
     ]
    },
    {
     "name": "stderr",
     "output_type": "stream",
     "text": [
      "100%|██████████| 25/25 [00:00<00:00, 36.16it/s]\n"
     ]
    },
    {
     "name": "stdout",
     "output_type": "stream",
     "text": [
      "Train Loss: 0.431 | Train Accuracy: 78.993 | Test Loss: 0.496 | Test Accuracy: 76.024 | Balance Accuracy: 0.726 | Precision: 0.774 | Recall: 0.867\n",
      "Epoch : 192\n"
     ]
    },
    {
     "name": "stderr",
     "output_type": "stream",
     "text": [
      "100%|██████████| 25/25 [00:00<00:00, 35.99it/s]\n"
     ]
    },
    {
     "name": "stdout",
     "output_type": "stream",
     "text": [
      "Train Loss: 0.430 | Train Accuracy: 78.945 | Test Loss: 0.498 | Test Accuracy: 75.887 | Balance Accuracy: 0.723 | Precision: 0.770 | Recall: 0.871\n",
      "Epoch : 193\n"
     ]
    },
    {
     "name": "stderr",
     "output_type": "stream",
     "text": [
      "100%|██████████| 25/25 [00:00<00:00, 37.10it/s]\n"
     ]
    },
    {
     "name": "stdout",
     "output_type": "stream",
     "text": [
      "Train Loss: 0.432 | Train Accuracy: 78.917 | Test Loss: 0.497 | Test Accuracy: 75.982 | Balance Accuracy: 0.724 | Precision: 0.771 | Recall: 0.871\n",
      "Epoch : 194\n"
     ]
    },
    {
     "name": "stderr",
     "output_type": "stream",
     "text": [
      "100%|██████████| 25/25 [00:00<00:00, 35.77it/s]\n"
     ]
    },
    {
     "name": "stdout",
     "output_type": "stream",
     "text": [
      "Train Loss: 0.431 | Train Accuracy: 79.102 | Test Loss: 0.496 | Test Accuracy: 75.910 | Balance Accuracy: 0.722 | Precision: 0.769 | Recall: 0.875\n",
      "Epoch : 195\n"
     ]
    },
    {
     "name": "stderr",
     "output_type": "stream",
     "text": [
      "100%|██████████| 25/25 [00:00<00:00, 33.27it/s]\n"
     ]
    },
    {
     "name": "stdout",
     "output_type": "stream",
     "text": [
      "Train Loss: 0.432 | Train Accuracy: 78.900 | Test Loss: 0.501 | Test Accuracy: 75.952 | Balance Accuracy: 0.724 | Precision: 0.771 | Recall: 0.872\n",
      "Epoch : 196\n"
     ]
    },
    {
     "name": "stderr",
     "output_type": "stream",
     "text": [
      "100%|██████████| 25/25 [00:00<00:00, 35.15it/s]\n"
     ]
    },
    {
     "name": "stdout",
     "output_type": "stream",
     "text": [
      "Train Loss: 0.430 | Train Accuracy: 79.168 | Test Loss: 0.495 | Test Accuracy: 75.988 | Balance Accuracy: 0.726 | Precision: 0.773 | Recall: 0.867\n",
      "Epoch : 197\n"
     ]
    },
    {
     "name": "stderr",
     "output_type": "stream",
     "text": [
      "100%|██████████| 25/25 [00:00<00:00, 35.15it/s]\n"
     ]
    },
    {
     "name": "stdout",
     "output_type": "stream",
     "text": [
      "Train Loss: 0.432 | Train Accuracy: 78.989 | Test Loss: 0.501 | Test Accuracy: 76.000 | Balance Accuracy: 0.724 | Precision: 0.770 | Recall: 0.875\n",
      "Epoch : 198\n"
     ]
    },
    {
     "name": "stderr",
     "output_type": "stream",
     "text": [
      "100%|██████████| 25/25 [00:00<00:00, 35.21it/s]\n"
     ]
    },
    {
     "name": "stdout",
     "output_type": "stream",
     "text": [
      "Train Loss: 0.431 | Train Accuracy: 78.886 | Test Loss: 0.496 | Test Accuracy: 76.072 | Balance Accuracy: 0.723 | Precision: 0.768 | Recall: 0.880\n",
      "Epoch : 199\n"
     ]
    },
    {
     "name": "stderr",
     "output_type": "stream",
     "text": [
      "100%|██████████| 25/25 [00:00<00:00, 36.46it/s]\n"
     ]
    },
    {
     "name": "stdout",
     "output_type": "stream",
     "text": [
      "Train Loss: 0.430 | Train Accuracy: 78.949 | Test Loss: 0.500 | Test Accuracy: 76.072 | Balance Accuracy: 0.726 | Precision: 0.773 | Recall: 0.870\n",
      "Epoch : 200\n"
     ]
    },
    {
     "name": "stderr",
     "output_type": "stream",
     "text": [
      "100%|██████████| 25/25 [00:00<00:00, 35.34it/s]\n"
     ]
    },
    {
     "name": "stdout",
     "output_type": "stream",
     "text": [
      "Train Loss: 0.428 | Train Accuracy: 79.232 | Test Loss: 0.497 | Test Accuracy: 75.988 | Balance Accuracy: 0.727 | Precision: 0.775 | Recall: 0.863\n",
      "\n",
      "Average Balanced Accuracy: 0.714 | Average Precision: 0.761 | Average Recall: 0.884\n"
     ]
    },
    {
     "name": "stderr",
     "output_type": "stream",
     "text": [
      "100%|██████████| 9/9 [00:00<00:00, 51.70it/s]\n"
     ]
    },
    {
     "name": "stdout",
     "output_type": "stream",
     "text": [
      "Test Loss: 0.498 | Accuracy: 75.988\n"
     ]
    }
   ],
   "source": [
    "process_target(df, 'RCAST', Net3(43))"
   ]
  },
  {
   "cell_type": "code",
   "execution_count": 10,
   "metadata": {},
   "outputs": [
    {
     "data": {
      "image/png": "[encoded data removed]",
      "text/plain": [
       "<Figure size 2500x400 with 5 Axes>"
      ]
     },
     "metadata": {},
     "output_type": "display_data"
    }
   ],
   "source": [
    "# plot the loss and accuracy and\n",
    "metrics = {\n",
    "    'train_losses': train_losses,\n",
    "    'train_accu': train_accu,\n",
    "    'eval_losses': eval_losses,\n",
    "    'eval_accu': eval_accu,\n",
    "    'balance_accuracy_list': balance_accuracy_list,\n",
    "    'precision_list': precision_list,\n",
    "    'recall_list': recall_list\n",
    "}\n",
    "plot_metrics(metrics, ['loss', 'accuracy', 'balance_accuracy', 'recall', 'precision'])"
   ]
  },
  {
   "cell_type": "code",
   "execution_count": 11,
   "metadata": {},
   "outputs": [],
   "source": [
    "accuracy, precision, recall, balance_accuracy = test_model('models/FeedForwardNet/saved_model.pth', 'RCAST')"
   ]
  },
  {
   "cell_type": "code",
   "execution_count": 12,
   "metadata": {},
   "outputs": [
    {
     "name": "stdout",
     "output_type": "stream",
     "text": [
      "Accuracy: 0.760 | Precision: 0.775 | Recall: 0.863 | Balance Accuracy: 0.727\n"
     ]
    }
   ],
   "source": [
    "print(f'Accuracy: {accuracy:.3f} | Precision: {precision:.3f} | Recall: {recall:.3f} | Balance Accuracy: {balance_accuracy:.3f}')"
   ]
  }
 ],
 "metadata": {
  "kernelspec": {
   "display_name": "mlenv",
   "language": "python",
   "name": "python3"
  },
  "language_info": {
   "codemirror_mode": {
    "name": "ipython",
    "version": 3
   },
   "file_extension": ".py",
   "mimetype": "text/x-python",
   "name": "python",
   "nbconvert_exporter": "python",
   "pygments_lexer": "ipython3",
   "version": "3.11.4"
  },
  "orig_nbformat": 4
 },
 "nbformat": 4,
 "nbformat_minor": 2
}
